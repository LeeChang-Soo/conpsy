{
 "cells": [
  {
   "cell_type": "markdown",
   "metadata": {
    "collapsed": true
   },
   "source": [
    "# The Netflix Recommender System: Algorithms, Business Value, and Innovation"
   ]
  },
  {
   "cell_type": "markdown",
   "metadata": {},
   "source": [
    "* 싸이지먼트 / 소비자On - 딥추천 [1]\n",
    "* 김무성"
   ]
  },
  {
   "cell_type": "markdown",
   "metadata": {},
   "source": [
    "#### 참고자료\n",
    "* [2] <font color=\"red\">Netflix</font> 추천의 힘 10가지 - https://brunch.co.kr/@goodvc78/3"
   ]
  },
  {
   "cell_type": "markdown",
   "metadata": {
    "collapsed": true
   },
   "source": [
    "# Contents\n",
    "1. INTRODUCTION\n",
    "2. THE NETFLIX RECOMMENDER SYSTEM\n",
    "3. BUSINESS VALUE\n",
    "4. IMPROVING OUR ALGORITHMS"
   ]
  },
  {
   "cell_type": "markdown",
   "metadata": {
    "collapsed": true
   },
   "source": [
    "# 1. INTRODUCTION"
   ]
  },
  {
   "cell_type": "markdown",
   "metadata": {},
   "source": [
    "* Netflix lies at the intersection of the Internet and storytelling. \n",
    "* We are inventing Internet television. \n",
    "* Our main product and source of revenue is a subscription service that allows members to stream any video in our collection of movies and TV shows at any time on a wide range of Internet-connected devices. \n",
    "* As of this writing, we have more than 65 million members who stream more than 100 million hours of movies and TV shows per day.\n",
    "* A key pillar of our product is the recommender system that helps our members find videos to watch in every session.\n",
    "* Our recommender system is not one algorithm, but rather a collection of different algorithms serving different use cases that come together to create the complete Netflix experience."
   ]
  },
  {
   "cell_type": "markdown",
   "metadata": {
    "collapsed": true
   },
   "source": [
    "# 2. THE NETFLIX RECOMMENDER SYSTEM\n",
    "* 2.1. Personalized Video Ranker: PVR\n",
    "* 2.2. Top-N Video Ranker\n",
    "* 2.3. Trending Now\n",
    "* 2.4. Continue Watching\n",
    "* 2.5. Video-Video Similarity\n",
    "* 2.6. Page Generation: Row Selection and Ranking\n",
    "* 2.7. Evidence\n",
    "* 2.8. Search   \n",
    "* 2.9. Related Work"
   ]
  },
  {
   "cell_type": "markdown",
   "metadata": {},
   "source": [
    "Internet TV is about choice: \n",
    "* what to watch, when to watch, and where to watch, com-pared with linear broadcast and cable systems that offer whatever is now playing on perhaps 10 to 20 favorite channels. \n",
    "* But humans are surprisingly bad at choosing be- tween many options, quickly getting overwhelmed and choosing “none of the above” or making poor choices (e.g., see Schwartz [2015]).\n",
    "\n",
    "Consumer research suggests that \n",
    "* a typical Netflix member loses interest after per- haps 60 to 90 seconds of choosing, having reviewed 10 to 20 titles (perhaps 3 in detail) on one or two screens. \n",
    "* The user either finds something of interest or the risk of the user abandoning our service increases substantially.\n",
    "\n",
    "The recommender problem \n",
    "* is to make sure that on those two screens each member in our diverse pool will find something compelling to view, and will understand why it might be of interest.\n",
    "\n",
    "Historically, \n",
    "* the Netflix recommendation problem has been thought of as equivalent to the problem of predicting the number of stars that a person would rate a video after watching it, on a scale from 1 to 5. \n",
    "* We indeed relied on such an algorithm heavily when our main business was shipping DVDs by mail, \n",
    "    - partly because in that context, a star rating was the main feedback that we received that a member had actually watched the video.\n",
    "    \n",
    "Now, \n",
    "* we stream the content, and \n",
    "* have vast amounts of data that describe \n",
    "    - what each Netflix member watches, \n",
    "    - how each member watches (e.g., the device, time of day, day of week, intensity of watching), \n",
    "    - the place in our product in which each video was discovered, and\n",
    "    - even the recommendations that were shown but not played in each session. \n",
    "* These data and our resulting experiences improving the Netflix product have taught us that there are much better ways to help people find videos to watch than focusing only on those with a high predicted star rating."
   ]
  },
  {
   "cell_type": "markdown",
   "metadata": {},
   "source": [
    "<img src=\"figures/cap1.png\" width=600 />"
   ]
  },
  {
   "cell_type": "markdown",
   "metadata": {},
   "source": [
    "An example of our current TV homepage is shown in Figure 1. It has a matrix- like layout. Each entry in the matrix is a recommended video, and each row of videos contains recommendations with a similar “theme.” Rows are labeled according to their theme to make the theme transparent and (we think) more intuitive to our members."
   ]
  },
  {
   "cell_type": "markdown",
   "metadata": {},
   "source": [
    "<img src=\"https://t1.daumcdn.net/thumb/R1280x0/?fname=http://t1.daumcdn.net/brunch/service/user/Kvs/image/MfaT8lcL_k1gc4xO1urHjeE4pdg.png\" width=600 />"
   ]
  },
  {
   "cell_type": "markdown",
   "metadata": {
    "collapsed": true
   },
   "source": [
    "## 2.1. Personalized Video Ranker: PVR"
   ]
  },
  {
   "cell_type": "markdown",
   "metadata": {},
   "source": [
    "As its name suggests, this algorithm orders the entire catalog of videos (or subsets selected by genre or other filtering) for each member profile in a personalized way."
   ]
  },
  {
   "cell_type": "markdown",
   "metadata": {},
   "source": [
    "<img src=\"figures/cap1.png\" width=600 />"
   ]
  },
  {
   "cell_type": "markdown",
   "metadata": {},
   "source": [
    "<img src=\"https://t1.daumcdn.net/thumb/R1280x0/?fname=http://t1.daumcdn.net/brunch/service/user/Kvs/image/bL0jFSpi03rtjTYHGCisYYvmUDs.png\" width=600 />"
   ]
  },
  {
   "cell_type": "markdown",
   "metadata": {},
   "source": [
    "Equivalently, PVR works better when we blend personalized signals with a pretty healthy dose of (unpersonalized) popularity, which we use to drive the recommendations in the Popular row shown on the left of Figure 2."
   ]
  },
  {
   "cell_type": "markdown",
   "metadata": {
    "collapsed": true
   },
   "source": [
    "## 2.2. Top-N Video Ranker"
   ]
  },
  {
   "cell_type": "markdown",
   "metadata": {},
   "source": [
    "We also have a Top N video ranker that produces the recommendations in the Top Picks row shown on the right of Figure 1. The goal of this algorithm is to find the best few personalized recommendations in the entire catalog for each member, that is, focusing only on the head of the ranking, a freedom that PVR does not have because it gets used to rank arbitrary subsets of the catalog."
   ]
  },
  {
   "cell_type": "markdown",
   "metadata": {},
   "source": [
    "<img src=\"figures/cap1.png\" width=600 />"
   ]
  },
  {
   "cell_type": "markdown",
   "metadata": {},
   "source": [
    "<img src=\"https://t1.daumcdn.net/thumb/R1280x0/?fname=http://t1.daumcdn.net/brunch/service/user/Kvs/image/POTwfmlBqMlkxoYnRDRnrh_k0SM.png\" width=600 />"
   ]
  },
  {
   "cell_type": "markdown",
   "metadata": {
    "collapsed": true
   },
   "source": [
    "## 2.3. Trending Now"
   ]
  },
  {
   "cell_type": "markdown",
   "metadata": {},
   "source": [
    "We have also found that shorter-term temporal trends, ranging from a few minutes to perhaps a few days, are powerful predictors of videos that our members will watch, especially when combined with the right dose of personalization, giving us a trending ranker [Padmanabhan et al. 2015] used to drive the Trending Now row (left of Figure 2)."
   ]
  },
  {
   "cell_type": "markdown",
   "metadata": {},
   "source": [
    "There are two types of trends that this ranker identifies nicely: \n",
    "* (1) those that repeat every several months (e.g., yearly) \n",
    "    - yet have a short-term effect when they occur, such as the uptick of romantic video watching during Valentine’s Day in North America, and \n",
    "* (2) one-off, short-term events, \n",
    "    - for example, a big hurricane with an impending arrival to some densely populated area, being covered by many media outlets, driving increased short-term interest in documentaries and movies about hurricanes and other natural disasters."
   ]
  },
  {
   "cell_type": "markdown",
   "metadata": {},
   "source": [
    "<img src=\"figures/cap2.png\" width=600 />"
   ]
  },
  {
   "cell_type": "markdown",
   "metadata": {},
   "source": [
    "<img src=\"https://t1.daumcdn.net/thumb/R1280x0/?fname=http://t1.daumcdn.net/brunch/service/user/Kvs/image/Qq2r32LFtpthsrdjTZ7BLTrS4fo.png\" width=600 />"
   ]
  },
  {
   "cell_type": "markdown",
   "metadata": {
    "collapsed": true
   },
   "source": [
    "## 2.4. Continue Watching"
   ]
  },
  {
   "cell_type": "markdown",
   "metadata": {},
   "source": [
    "Given the importance of episodic content viewed over several sessions, as well as the freedom to view nonepisodic content in small bites, another important video ranking algorithm is the continue watching ranker that orders the videos in the Continue Watching row (see right of Figure 2). "
   ]
  },
  {
   "cell_type": "markdown",
   "metadata": {},
   "source": [
    "<img src=\"figures/cap2.png\" width=600 />"
   ]
  },
  {
   "cell_type": "markdown",
   "metadata": {},
   "source": [
    "<img src=\"https://t1.daumcdn.net/thumb/R1280x0/?fname=http://t1.daumcdn.net/brunch/service/user/Kvs/image/9QiAuQq4JG41zW8fjCwI2vDi7Vc.png\" width=600 />"
   ]
  },
  {
   "cell_type": "markdown",
   "metadata": {
    "collapsed": true
   },
   "source": [
    "## 2.5. Video-Video Similarity"
   ]
  },
  {
   "cell_type": "markdown",
   "metadata": {},
   "source": [
    "* Because You Watched (BYW) rows are another type of categorization. \n",
    "* A BYW row anchors its recommendations to a single video watched by the member. \n",
    "* The video-video similarity algorithm, which we refer to simply as “sims,” drives the recommendations in these rows. \n",
    "* An example row is shown on the left of Figure 1. The sims algorithm is an unpersonalized algorithm that computes a ranked list of videos—the similars—for every video in our catalog. \n",
    "* Even though the sims ranking is not personalized, the choice of which BYW rows make it onto a homepage is personalized"
   ]
  },
  {
   "cell_type": "markdown",
   "metadata": {},
   "source": [
    "<img src=\"figures/cap1.png\" width=600 />"
   ]
  },
  {
   "cell_type": "markdown",
   "metadata": {
    "collapsed": true
   },
   "source": [
    "## 2.6. Page Generation: Row Selection and Ranking"
   ]
  },
  {
   "cell_type": "markdown",
   "metadata": {},
   "source": [
    "* The page generation algorithm uses the output of all the algorithms already described to construct every single page of recommendations, taking into account the relevance of each row to the member as well as the diversity of the page. \n",
    "* A typical member has tens of thousands of rows that could go on one’s homepage, making it challenging to manage the computations required to evaluate them. \n",
    "* For this reason, before 2015, we used a rule-based approach that would define what type of row (e.g., genre row, BYW row, Popular row) would go in each vertical position of the page. \n",
    "* This page layout was used to construct all homepages for all members. \n",
    "* Today, we have a fully personalized and mathematical algorithm that can select and order rows from a large pool of candidates to create an ordering optimized for relevance and diversity."
   ]
  },
  {
   "cell_type": "markdown",
   "metadata": {
    "collapsed": true
   },
   "source": [
    "## 2.7. Evidence"
   ]
  },
  {
   "cell_type": "markdown",
   "metadata": {},
   "source": [
    "Together, these algorithms make up the complete Netflix recommender system. But there are other algorithms, such as evidence selection ones, that work together with our recommendation algorithms to define the Netflix experience and help our members determine if a video is right for them."
   ]
  },
  {
   "cell_type": "markdown",
   "metadata": {
    "collapsed": true
   },
   "source": [
    "## 2.8. Search"
   ]
  },
  {
   "cell_type": "markdown",
   "metadata": {},
   "source": [
    "* Our recommender system is used on most screens of the Netflix product beyond the homepage, and in total influences choice for about 80% of hours streamed at Netflix. The remaining 20% comes from search, which requires its own set of algorithms. \n",
    "* Members frequently search for videos, actors, or genres in our catalog; we leverage information retrieval and related techniques to find the relevant videos and display them to our members. \n",
    "* <font color=\"red\">However, because members also often search for videos, actors, or genres that are not in our catalog (Figure 3, left) or for general concepts (Figure 3, right), even search turns into a recommendation problem.</font>"
   ]
  },
  {
   "cell_type": "markdown",
   "metadata": {},
   "source": [
    "<img src=\"figures/cap3.png\" width=600 />\n"
   ]
  },
  {
   "cell_type": "markdown",
   "metadata": {},
   "source": [
    "The search experience is built around several algorithms. \n",
    "* One algorithm attempts to find the videos that match a given query, for example, to retrieve Frenemies for the partial query “fren.” \n",
    "* Another algorithm predicts interest in a concept given a partial query, for example, identifying the concept French Movies for the query “fren.” \n",
    "* A third algorithm finds video recommendations for a given concept, for example, to populate the videos recommended under the concept French Movies. \n",
    "* Our search algorithms combine play data, search data, and metadata to arrive at the results and recommendations that we offer."
   ]
  },
  {
   "cell_type": "markdown",
   "metadata": {
    "collapsed": true
   },
   "source": [
    "## 2.9. Related Work"
   ]
  },
  {
   "cell_type": "markdown",
   "metadata": {},
   "source": [
    "* Each of the algorithms in our recommender system relies on statistical and machine-learning techniques. \n",
    "    - This includes both \n",
    "        - supervised (classification, regression) and \n",
    "        - unsupervised approaches \n",
    "            - (dimensionality reduction through clustering or compression, e.g., through topic models)\n",
    "* topic models\n",
    "* matrix factorization\n",
    "* proba- bilistic graphical models"
   ]
  },
  {
   "cell_type": "markdown",
   "metadata": {
    "collapsed": true
   },
   "source": [
    "# 3. BUSINESS VALUE"
   ]
  },
  {
   "cell_type": "markdown",
   "metadata": {},
   "source": [
    "#### effective catalog size (ECS)\n",
    "The effective catalog size (ECS) is a metric that describes how spread viewing is across the items in our catalog."
   ]
  },
  {
   "cell_type": "markdown",
   "metadata": {},
   "source": [
    "<img src=\"figures/cap9.png\" width=600 />"
   ]
  },
  {
   "cell_type": "markdown",
   "metadata": {},
   "source": [
    "Without personalization, all our members would get the same videos recommended to them. The black line in left plot in Figure 4 shows how the ECS without personalization increases as the number of videos we include in our data increases, starting with the most popular video and adding the next popular video as we move to the right on the x-axis. \n",
    "\n",
    "The red line on the same plot, on the other hand, shows how the ECS grows not as a function of the videos that we include, but rather as a function of the number of PVR ranks that we include to capture personalization."
   ]
  },
  {
   "cell_type": "markdown",
   "metadata": {},
   "source": [
    "<img src=\"figures/cap4.png\" width=600 />"
   ]
  },
  {
   "cell_type": "markdown",
   "metadata": {},
   "source": [
    "#### take-rate"
   ]
  },
  {
   "cell_type": "markdown",
   "metadata": {},
   "source": [
    "* More important, personalization allows us to significantly increase our chances of success when offering recommendations. \n",
    "* One metric that gets at this is the take-rate\n",
    "    - the fraction of recommendations offered resulting in a play."
   ]
  },
  {
   "cell_type": "markdown",
   "metadata": {},
   "source": [
    " We think the combined effect of personalization and recommendations save us more than $1B per year.\n"
   ]
  },
  {
   "cell_type": "markdown",
   "metadata": {
    "collapsed": true
   },
   "source": [
    "# 4. IMPROVING OUR ALGORITHMS\n",
    "* 4.1. Choosing Metrics For A/B Testing\n",
    "* 4.2. Test Cell Sizes for Statistical Validity\n",
    "* 4.3. Nuances of A/B Testing\n",
    "* 4.4. Alternative Metrics\n",
    "* 4.5. Test Audience\n",
    "* 4.6. Faster Innovation Through Offline Experiments"
   ]
  },
  {
   "cell_type": "markdown",
   "metadata": {},
   "source": [
    "<img src=\"figures/cap5.png\" width=600 />"
   ]
  },
  {
   "cell_type": "markdown",
   "metadata": {},
   "source": [
    "<img src=\"figures/cap6.png\" width=600 />"
   ]
  },
  {
   "cell_type": "markdown",
   "metadata": {
    "collapsed": true
   },
   "source": [
    "## 4.1. Choosing Metrics For A/B Testing"
   ]
  },
  {
   "cell_type": "markdown",
   "metadata": {},
   "source": [
    "While we can measure retention directly (and changes in retention through A/B testing), we have no reliable way to measure word-of-mouth for different algorithm variants because its effect, by definition, goes beyond those people who experienced a variant of Netflix."
   ]
  },
  {
   "cell_type": "markdown",
   "metadata": {
    "collapsed": true
   },
   "source": [
    "## 4.2. Test Cell Sizes for Statistical Validity"
   ]
  },
  {
   "cell_type": "markdown",
   "metadata": {},
   "source": [
    "<img src=\"figures/cap7.png\" width=600 />"
   ]
  },
  {
   "cell_type": "markdown",
   "metadata": {
    "collapsed": true
   },
   "source": [
    "## 4.3. Nuances of A/B Testing"
   ]
  },
  {
   "cell_type": "markdown",
   "metadata": {
    "collapsed": true
   },
   "source": [
    "## 4.4. Alternative Metrics           "
   ]
  },
  {
   "cell_type": "markdown",
   "metadata": {
    "collapsed": true
   },
   "source": [
    "## 4.5. Test Audience"
   ]
  },
  {
   "cell_type": "markdown",
   "metadata": {},
   "source": [
    "* We typically test algorithm changes on two groups of members: existing members and new members. The advantage of testing on existing members is that the sample size can be larger because we have many of them. But existing members have experienced a different version of the product in the past; suddenly changing their experience to reflect that of a test cell can yield behaviors that are influenced by their previous experience.\n",
    "* We prefer to test on new members because they have not experienced a different version of the product before"
   ]
  },
  {
   "cell_type": "markdown",
   "metadata": {
    "collapsed": true
   },
   "source": [
    "## 4.6. Faster Innovation Through Offline Experiments"
   ]
  },
  {
   "cell_type": "markdown",
   "metadata": {},
   "source": [
    "<img src=\"figures/cap8.png\" width=600 />"
   ]
  },
  {
   "cell_type": "markdown",
   "metadata": {
    "collapsed": true
   },
   "source": [
    "# 5. KEY OPEN PROBLEMS\n",
    "* 5.1. Better Experimentation Protocols\n",
    "* 5.2. Global Algorithms\n",
    "* 5.3. Controlling for Presentation Bias\n",
    "* 5.4. Page Construction\n",
    "* 5.5. Member Coldstarting\n",
    "* 5.6. Account Sharing\n",
    "* 5.7. Choosing the Best Evidence to Support Each Recommendation"
   ]
  },
  {
   "cell_type": "markdown",
   "metadata": {},
   "source": [
    "## 5.1. Better Experimentation Protocols"
   ]
  },
  {
   "cell_type": "markdown",
   "metadata": {},
   "source": [
    "* We want to have a better alternative to offline experimentation that allows us to it- erate just as quickly, but that is more predictive of A/B test outcomes. One possibility that we are exploring is interleaving-based A/B tests focused on local algorithm met- rics, such as click-through rates.\n",
    "* A related challenge with engagement metrics is to determine the proper way to balance long- and short-form content."
   ]
  },
  {
   "cell_type": "markdown",
   "metadata": {},
   "source": [
    "## 5.2. Global Algorithms"
   ]
  },
  {
   "cell_type": "markdown",
   "metadata": {},
   "source": [
    "* We intend to offer Netflix globally before the end of 2016. Our industry relies on content licenses, which are often exclusive, and regional or even country-specific. This results in different Netflix video catalogs in different countries. Today, we group countries into regions that share very similar catalogs, yet have a big enough member base that generates enough data to fit all the necessary models. We then run copies of all of our algorithms isolated within each region.\n",
    "* We are also interested in models that take into account how the languages available for the audio and subtitles of each video match the languages that each member across the world is likely to be comfortable with when generating the recommendations, for example, if a member is only comfortable (based on explicit and implicit data) with Thai and we think would love to watch “House of Cards,” but we do not have Thai audio or subtitles for it, then perhaps we should not recommend “House of Cards” to that member, or if we do have “House of Cards” in Thai, we should highlight this language option to the member when recommending “House of Cards.”"
   ]
  },
  {
   "cell_type": "markdown",
   "metadata": {},
   "source": [
    "## 5.3. Controlling for Presentation Bias"
   ]
  },
  {
   "cell_type": "markdown",
   "metadata": {},
   "source": [
    "We have a system with a strong positive feedback loop, in which videos that members engage highly with are recommended to many members, leading to high engagement with those videos, and so on. Yet, most of our statistical models, as well as the stan- dard mathematical techniques used to generate recommendations, do not take this feedback loop into account."
   ]
  },
  {
   "cell_type": "markdown",
   "metadata": {},
   "source": [
    "## 5.4. Page Construction"
   ]
  },
  {
   "cell_type": "markdown",
   "metadata": {},
   "source": [
    "Page construction is a relatively new and unexplored area for us. It took us a couple of years to find a fully personalized algorithm to construct a page of recommendations that A/B tested better than a page based on a template (itself optimized through years of A/B testing)."
   ]
  },
  {
   "cell_type": "markdown",
   "metadata": {},
   "source": [
    "## 5.5. Member Coldstarting"
   ]
  },
  {
   "cell_type": "markdown",
   "metadata": {},
   "source": [
    "* We know that our recommender system does a satisfactory job helping members with a large Netflix history, but not so for new members, about whom we know little. For ex- ample, our PVR algorithm tends to rank videos discovered by our members much more highly before they are played for existing members than for newer members.\n",
    "* Thus, we are always interested in finding better models and signals to improve the recommendations for new members, to increase their engagement and their retention rates."
   ]
  },
  {
   "cell_type": "markdown",
   "metadata": {},
   "source": [
    "## 5.6. Account Sharing"
   ]
  },
  {
   "cell_type": "markdown",
   "metadata": {},
   "source": [
    "* We market Netflix subscriptions to families; in many cases, several individuals with different tastes share a single account. \n",
    "* We allow our members to create up to 5 different profiles for every account, and we personalize the experience for each profile. However, a large percentage of profiles are still used by multiple people in the household. \n",
    "* Our recommender system has, by necessity, evolved through years of A/B testing to deliver a mix (union) of suggestions necessary to provide good suggestions to whichever member of the household may be viewing (owner, spouse, children) at any time, but such amalgamated views are not as effective as separated views."
   ]
  },
  {
   "cell_type": "markdown",
   "metadata": {},
   "source": [
    "## 5.7. Choosing the Best Evidence to Support Each Recommendation"
   ]
  },
  {
   "cell_type": "markdown",
   "metadata": {},
   "source": [
    "We have several images, synopsis, and other evidence that we can use to present each recommendation. These can be chosen to highlight different aspects of a video, such as an actor or director involved in it, awards won, setting, genre, and so on. "
   ]
  },
  {
   "cell_type": "markdown",
   "metadata": {},
   "source": [
    "# 6. CONCLUSIONS"
   ]
  },
  {
   "cell_type": "markdown",
   "metadata": {},
   "source": [
    "* We have described the different algorithms that make up the Netflix recommender system, the process that we use to improve it, and some of our open problems. \n",
    "* Humans are facing an increasing number of choices in every aspect of their lives.\n",
    "* We are convinced that the field of recommender systems will continue to play a pivotal role in using the wealth of data now available to make these choices manageable, effectively guiding people to the truly best few options for them to be evaluated, resulting in better decisions."
   ]
  },
  {
   "cell_type": "markdown",
   "metadata": {},
   "source": [
    "# 참고자료"
   ]
  },
  {
   "cell_type": "markdown",
   "metadata": {},
   "source": [
    "* [1] The Netflix Recommender System: Algorithms, Business Value, and Innovation - http://dl.acm.org/citation.cfm?id=2869770.2843948\n",
    "* [2] Netflix 추천의 힘 10가지 - https://brunch.co.kr/@goodvc78/3"
   ]
  }
 ],
 "metadata": {
  "kernelspec": {
   "display_name": "Python 2",
   "language": "python",
   "name": "python2"
  },
  "language_info": {
   "codemirror_mode": {
    "name": "ipython",
    "version": 2
   },
   "file_extension": ".py",
   "mimetype": "text/x-python",
   "name": "python",
   "nbconvert_exporter": "python",
   "pygments_lexer": "ipython2",
   "version": "2.7.6"
  }
 },
 "nbformat": 4,
 "nbformat_minor": 0
}
