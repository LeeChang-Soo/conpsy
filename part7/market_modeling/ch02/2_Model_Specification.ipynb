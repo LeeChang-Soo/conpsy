{
 "cells": [
  {
   "cell_type": "markdown",
   "metadata": {},
   "source": [
    "# Chapter 2 Model Specification"
   ]
  },
  {
   "cell_type": "markdown",
   "metadata": {},
   "source": [
    "# Contents\n",
    "* 2.1 Introduction\n",
    "* 2.2 Model Criteria\n",
    "    - 2.2.1 Implementation Criteria Related to Model Structure\n",
    "    - 2.2.2 Models Should Be Simple\n",
    "    - 2.2.3 Models Should Be Built in an Evolutionary Way\n",
    "    - 2.2.4 Models Should Be Complete on Important Issues\n",
    "    - 2.2.5 Models Should Be Adaptive\n",
    "    - 2.2.6 Models Should Be Robust\n",
    "* 2.3 Model Elements\n",
    "* 2.4 Specification of the Functional Form\n",
    "    - 2.4.1 Models Linear in Parameters and Variables\n",
    "    - 2.4.2 Models Linear in Parameters But Not in Variables\n",
    "    - 2.4.3 Models That Are Nonlinear in Parameters, But Linearizable\n",
    "    - 2.4.4 Models That Are Nonlinear in Parameters and Not Linearizable\n",
    "* 2.5 Moderation and Mediation Effects\n",
    "* 2.6 Formalized Models for the Verhouten Case\n",
    "* 2.7 Including Heterogeneity\n",
    "* 2.8 Marketing Dynamics\n",
    "    - 2.8.1 Introduction\n",
    "    - 2.8.2 Modeling Lagged Effects: One Explanatory Variable\n",
    "    - 2.8.3 Modeling Lagged Effects: Several Explanatory Variables\n",
    "    - 2.8.4 Lead Effects"
   ]
  },
  {
   "cell_type": "markdown",
   "metadata": {},
   "source": [
    "# 2.1 Introduction"
   ]
  },
  {
   "cell_type": "markdown",
   "metadata": {},
   "source": [
    "Specification is an important step in the model building process. \n",
    "* As discussed in Chap. 1, the goal of this step is to express the most important elements of a real-world system in one or more mathematical equations. \n",
    "* In other words: the outcome of this step is a formula that summarizes the most important relationships of the phenomenon that we are studying."
   ]
  },
  {
   "cell_type": "markdown",
   "metadata": {},
   "source": [
    "# 2.2 Model Criteria\n",
    "* 2.2.1 Implementation Criteria Related to Model Structure\n",
    "* 2.2.2 Models Should Be Simple\n",
    "* 2.2.3 Models Should Be Built in an Evolutionary Way\n",
    "* 2.2.4 Models Should Be Complete on Important Issues\n",
    "* 2.2.5 Models Should Be Adaptive\n",
    "* 2.2.6 Models Should Be Robust"
   ]
  },
  {
   "cell_type": "markdown",
   "metadata": {},
   "source": [
    "## 2.2.1 Implementation Criteria Related to Model Structure"
   ]
  },
  {
   "cell_type": "markdown",
   "metadata": {},
   "source": [
    "In this section we pay attention to the question when a model can be considered to be a ‘<font color=\"red\">good</font>’ model."
   ]
  },
  {
   "cell_type": "markdown",
   "metadata": {},
   "source": [
    "These <font color=\"red\">criteria</font> consider two aspects of marketing models: \n",
    "* <font color=\"blue\">model structure</font> and \n",
    "* <font color=\"blue\">ease of use</font>."
   ]
  },
  {
   "cell_type": "markdown",
   "metadata": {},
   "source": [
    "In this chapter we focus on criteria that relate to <font color=\"red\">model structure</font>. "
   ]
  },
  {
   "cell_type": "markdown",
   "metadata": {},
   "source": [
    "Models should be:\n",
    "1. simple;\n",
    "2. complete;\n",
    "3. adaptive;\n",
    "4. robust.    "
   ]
  },
  {
   "cell_type": "markdown",
   "metadata": {},
   "source": [
    "## 2.2.2 Models Should Be Simple"
   ]
  },
  {
   "cell_type": "markdown",
   "metadata": {},
   "source": [
    "All models are simplified representations of real-world phenomena."
   ]
  },
  {
   "cell_type": "markdown",
   "metadata": {},
   "source": [
    "<font color=\"red\">One way in which model simplicity</font> can be achieved by the model builder is by <font color=\"red\">keeping the number of variables small</font>, and <font color=\"red\">only to include the important</font> phenomena in the model."
   ]
  },
  {
   "cell_type": "markdown",
   "metadata": {},
   "source": [
    "This can be achieved in one or more of the following ways:\n",
    "* (a) Eliminating Less Relevant Variables\n",
    "* (b) Clustering of Variables\n",
    "* (c) Introducing Relative Variables\n",
    "* (d) Phasing Variables over Different Levels\n",
    "    - For example, revenue for a given time period and a given territory can be decomposed as:\n",
    "        <img src=\"figures/cap2.1.png\" width=600 />\n",
    "    - and, for the same period and territory:\n",
    "        <img src=\"figures/cap2.2.png\" width=600 />\n",
    "* (e) Constraining Parameter Values"
   ]
  },
  {
   "cell_type": "markdown",
   "metadata": {},
   "source": [
    "#### parsimony "
   ]
  },
  {
   "cell_type": "markdown",
   "metadata": {},
   "source": [
    "* Points (a)–(e) above represent different ways of obtaining a simple structure, often through a reduction in the number of variables/parameters. \n",
    "* This relates to the concern of many model builders, especially those with a background in statistics and econometrics, that models must be manageable and estimable. \n",
    "* This calls for <font color=\"red\">parsimony of the models</font>, i.e. \n",
    "    - there should be a modest number of parameters, and \n",
    "    - for a simple structure, \n",
    "    - which might mean that \n",
    "        - linear or \n",
    "        - linearizable models \n",
    "        - are preferred \n",
    "        - to non-linearizable ones."
   ]
  },
  {
   "cell_type": "markdown",
   "metadata": {},
   "source": [
    "#### We now define more clearly what “simple” means for the user. \n",
    "* We cannot expect managers to be experts in mathematics, statistics, econometrics, operations research and computer science. \n",
    "* They are not, they do not pretend to be, nor do they want to be. \n",
    "* The manager is often not interested in the detailed intricacies of the model. \n",
    "* What she wants is a basic understanding of the logic of the model and of what it can do for her. \n",
    "* For the user, a model will be simple if this basic understanding is provided. Communication and involvement are two means of achieving this."
   ]
  },
  {
   "cell_type": "markdown",
   "metadata": {},
   "source": [
    "## 2.2.3 Models Should Be Built in an Evolutionary Way"
   ]
  },
  {
   "cell_type": "markdown",
   "metadata": {},
   "source": [
    "* We should, of course, realize that the real world is not simple, and that when a model represents the most important elements of a system, it will often look uncomfortably complicated.\n",
    "* The basic idea is that one does not build a model with all ramifications from the start. Manager and model builder <font color=\"red\">begin by defining the important elements of the problem</font>, and how these elements are related. \n",
    "* The model is now <font color=\"red\">becoming more complex</font>, but the manager still understands it, because it is her realization that something was missing which led to the increase in complexity. \n",
    "* In a sense the model becomes difficult, yet <font color=\"red\">by using an evolutionary approach</font>, it also remains simple because the manager has a clear understanding of what the model is supposed to do."
   ]
  },
  {
   "cell_type": "markdown",
   "metadata": {},
   "source": [
    "#### evolutionary approach\n",
    "This approach can be accompanied by a two-step presentation. \n",
    "* First, a <font color=\"red\">formalized or conceptual model</font> is presented to management.\n",
    "    - This model ultimately reflects management’s own views about the nature of market response. \n",
    "* Second, an <font color=\"red\">empirical model or statistical model</font> is used to convey to management, \n",
    "    - how much of the overall response is captured in the model."
   ]
  },
  {
   "cell_type": "markdown",
   "metadata": {},
   "source": [
    "<img src=\"figures/cap2.3.png\" width=600 />"
   ]
  },
  {
   "cell_type": "markdown",
   "metadata": {},
   "source": [
    "## 2.2.4 Models Should Be Complete on Important Issues"
   ]
  },
  {
   "cell_type": "markdown",
   "metadata": {},
   "source": [
    "* For a model to be a useful decision-support tool, it has to represent all relevant elements of the problem being studied. \n",
    "* This means that a model should account for all important variables: \n",
    "    - <font color=\"red\">the model should be complete</font>. "
   ]
  },
  {
   "cell_type": "markdown",
   "metadata": {},
   "source": [
    "## 2.2.5 Models Should Be Adaptive"
   ]
  },
  {
   "cell_type": "markdown",
   "metadata": {},
   "source": [
    "Market change and market behavior are dynamic. Thus, it is not possible to think of model building as a one-time affair. Instead, models need to be adapted more or less continuously."
   ]
  },
  {
   "cell_type": "markdown",
   "metadata": {},
   "source": [
    "## 2.2.6 Models Should Be Robust"
   ]
  },
  {
   "cell_type": "markdown",
   "metadata": {},
   "source": [
    "Little defines model robustness5 as a quality characteristic which makes it difficult for a user to obtain bad answers.\n",
    "* He suggest that robustness is achievable through the specification of a structure that constrains answers to a meaningful range of values."
   ]
  },
  {
   "cell_type": "markdown",
   "metadata": {},
   "source": [
    "Empirically, model robustness exists if the model results reflect:\n",
    "* (a) Correct marginal effects and changes therein.\n",
    "    - Broadlyspeaking, each marginal effect should be plausible over a wide range of possible values for the corresponding predictor variable (appropriate functional form).\n",
    "* (b) Meaningful interaction effects.\n",
    "    - The marginal effect of a given predictor variable may depend on the value of another predictor variable: \n",
    "        - for example, there is a large body of evidence to support the view that the price elasticity of a brand depends on the amount of advertising support (Kaul and Wittink 1995).\n",
    "* (c) The endogeneity of variables for which the models are intended to produce marginal effects. \n",
    "    - If a predictor variable is manipulated by management based on realized values of the criterion variable then this “reverse causality” must be taken into account in the model-building process."
   ]
  },
  {
   "cell_type": "markdown",
   "metadata": {},
   "source": [
    "For some criterion variables, it is possible to specify constraints.\n",
    "* predicted\n",
    "* logically consistent\n",
    "* consistent sum-constrained\n",
    "    - Let $q_{jt}$ be the demand for brand $j$ in period $t$. \n",
    "    - Product class sales in period $t$ can then be written as: \n",
    "        - $restr_{·t}$ \n",
    "    - For sum-constrained models we require:\n",
    "        <img src=\"figures/cap2.4.png\" width=600 />"
   ]
  },
  {
   "cell_type": "markdown",
   "metadata": {},
   "source": [
    "# 2.3 Model Elements"
   ]
  },
  {
   "cell_type": "markdown",
   "metadata": {},
   "source": [
    "In this section we introduce the <font color=\"red\">components or elements of a model</font>, using a <font color=\"blue\">simple linear model</font> for the Verhouten application:"
   ]
  },
  {
   "cell_type": "markdown",
   "metadata": {},
   "source": [
    "<img src=\"figures/cap2.5.png\" width=600 />"
   ]
  },
  {
   "cell_type": "markdown",
   "metadata": {},
   "source": [
    "* explained, the dependent variable or the criterion variable.\n",
    "* The first part of the right-hand side of the equation is also referred to as the <font color=\"red\">systematic</font> part of the model \n",
    "    - independent variables, explanatory variables, predictors, control variables or regressors.\n",
    "    - response parameters or effect parameters.\n",
    "    - constant term or the intercept\n",
    "    - mean-centered (subtract from each value of a variable the mean of that variable): then $α$ can somewhat loosely be interpreted as the “baseline\"\n",
    "* The second part of the right-hand side of Eq. (2.4) consists of the <font color=\"red\">error</font> term and is referred to as the <font color=\"red\">stochastic</font> part of the model.\n",
    "    - probability distribution\n",
    "        - random (or stochastic)\n",
    "        - the disturbance term\n",
    "            - the fact that a probability distribution is a useful way to characterize the variation in the error term does not mean that variation in the disturbances is caused by just random variation:\n",
    "                - the error due to missing or omitted variables\n",
    "                - error in the functional relationship\n",
    "                - errors in measurement of the variables"
   ]
  },
  {
   "cell_type": "markdown",
   "metadata": {},
   "source": [
    "# 2.4 Specification of the Functional Form\n",
    "* 2.4.1 Models Linear in Parameters and Variables\n",
    "* 2.4.2 Models Linear in Parameters But Not in Variables\n",
    "* 2.4.3 Models That Are Nonlinear in Parameters, But Linearizable\n",
    "* 2.4.4 Models That Are Nonlinear in Parameters and Not Linearizable"
   ]
  },
  {
   "cell_type": "markdown",
   "metadata": {},
   "source": [
    "Once the dependent and the independent variables are selected, a model builder should <font color=\"red\">decide on the type of mathematical relationship</font> between the variables."
   ]
  },
  {
   "cell_type": "markdown",
   "metadata": {},
   "source": [
    "most common types of mathematical forms:\n",
    "1. linear in both parameters and variables;\n",
    "2. nonlinear in the variables, but linear in the parameters; \n",
    "3. nonlinear in the parameters and linearizable;\n",
    "4. nonlinear in the parameters and not linearizable."
   ]
  },
  {
   "cell_type": "markdown",
   "metadata": {},
   "source": [
    "## 2.4.1 Models Linear in Parameters and Variables"
   ]
  },
  {
   "cell_type": "markdown",
   "metadata": {},
   "source": [
    "Models linear in parameters and variables have the following structure:"
   ]
  },
  {
   "cell_type": "markdown",
   "metadata": {},
   "source": [
    "<img src=\"figures/cap2.6.png\" width=600 />"
   ]
  },
  {
   "cell_type": "markdown",
   "metadata": {},
   "source": [
    "#### linear additive model"
   ]
  },
  {
   "cell_type": "markdown",
   "metadata": {},
   "source": [
    "A model that is linear in parameters and in variables is sometimes also referred to as a <font color=\"red\">linear additive model</font>. It is additive in the sense that the joint effect of the predictor variables is equal to the sum of their separate effects, as can be seen in Eq. (2.5)."
   ]
  },
  {
   "cell_type": "markdown",
   "metadata": {},
   "source": [
    "#### linearity assumption\n",
    "\n",
    "The linearity assumption implies <font color=\"red\">constant returns to scale</font> with respect to each of the independent variables. This can be seen by taking the first-order partial derivative of $y_t$ with respect to any of the independent variables $x_{kt}$ :"
   ]
  },
  {
   "cell_type": "markdown",
   "metadata": {},
   "source": [
    "<img src=\"figures/cap2.7.png\" width=600 />"
   ]
  },
  {
   "cell_type": "markdown",
   "metadata": {},
   "source": [
    "which means that increasing $x_{kt}$ by one unit results in an increase of $y_t$ by $β_{k}$ units"
   ]
  },
  {
   "cell_type": "markdown",
   "metadata": {},
   "source": [
    "#### constant returns to scale\n",
    "This assumption of constant returns to scale is unreasonable in most applications."
   ]
  },
  {
   "cell_type": "markdown",
   "metadata": {},
   "source": [
    "#### no interactions\n",
    "Another drawback of the linear additive model is that it assumes no interactions\n",
    "between the variables."
   ]
  },
  {
   "cell_type": "markdown",
   "metadata": {},
   "source": [
    "#### moderate"
   ]
  },
  {
   "cell_type": "markdown",
   "metadata": {},
   "source": [
    "Interaction between two x-variables occurs when the effect of one x-variable on the y-variable depends on the level of the other x-variable. In such cases, the latter x-variable is said to moderate the effect of the first x-variable on y."
   ]
  },
  {
   "cell_type": "markdown",
   "metadata": {},
   "source": [
    "<font color=\"red\">In Sect. 2.5 we discuss how the linear additive model can be extended to include interaction effects</font>."
   ]
  },
  {
   "cell_type": "markdown",
   "metadata": {},
   "source": [
    "## 2.4.2 Models Linear in Parameters But Not in Variables"
   ]
  },
  {
   "cell_type": "markdown",
   "metadata": {},
   "source": [
    "A second class of models consists of models which are \n",
    "* nonlinear in the variables, but \n",
    "* linear in the parameters.\n",
    "\n",
    "They are also called <font color=\"red\">nonlinear additive models</font>."
   ]
  },
  {
   "cell_type": "markdown",
   "metadata": {},
   "source": [
    "Equation (2.7) is an example of a model in which <font color=\"blue\">three variables</font> ($x_{1t}$, $x_{2t}$, and $x_{4t}$) are assumed to have <font color=\"blue\">nonlinear effects</font>:"
   ]
  },
  {
   "cell_type": "markdown",
   "metadata": {},
   "source": [
    "<img src=\"figures/cap2.8.png\" width=600 />"
   ]
  },
  {
   "cell_type": "markdown",
   "metadata": {},
   "source": [
    "Equation (2.7) can be <font color=\"red\">turned into a linear additive model</font> relatively easy <font color=\"blue\">by transforming</font> the nonlinear variables as follows before they enter the model:"
   ]
  },
  {
   "cell_type": "markdown",
   "metadata": {},
   "source": [
    "<img src=\"figures/cap2.9.png\" width=200 />"
   ]
  },
  {
   "cell_type": "markdown",
   "metadata": {},
   "source": [
    "After substituting the transformed variables in Eq.(2.7) a linear additive model emerges:"
   ]
  },
  {
   "cell_type": "markdown",
   "metadata": {},
   "source": [
    "<img src=\"figures/cap2.10.png\" width=600 />"
   ]
  },
  {
   "cell_type": "markdown",
   "metadata": {},
   "source": [
    "We next discuss a few formulations of nonlinear additive models, with their characteristics, advantages, and disadvantages. Consider the following relation:"
   ]
  },
  {
   "cell_type": "markdown",
   "metadata": {},
   "source": [
    "<img src=\"figures/cap2.11.png\" width=600 />"
   ]
  },
  {
   "cell_type": "markdown",
   "metadata": {},
   "source": [
    "#### natue of effects"
   ]
  },
  {
   "cell_type": "markdown",
   "metadata": {},
   "source": [
    "To understand the nature of effects, we investigate the first derivative of qt with\n",
    "respect to at:"
   ]
  },
  {
   "cell_type": "markdown",
   "metadata": {},
   "source": [
    "<img src=\"figures/cap2.12.png\" width=600 />"
   ]
  },
  {
   "cell_type": "markdown",
   "metadata": {},
   "source": [
    "sales would decline with further increases in advertising."
   ]
  },
  {
   "cell_type": "markdown",
   "metadata": {},
   "source": [
    "#### supersaturation"
   ]
  },
  {
   "cell_type": "markdown",
   "metadata": {},
   "source": [
    "This phenomenon is known as supersaturation (Hanssens et al. 2001, p. 42). \n",
    "* Supersaturation results if excessive marketing effort causes a negative response. \n",
    "* If this phenomenon runs counter to our prior beliefs, we could reject the model specified in Eq.(2.9). \n",
    "* Nevertheless, <font color=\"red\">the model may perform well within a certain range of values of $a_{t}$</font>."
   ]
  },
  {
   "cell_type": "markdown",
   "metadata": {},
   "source": [
    "There are other ways to represent decreasing returns to scale. In (2.10) sales are a function of the square root of the independent variable, say advertising,"
   ]
  },
  {
   "cell_type": "markdown",
   "metadata": {},
   "source": [
    "<img src=\"figures/cap2.13.png\" width=600 />"
   ]
  },
  {
   "cell_type": "markdown",
   "metadata": {},
   "source": [
    "Equation (2.11) shows decreasing returns to scale over the whole range of $a_{jt}$,\n",
    "since:"
   ]
  },
  {
   "cell_type": "markdown",
   "metadata": {},
   "source": [
    "<img src=\"figures/cap2.14.png\" />"
   ]
  },
  {
   "cell_type": "markdown",
   "metadata": {},
   "source": [
    "which decreases with $a_t$. Again, returns to advertising tend to zero for high levels of advertising."
   ]
  },
  {
   "cell_type": "markdown",
   "metadata": {},
   "source": [
    "#### The sales-advertising relations & saturation level"
   ]
  },
  {
   "cell_type": "markdown",
   "metadata": {},
   "source": [
    "Since we know that sales potential is a finite quantity, we prefer sales-advertising models in which sales approaches a saturation level as advertising grows large."
   ]
  },
  {
   "cell_type": "markdown",
   "metadata": {},
   "source": [
    "#### reciprocal relation"
   ]
  },
  {
   "cell_type": "markdown",
   "metadata": {},
   "source": [
    "A simple example of a model with a saturation level is the reciprocal relation:"
   ]
  },
  {
   "cell_type": "markdown",
   "metadata": {},
   "source": [
    "<img src=\"figures/cap2.15.png\" width=600 />"
   ]
  },
  {
   "cell_type": "markdown",
   "metadata": {},
   "source": [
    "Another example of a reciprocal relation is:"
   ]
  },
  {
   "cell_type": "markdown",
   "metadata": {},
   "source": [
    "<img src=\"figures/cap2.16.png\" width=600 />"
   ]
  },
  {
   "cell_type": "markdown",
   "metadata": {},
   "source": [
    "#### logarithmic reciprocal relation"
   ]
  },
  {
   "cell_type": "markdown",
   "metadata": {},
   "source": [
    "If one wants a response function to show increasing returns to scale first, then decreasing returns, the logarithmic reciprocal relation may be used:\n"
   ]
  },
  {
   "cell_type": "markdown",
   "metadata": {},
   "source": [
    "<img src=\"figures/cap2.17.png\" width=600 />"
   ]
  },
  {
   "cell_type": "markdown",
   "metadata": {},
   "source": [
    "## 2.4.3 Models That Are Nonlinear in Parameters, But Linearizable"
   ]
  },
  {
   "cell_type": "markdown",
   "metadata": {},
   "source": [
    "<img src=\"figures/cap2.18.png\" width=600 />"
   ]
  },
  {
   "cell_type": "markdown",
   "metadata": {},
   "source": [
    "<img src=\"figures/cap2.19.png\" width=600 />"
   ]
  },
  {
   "cell_type": "markdown",
   "metadata": {},
   "source": [
    "<img src=\"figures/cap2.20.png\" width=600 />"
   ]
  },
  {
   "cell_type": "markdown",
   "metadata": {},
   "source": [
    "<img src=\"figures/cap2.21.png\" />"
   ]
  },
  {
   "cell_type": "markdown",
   "metadata": {},
   "source": [
    "<img src=\"figures/cap2.22.png\" width=600 />"
   ]
  },
  {
   "cell_type": "markdown",
   "metadata": {},
   "source": [
    "<img src=\"figures/cap2.23.png\" />"
   ]
  },
  {
   "cell_type": "markdown",
   "metadata": {},
   "source": [
    "<img src=\"figures/cap2.24.png\" width=600 />"
   ]
  },
  {
   "cell_type": "markdown",
   "metadata": {},
   "source": [
    "## 2.4.4 Models That Are Nonlinear in Parameters and Not Linearizable"
   ]
  },
  {
   "cell_type": "markdown",
   "metadata": {},
   "source": [
    "<img src=\"figures/cap2.25.png\" width=600 />"
   ]
  },
  {
   "cell_type": "markdown",
   "metadata": {},
   "source": [
    "<img src=\"figures/cap2.26.png\" width=600 />"
   ]
  },
  {
   "cell_type": "markdown",
   "metadata": {},
   "source": [
    "# 2.5 Moderation and Mediation Effects"
   ]
  },
  {
   "cell_type": "markdown",
   "metadata": {},
   "source": [
    "<img src=\"figures/cap2.27.png\" width=600 />"
   ]
  },
  {
   "cell_type": "markdown",
   "metadata": {},
   "source": [
    "<img src=\"figures/cap2.28.png\" width=600 />"
   ]
  },
  {
   "cell_type": "markdown",
   "metadata": {},
   "source": [
    "<img src=\"figures/cap2.29.png\" width=600 />"
   ]
  },
  {
   "cell_type": "markdown",
   "metadata": {},
   "source": [
    "<img src=\"figures/cap2.30.png\" width=600 />"
   ]
  },
  {
   "cell_type": "markdown",
   "metadata": {},
   "source": [
    "# 2.6 Formalized Models for the Verhouten Case"
   ]
  },
  {
   "cell_type": "markdown",
   "metadata": {},
   "source": [
    "<img src=\"figures/cap2.31.png\" width=600 />"
   ]
  },
  {
   "cell_type": "markdown",
   "metadata": {},
   "source": [
    "<img src=\"figures/cap2.32.png\" width=600 />"
   ]
  },
  {
   "cell_type": "markdown",
   "metadata": {},
   "source": [
    "# 2.7 Including Heterogeneity"
   ]
  },
  {
   "cell_type": "markdown",
   "metadata": {},
   "source": [
    "# 2.8 Marketing Dynamics\n",
    "* 2.8.1 Introduction\n",
    "* 2.8.2 Modeling Lagged Effects: One Explanatory Variable\n",
    "* 2.8.3 Modeling Lagged Effects: Several Explanatory Variables\n",
    "* 2.8.4 Lead Effects"
   ]
  },
  {
   "cell_type": "markdown",
   "metadata": {},
   "source": [
    "## 2.8.1 Introduction"
   ]
  },
  {
   "cell_type": "markdown",
   "metadata": {},
   "source": [
    "<img src=\"figures/cap2.33.png\" width=600 />"
   ]
  },
  {
   "cell_type": "markdown",
   "metadata": {},
   "source": [
    "<img src=\"figures/cap2.34.png\" width=600 />"
   ]
  },
  {
   "cell_type": "markdown",
   "metadata": {},
   "source": [
    "<img src=\"figures/cap2.35.png\" width=600 />"
   ]
  },
  {
   "cell_type": "markdown",
   "metadata": {},
   "source": [
    "## 2.8.2 Modeling Lagged Effects: One Explanatory Variable"
   ]
  },
  {
   "cell_type": "markdown",
   "metadata": {},
   "source": [
    "<img src=\"figures/cap2.36.png\" width=600 />"
   ]
  },
  {
   "cell_type": "markdown",
   "metadata": {},
   "source": [
    "<img src=\"figures/cap2.37.png\" width=600 />"
   ]
  },
  {
   "cell_type": "markdown",
   "metadata": {},
   "source": [
    "<img src=\"figures/cap2.38.png\" width=600 />"
   ]
  },
  {
   "cell_type": "markdown",
   "metadata": {},
   "source": [
    "<img src=\"figures/cap2.39.png\" width=600 />"
   ]
  },
  {
   "cell_type": "markdown",
   "metadata": {},
   "source": [
    "<img src=\"figures/cap2.40.png\" width=600 />"
   ]
  },
  {
   "cell_type": "markdown",
   "metadata": {},
   "source": [
    "<img src=\"figures/cap2.41.png\" width=600 />"
   ]
  },
  {
   "cell_type": "markdown",
   "metadata": {},
   "source": [
    "<img src=\"figures/cap2.43.png\" width=600 />"
   ]
  },
  {
   "cell_type": "markdown",
   "metadata": {},
   "source": [
    "<img src=\"figures/cap2.44.png\" width=600 />"
   ]
  },
  {
   "cell_type": "markdown",
   "metadata": {},
   "source": [
    "<img src=\"figures/cap2.45.png\" width=600 />"
   ]
  },
  {
   "cell_type": "markdown",
   "metadata": {},
   "source": [
    "<img src=\"figures/cap2.46.png\" width=600 />"
   ]
  },
  {
   "cell_type": "markdown",
   "metadata": {},
   "source": [
    "<img src=\"figures/cap2.47.png\" width=600 />"
   ]
  },
  {
   "cell_type": "markdown",
   "metadata": {},
   "source": [
    "## 2.8.3 Modeling Lagged Effects: Several Explanatory Variables"
   ]
  },
  {
   "cell_type": "markdown",
   "metadata": {},
   "source": [
    "<img src=\"figures/cap2.48.png\" width=600 />"
   ]
  },
  {
   "cell_type": "markdown",
   "metadata": {},
   "source": [
    "<img src=\"figures/cap2.49.png\" width=600 />"
   ]
  },
  {
   "cell_type": "markdown",
   "metadata": {},
   "source": [
    "<img src=\"figures/cap2.50.png\" width=600 />"
   ]
  },
  {
   "cell_type": "markdown",
   "metadata": {},
   "source": [
    "<img src=\"figures/cap2.51.png\" width=600 />"
   ]
  },
  {
   "cell_type": "markdown",
   "metadata": {},
   "source": [
    "<img src=\"figures/cap2.52.png\" width=600 />"
   ]
  },
  {
   "cell_type": "markdown",
   "metadata": {},
   "source": [
    "## 2.8.4 Lead Effects"
   ]
  },
  {
   "cell_type": "markdown",
   "metadata": {
    "collapsed": true
   },
   "source": [
    "<img src=\"figures/cap2.53.png\" width=600 />"
   ]
  },
  {
   "cell_type": "markdown",
   "metadata": {},
   "source": [
    "# 참고자료"
   ]
  },
  {
   "cell_type": "code",
   "execution_count": null,
   "metadata": {
    "collapsed": true
   },
   "outputs": [],
   "source": []
  }
 ],
 "metadata": {
  "kernelspec": {
   "display_name": "Python 2",
   "language": "python",
   "name": "python2"
  },
  "language_info": {
   "codemirror_mode": {
    "name": "ipython",
    "version": 2
   },
   "file_extension": ".py",
   "mimetype": "text/x-python",
   "name": "python",
   "nbconvert_exporter": "python",
   "pygments_lexer": "ipython2",
   "version": "2.7.10"
  }
 },
 "nbformat": 4,
 "nbformat_minor": 0
}
