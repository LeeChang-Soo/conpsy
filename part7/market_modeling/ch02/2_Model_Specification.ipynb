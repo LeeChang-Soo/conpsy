{
 "cells": [
  {
   "cell_type": "markdown",
   "metadata": {},
   "source": [
    "# Chapter 2 Model Specification"
   ]
  },
  {
   "cell_type": "markdown",
   "metadata": {},
   "source": [
    "* 싸이지먼트/소비자On : 파트 7 - 모델링 마켓 [1]\n",
    "* 김무성"
   ]
  },
  {
   "cell_type": "markdown",
   "metadata": {},
   "source": [
    "# Contents\n",
    "* 2.1 Introduction\n",
    "* 2.2 Model Criteria\n",
    "    - 2.2.1 Implementation Criteria Related to Model Structure\n",
    "    - 2.2.2 Models Should Be Simple\n",
    "    - 2.2.3 Models Should Be Built in an Evolutionary Way\n",
    "    - 2.2.4 Models Should Be Complete on Important Issues\n",
    "    - 2.2.5 Models Should Be Adaptive\n",
    "    - 2.2.6 Models Should Be Robust\n",
    "* 2.3 Model Elements\n",
    "* 2.4 Specification of the Functional Form\n",
    "    - 2.4.1 Models Linear in Parameters and Variables\n",
    "    - 2.4.2 Models Linear in Parameters But Not in Variables\n",
    "    - 2.4.3 Models That Are Nonlinear in Parameters, But Linearizable\n",
    "    - 2.4.4 Models That Are Nonlinear in Parameters and Not Linearizable\n",
    "* 2.5 Moderation and Mediation Effects\n",
    "* 2.6 Formalized Models for the Verhouten Case\n",
    "* 2.7 Including Heterogeneity\n",
    "* 2.8 Marketing Dynamics\n",
    "    - 2.8.1 Introduction\n",
    "    - 2.8.2 Modeling Lagged Effects: One Explanatory Variable\n",
    "    - 2.8.3 Modeling Lagged Effects: Several Explanatory Variables\n",
    "    - 2.8.4 Lead Effects"
   ]
  },
  {
   "cell_type": "markdown",
   "metadata": {},
   "source": [
    "# 2.1 Introduction"
   ]
  },
  {
   "cell_type": "markdown",
   "metadata": {},
   "source": [
    "Specification is an important step in the model building process. \n",
    "* As discussed in Chap. 1, the goal of this step is to express the most important elements of a real-world system in one or more mathematical equations. \n",
    "* In other words: the outcome of this step is a formula that summarizes the most important relationships of the phenomenon that we are studying."
   ]
  },
  {
   "cell_type": "markdown",
   "metadata": {},
   "source": [
    "# 2.2 Model Criteria\n",
    "* 2.2.1 Implementation Criteria Related to Model Structure\n",
    "* 2.2.2 Models Should Be Simple\n",
    "* 2.2.3 Models Should Be Built in an Evolutionary Way\n",
    "* 2.2.4 Models Should Be Complete on Important Issues\n",
    "* 2.2.5 Models Should Be Adaptive\n",
    "* 2.2.6 Models Should Be Robust"
   ]
  },
  {
   "cell_type": "markdown",
   "metadata": {},
   "source": [
    "## 2.2.1 Implementation Criteria Related to Model Structure"
   ]
  },
  {
   "cell_type": "markdown",
   "metadata": {},
   "source": [
    "In this section we pay attention to the question when a model can be considered to be a ‘<font color=\"red\">good</font>’ model."
   ]
  },
  {
   "cell_type": "markdown",
   "metadata": {},
   "source": [
    "These <font color=\"red\">criteria</font> consider two aspects of marketing models: \n",
    "* <font color=\"blue\">model structure</font> and \n",
    "* <font color=\"blue\">ease of use</font>."
   ]
  },
  {
   "cell_type": "markdown",
   "metadata": {},
   "source": [
    "In this chapter we focus on criteria that relate to <font color=\"red\">model structure</font>. "
   ]
  },
  {
   "cell_type": "markdown",
   "metadata": {},
   "source": [
    "Models should be:\n",
    "1. simple;\n",
    "2. complete;\n",
    "3. adaptive;\n",
    "4. robust.    "
   ]
  },
  {
   "cell_type": "markdown",
   "metadata": {},
   "source": [
    "## 2.2.2 Models Should Be Simple"
   ]
  },
  {
   "cell_type": "markdown",
   "metadata": {},
   "source": [
    "All models are simplified representations of real-world phenomena."
   ]
  },
  {
   "cell_type": "markdown",
   "metadata": {},
   "source": [
    "<font color=\"red\">One way in which model simplicity</font> can be achieved by the model builder is by <font color=\"red\">keeping the number of variables small</font>, and <font color=\"red\">only to include the important</font> phenomena in the model."
   ]
  },
  {
   "cell_type": "markdown",
   "metadata": {},
   "source": [
    "This can be achieved in one or more of the following ways:\n",
    "* (a) Eliminating Less Relevant Variables\n",
    "* (b) Clustering of Variables\n",
    "* (c) Introducing Relative Variables\n",
    "* (d) Phasing Variables over Different Levels\n",
    "    - For example, revenue for a given time period and a given territory can be decomposed as:\n",
    "        <img src=\"figures/cap2.1.png\" width=600 />\n",
    "    - and, for the same period and territory:\n",
    "        <img src=\"figures/cap2.2.png\" width=600 />\n",
    "* (e) Constraining Parameter Values"
   ]
  },
  {
   "cell_type": "markdown",
   "metadata": {},
   "source": [
    "#### parsimony "
   ]
  },
  {
   "cell_type": "markdown",
   "metadata": {},
   "source": [
    "* Points (a)–(e) above represent different ways of obtaining a simple structure, often through a reduction in the number of variables/parameters. \n",
    "* This relates to the concern of many model builders, especially those with a background in statistics and econometrics, that models must be manageable and estimable. \n",
    "* This calls for <font color=\"red\">parsimony of the models</font>, i.e. \n",
    "    - there should be a modest number of parameters, and \n",
    "    - for a simple structure, \n",
    "    - which might mean that \n",
    "        - linear or \n",
    "        - linearizable models \n",
    "        - are preferred \n",
    "        - to non-linearizable ones."
   ]
  },
  {
   "cell_type": "markdown",
   "metadata": {},
   "source": [
    "#### We now define more clearly what “simple” means for the user. \n",
    "* We cannot expect managers to be experts in mathematics, statistics, econometrics, operations research and computer science. \n",
    "* They are not, they do not pretend to be, nor do they want to be. \n",
    "* The manager is often not interested in the detailed intricacies of the model. \n",
    "* What she wants is a basic understanding of the logic of the model and of what it can do for her. \n",
    "* For the user, a model will be simple if this basic understanding is provided. Communication and involvement are two means of achieving this."
   ]
  },
  {
   "cell_type": "markdown",
   "metadata": {},
   "source": [
    "## 2.2.3 Models Should Be Built in an Evolutionary Way"
   ]
  },
  {
   "cell_type": "markdown",
   "metadata": {},
   "source": [
    "* We should, of course, realize that the real world is not simple, and that when a model represents the most important elements of a system, it will often look uncomfortably complicated.\n",
    "* The basic idea is that one does not build a model with all ramifications from the start. Manager and model builder <font color=\"red\">begin by defining the important elements of the problem</font>, and how these elements are related. \n",
    "* The model is now <font color=\"red\">becoming more complex</font>, but the manager still understands it, because it is her realization that something was missing which led to the increase in complexity. \n",
    "* In a sense the model becomes difficult, yet <font color=\"red\">by using an evolutionary approach</font>, it also remains simple because the manager has a clear understanding of what the model is supposed to do."
   ]
  },
  {
   "cell_type": "markdown",
   "metadata": {},
   "source": [
    "#### evolutionary approach\n",
    "This approach can be accompanied by a two-step presentation. \n",
    "* First, a <font color=\"red\">formalized or conceptual model</font> is presented to management.\n",
    "    - This model ultimately reflects management’s own views about the nature of market response. \n",
    "* Second, an <font color=\"red\">empirical model or statistical model</font> is used to convey to management, \n",
    "    - how much of the overall response is captured in the model."
   ]
  },
  {
   "cell_type": "markdown",
   "metadata": {},
   "source": [
    "<img src=\"figures/cap2.3.png\" width=600 />"
   ]
  },
  {
   "cell_type": "markdown",
   "metadata": {},
   "source": [
    "## 2.2.4 Models Should Be Complete on Important Issues"
   ]
  },
  {
   "cell_type": "markdown",
   "metadata": {},
   "source": [
    "* For a model to be a useful decision-support tool, it has to represent all relevant elements of the problem being studied. \n",
    "* This means that a model should account for all important variables: \n",
    "    - <font color=\"red\">the model should be complete</font>. "
   ]
  },
  {
   "cell_type": "markdown",
   "metadata": {},
   "source": [
    "## 2.2.5 Models Should Be Adaptive"
   ]
  },
  {
   "cell_type": "markdown",
   "metadata": {},
   "source": [
    "Market change and market behavior are dynamic. Thus, it is not possible to think of model building as a one-time affair. Instead, models need to be adapted more or less continuously."
   ]
  },
  {
   "cell_type": "markdown",
   "metadata": {},
   "source": [
    "## 2.2.6 Models Should Be Robust"
   ]
  },
  {
   "cell_type": "markdown",
   "metadata": {},
   "source": [
    "Little defines model robustness5 as a quality characteristic which makes it difficult for a user to obtain bad answers.\n",
    "* He suggest that robustness is achievable through the specification of a structure that constrains answers to a meaningful range of values."
   ]
  },
  {
   "cell_type": "markdown",
   "metadata": {},
   "source": [
    "Empirically, model robustness exists if the model results reflect:\n",
    "* (a) Correct marginal effects and changes therein.\n",
    "    - Broadlyspeaking, each marginal effect should be plausible over a wide range of possible values for the corresponding predictor variable (appropriate functional form).\n",
    "* (b) Meaningful interaction effects.\n",
    "    - The marginal effect of a given predictor variable may depend on the value of another predictor variable: \n",
    "        - for example, there is a large body of evidence to support the view that the price elasticity of a brand depends on the amount of advertising support (Kaul and Wittink 1995).\n",
    "* (c) The endogeneity of variables for which the models are intended to produce marginal effects. \n",
    "    - If a predictor variable is manipulated by management based on realized values of the criterion variable then this “reverse causality” must be taken into account in the model-building process."
   ]
  },
  {
   "cell_type": "markdown",
   "metadata": {},
   "source": [
    "For some criterion variables, it is possible to specify constraints.\n",
    "* predicted\n",
    "* logically consistent\n",
    "* consistent sum-constrained\n",
    "    - Let $q_{jt}$ be the demand for brand $j$ in period $t$. \n",
    "    - Product class sales in period $t$ can then be written as: \n",
    "        - $restr_{·t}$ \n",
    "    - For sum-constrained models we require:\n",
    "        <img src=\"figures/cap2.4.png\" width=600 />"
   ]
  },
  {
   "cell_type": "markdown",
   "metadata": {},
   "source": [
    "# 2.3 Model Elements"
   ]
  },
  {
   "cell_type": "markdown",
   "metadata": {},
   "source": [
    "In this section we introduce the <font color=\"red\">components or elements of a model</font>, using a <font color=\"blue\">simple linear model</font> for the Verhouten application:"
   ]
  },
  {
   "cell_type": "markdown",
   "metadata": {},
   "source": [
    "<img src=\"figures/cap2.5.png\" width=600 />"
   ]
  },
  {
   "cell_type": "markdown",
   "metadata": {},
   "source": [
    "* explained, the dependent variable or the criterion variable.\n",
    "* The first part of the right-hand side of the equation is also referred to as the <font color=\"red\">systematic</font> part of the model \n",
    "    - independent variables, explanatory variables, predictors, control variables or regressors.\n",
    "    - response parameters or effect parameters.\n",
    "    - constant term or the intercept\n",
    "    - mean-centered (subtract from each value of a variable the mean of that variable): then $α$ can somewhat loosely be interpreted as the “baseline\"\n",
    "* The second part of the right-hand side of Eq. (2.4) consists of the <font color=\"red\">error</font> term and is referred to as the <font color=\"red\">stochastic</font> part of the model.\n",
    "    - probability distribution\n",
    "        - random (or stochastic)\n",
    "        - the disturbance term\n",
    "            - the fact that a probability distribution is a useful way to characterize the variation in the error term does not mean that variation in the disturbances is caused by just random variation:\n",
    "                - the error due to missing or omitted variables\n",
    "                - error in the functional relationship\n",
    "                - errors in measurement of the variables"
   ]
  },
  {
   "cell_type": "markdown",
   "metadata": {},
   "source": [
    "# 2.4 Specification of the Functional Form\n",
    "* 2.4.1 Models Linear in Parameters and Variables\n",
    "* 2.4.2 Models Linear in Parameters But Not in Variables\n",
    "* 2.4.3 Models That Are Nonlinear in Parameters, But Linearizable\n",
    "* 2.4.4 Models That Are Nonlinear in Parameters and Not Linearizable"
   ]
  },
  {
   "cell_type": "markdown",
   "metadata": {},
   "source": [
    "Once the dependent and the independent variables are selected, a model builder should <font color=\"red\">decide on the type of mathematical relationship</font> between the variables."
   ]
  },
  {
   "cell_type": "markdown",
   "metadata": {},
   "source": [
    "most common types of mathematical forms:\n",
    "1. linear in both parameters and variables;\n",
    "2. nonlinear in the variables, but linear in the parameters; \n",
    "3. nonlinear in the parameters and linearizable;\n",
    "4. nonlinear in the parameters and not linearizable."
   ]
  },
  {
   "cell_type": "markdown",
   "metadata": {},
   "source": [
    "## 2.4.1 Models Linear in Parameters and Variables"
   ]
  },
  {
   "cell_type": "markdown",
   "metadata": {},
   "source": [
    "Models linear in parameters and variables have the following structure:"
   ]
  },
  {
   "cell_type": "markdown",
   "metadata": {},
   "source": [
    "<img src=\"figures/cap2.6.png\" width=600 />"
   ]
  },
  {
   "cell_type": "markdown",
   "metadata": {},
   "source": [
    "#### linear additive model"
   ]
  },
  {
   "cell_type": "markdown",
   "metadata": {},
   "source": [
    "A model that is linear in parameters and in variables is sometimes also referred to as a <font color=\"red\">linear additive model</font>. It is additive in the sense that the joint effect of the predictor variables is equal to the sum of their separate effects, as can be seen in Eq. (2.5)."
   ]
  },
  {
   "cell_type": "markdown",
   "metadata": {},
   "source": [
    "#### linearity assumption\n",
    "\n",
    "The linearity assumption implies <font color=\"red\">constant returns to scale</font> with respect to each of the independent variables. This can be seen by taking the first-order partial derivative of $y_t$ with respect to any of the independent variables $x_{kt}$ :"
   ]
  },
  {
   "cell_type": "markdown",
   "metadata": {},
   "source": [
    "<img src=\"figures/cap2.7.png\" width=600 />"
   ]
  },
  {
   "cell_type": "markdown",
   "metadata": {},
   "source": [
    "which means that increasing $x_{kt}$ by one unit results in an increase of $y_t$ by $β_{k}$ units"
   ]
  },
  {
   "cell_type": "markdown",
   "metadata": {},
   "source": [
    "#### constant returns to scale\n",
    "This assumption of constant returns to scale is unreasonable in most applications."
   ]
  },
  {
   "cell_type": "markdown",
   "metadata": {},
   "source": [
    "#### no interactions\n",
    "Another drawback of the linear additive model is that it assumes no interactions\n",
    "between the variables."
   ]
  },
  {
   "cell_type": "markdown",
   "metadata": {},
   "source": [
    "#### moderate"
   ]
  },
  {
   "cell_type": "markdown",
   "metadata": {},
   "source": [
    "Interaction between two x-variables occurs when the effect of one x-variable on the y-variable depends on the level of the other x-variable. In such cases, the latter x-variable is said to moderate the effect of the first x-variable on y."
   ]
  },
  {
   "cell_type": "markdown",
   "metadata": {},
   "source": [
    "<font color=\"red\">In Sect. 2.5 we discuss how the linear additive model can be extended to include interaction effects</font>."
   ]
  },
  {
   "cell_type": "markdown",
   "metadata": {},
   "source": [
    "## 2.4.2 Models Linear in Parameters But Not in Variables"
   ]
  },
  {
   "cell_type": "markdown",
   "metadata": {},
   "source": [
    "A second class of models consists of models which are \n",
    "* nonlinear in the variables, but \n",
    "* linear in the parameters.\n",
    "\n",
    "They are also called <font color=\"red\">nonlinear additive models</font>."
   ]
  },
  {
   "cell_type": "markdown",
   "metadata": {},
   "source": [
    "Equation (2.7) is an example of a model in which <font color=\"blue\">three variables</font> ($x_{1t}$, $x_{2t}$, and $x_{4t}$) are assumed to have <font color=\"blue\">nonlinear effects</font>:"
   ]
  },
  {
   "cell_type": "markdown",
   "metadata": {},
   "source": [
    "<img src=\"figures/cap2.8.png\" width=600 />"
   ]
  },
  {
   "cell_type": "markdown",
   "metadata": {},
   "source": [
    "Equation (2.7) can be <font color=\"red\">turned into a linear additive model</font> relatively easy <font color=\"blue\">by transforming</font> the nonlinear variables as follows before they enter the model:"
   ]
  },
  {
   "cell_type": "markdown",
   "metadata": {},
   "source": [
    "<img src=\"figures/cap2.9.png\" width=200 />"
   ]
  },
  {
   "cell_type": "markdown",
   "metadata": {},
   "source": [
    "After substituting the transformed variables in Eq.(2.7) a linear additive model emerges:"
   ]
  },
  {
   "cell_type": "markdown",
   "metadata": {},
   "source": [
    "<img src=\"figures/cap2.10.png\" width=600 />"
   ]
  },
  {
   "cell_type": "markdown",
   "metadata": {},
   "source": [
    "We next discuss a few formulations of nonlinear additive models, with their characteristics, advantages, and disadvantages. Consider the following relation:"
   ]
  },
  {
   "cell_type": "markdown",
   "metadata": {},
   "source": [
    "<img src=\"figures/cap2.11.png\" width=600 />"
   ]
  },
  {
   "cell_type": "markdown",
   "metadata": {},
   "source": [
    "#### natue of effects"
   ]
  },
  {
   "cell_type": "markdown",
   "metadata": {},
   "source": [
    "To understand the nature of effects, we investigate the first derivative of qt with\n",
    "respect to at:"
   ]
  },
  {
   "cell_type": "markdown",
   "metadata": {},
   "source": [
    "<img src=\"figures/cap2.12.png\" width=600 />"
   ]
  },
  {
   "cell_type": "markdown",
   "metadata": {},
   "source": [
    "sales would decline with further increases in advertising."
   ]
  },
  {
   "cell_type": "markdown",
   "metadata": {},
   "source": [
    "#### supersaturation"
   ]
  },
  {
   "cell_type": "markdown",
   "metadata": {},
   "source": [
    "This phenomenon is known as supersaturation (Hanssens et al. 2001, p. 42). \n",
    "* Supersaturation results if excessive marketing effort causes a negative response. \n",
    "* If this phenomenon runs counter to our prior beliefs, we could reject the model specified in Eq.(2.9). \n",
    "* Nevertheless, <font color=\"red\">the model may perform well within a certain range of values of $a_{t}$</font>."
   ]
  },
  {
   "cell_type": "markdown",
   "metadata": {},
   "source": [
    "There are other ways to represent decreasing returns to scale. In (2.10) sales are a function of the square root of the independent variable, say advertising,"
   ]
  },
  {
   "cell_type": "markdown",
   "metadata": {},
   "source": [
    "<img src=\"figures/cap2.13.png\" width=600 />"
   ]
  },
  {
   "cell_type": "markdown",
   "metadata": {},
   "source": [
    "Equation (2.11) shows decreasing returns to scale over the whole range of $a_{jt}$,\n",
    "since:"
   ]
  },
  {
   "cell_type": "markdown",
   "metadata": {},
   "source": [
    "<img src=\"figures/cap2.14.png\" />"
   ]
  },
  {
   "cell_type": "markdown",
   "metadata": {},
   "source": [
    "which decreases with $a_t$. Again, returns to advertising tend to zero for high levels of advertising."
   ]
  },
  {
   "cell_type": "markdown",
   "metadata": {},
   "source": [
    "#### The sales-advertising relations & saturation level"
   ]
  },
  {
   "cell_type": "markdown",
   "metadata": {},
   "source": [
    "Since we know that sales potential is a finite quantity, we prefer sales-advertising models in which sales approaches a saturation level as advertising grows large."
   ]
  },
  {
   "cell_type": "markdown",
   "metadata": {},
   "source": [
    "#### reciprocal relation"
   ]
  },
  {
   "cell_type": "markdown",
   "metadata": {},
   "source": [
    "A simple example of a model with a saturation level is the reciprocal relation:"
   ]
  },
  {
   "cell_type": "markdown",
   "metadata": {},
   "source": [
    "<img src=\"figures/cap2.15.png\" width=600 />"
   ]
  },
  {
   "cell_type": "markdown",
   "metadata": {},
   "source": [
    "Another example of a reciprocal relation is:"
   ]
  },
  {
   "cell_type": "markdown",
   "metadata": {},
   "source": [
    "<img src=\"figures/cap2.16.png\" width=600 />"
   ]
  },
  {
   "cell_type": "markdown",
   "metadata": {},
   "source": [
    "#### logarithmic reciprocal relation"
   ]
  },
  {
   "cell_type": "markdown",
   "metadata": {},
   "source": [
    "If one wants a response function to show increasing returns to scale first, then decreasing returns, the logarithmic reciprocal relation may be used:\n"
   ]
  },
  {
   "cell_type": "markdown",
   "metadata": {},
   "source": [
    "<img src=\"figures/cap2.17.png\" width=600 />"
   ]
  },
  {
   "cell_type": "markdown",
   "metadata": {},
   "source": [
    "## 2.4.3 Models That Are Nonlinear in Parameters, But Linearizable"
   ]
  },
  {
   "cell_type": "markdown",
   "metadata": {},
   "source": [
    "#### multiplicative model"
   ]
  },
  {
   "cell_type": "markdown",
   "metadata": {},
   "source": [
    "One of the most frequently encountered marketing response functions that are nonlinear in the parameters (they appear as exponents), is the so-called multiplicative model:"
   ]
  },
  {
   "cell_type": "markdown",
   "metadata": {},
   "source": [
    "<img src=\"figures/cap2.18.png\" width=600 />"
   ]
  },
  {
   "cell_type": "markdown",
   "metadata": {},
   "source": [
    "#### log-log model"
   ]
  },
  {
   "cell_type": "markdown",
   "metadata": {},
   "source": [
    "<img src=\"figures/cap2.19.png\" width=600 />"
   ]
  },
  {
   "cell_type": "markdown",
   "metadata": {},
   "source": [
    "Firstly, Eq. (2.15) allows for a specific form of interaction between the various instruments. This can easily be seen by looking at the first-order derivative with respect to, say, variable $x_{kt}$:"
   ]
  },
  {
   "cell_type": "markdown",
   "metadata": {},
   "source": [
    "<img src=\"figures/cap2.20.png\" width=600 />"
   ]
  },
  {
   "cell_type": "markdown",
   "metadata": {},
   "source": [
    "<font color=\"red\">The impact of a change in $x_{kt}$ on yt is therefore a function of $y_{t}$ itself</font>, which means that it depends not only on the value of $x_{kt}$ but on all the other variables as well."
   ]
  },
  {
   "cell_type": "markdown",
   "metadata": {},
   "source": [
    "#### simple economic interpretation"
   ]
  },
  {
   "cell_type": "markdown",
   "metadata": {},
   "source": [
    "#### 참고\n",
    "* [2] 탄력성 - https://ko.wikipedia.org/wiki/%ED%83%84%EB%A0%A5%EC%84%B1"
   ]
  },
  {
   "cell_type": "markdown",
   "metadata": {},
   "source": [
    "Secondly, model (2.15) has a simple economic interpretation. Let us consider $η_{k}$ , the <font color=\"red\">elasticity</font> of $y_{t}$ with respect to variable $x_{kt}$, which is defined as:"
   ]
  },
  {
   "cell_type": "markdown",
   "metadata": {},
   "source": [
    "<img src=\"figures/cap2.21.png\" />"
   ]
  },
  {
   "cell_type": "markdown",
   "metadata": {},
   "source": [
    "Using (2.18) we find $η_{k}$ = $β_{k}$, which means that the exponents in a multiplicative response model are <font color=\"red\">constant elasticities</font>. \n",
    "*  This is a disadvantage if one wants $η_{k}$ to depend on one or more of the independent variables."
   ]
  },
  {
   "cell_type": "markdown",
   "metadata": {},
   "source": [
    "#### the functional form of relations"
   ]
  },
  {
   "cell_type": "markdown",
   "metadata": {},
   "source": [
    "To see the functional form of relations in the multiplicative model, consider the case with only one explanatory variable:"
   ]
  },
  {
   "cell_type": "markdown",
   "metadata": {},
   "source": [
    "<img src=\"figures/cap2.22.png\" width=600 />"
   ]
  },
  {
   "cell_type": "markdown",
   "metadata": {},
   "source": [
    "<img src=\"figures/cap2.24.png\" width=600 />"
   ]
  },
  {
   "cell_type": "markdown",
   "metadata": {},
   "source": [
    "#### exponential model"
   ]
  },
  {
   "cell_type": "markdown",
   "metadata": {},
   "source": [
    "<font color=\"red\">There are many other nonlinear models that can linearized</font> besides the multiplicative model. One is the exponential model:"
   ]
  },
  {
   "cell_type": "markdown",
   "metadata": {},
   "source": [
    "<img src=\"figures/eq2.19.png\" width=600 />"
   ]
  },
  {
   "cell_type": "markdown",
   "metadata": {},
   "source": [
    "which, after taking logarithms, becomes linear in the parameters $α^{∗}(=lnα)$ and $β$:"
   ]
  },
  {
   "cell_type": "markdown",
   "metadata": {},
   "source": [
    "<img src=\"figures/cap2.23.png\" width=300 />"
   ]
  },
  {
   "cell_type": "markdown",
   "metadata": {},
   "source": [
    "* This model may, also, with <font color=\"blue\">$β$ negative</font>, be appropriate for a <font color=\"red\">sales–price relation</font>.\n",
    "    - For price ($x_t$) equal to zero, sales equal $α$, whereas for price going to infinity, sales tend to zero. \n",
    "* However, for <font color=\"blue\"> $β$ > 0 </font>, (2.20) has <font color=\"red\">no saturation level</font>. \n",
    "    - Yet for almost all products in virtually any market it holds that no matter how much marketing effort is spent, there is a finite upper limit for sales."
   ]
  },
  {
   "cell_type": "markdown",
   "metadata": {},
   "source": [
    "## 2.4.4 Models That Are Nonlinear in Parameters and Not Linearizable"
   ]
  },
  {
   "cell_type": "markdown",
   "metadata": {},
   "source": [
    "If the model is not linearizable, the model is called <font color=\"red\">intrinsically nonlinear or intractable</font>. \n",
    "* In the past, model builders often went to great efforts to make their models linearizable.\n",
    "* In the mean time, powerful nonlinear estimation techniques have been developed, and are nowadays available in statistical software packages. Thus, from an estimation point of view, intrinsic nonlinearity is no longer problematic in a purely technical sense.\n",
    "* It remains true, however, that the statistical properties of nonlinear estimation techniques are not as well known as those of linear models."
   ]
  },
  {
   "cell_type": "markdown",
   "metadata": {},
   "source": [
    "#### modified exponential model"
   ]
  },
  {
   "cell_type": "markdown",
   "metadata": {},
   "source": [
    "As an example of an intrinsically nonlinear model, consider the modified\n",
    "exponential model:"
   ]
  },
  {
   "cell_type": "markdown",
   "metadata": {},
   "source": [
    "<img src=\"figures/cap2.25.png\" width=600 />"
   ]
  },
  {
   "cell_type": "markdown",
   "metadata": {},
   "source": [
    "* If xt equals zero, $y_t$ also equals zero. As $x_t$ goes to infinity, $y_t$ approaches $α$ asymptotically. \n",
    "* An interesting characteristic of the model is that the marginal sales response is proportional to the level of <font color=\"red\">untapped potential</font> ($α−y_t$).\n",
    "* This is easily demonstrated as follows. \n",
    "\n",
    "The first-order derivative of $y_t$ with respect to $x_t$ is:"
   ]
  },
  {
   "cell_type": "markdown",
   "metadata": {},
   "source": [
    "<img src=\"figures/cap2.26.png\" width=600 />"
   ]
  },
  {
   "cell_type": "markdown",
   "metadata": {},
   "source": [
    "# 2.5 Moderation and Mediation Effects"
   ]
  },
  {
   "cell_type": "markdown",
   "metadata": {},
   "source": [
    "<img src=\"figures/cap2.27.png\" width=600 />"
   ]
  },
  {
   "cell_type": "markdown",
   "metadata": {},
   "source": [
    "#### interaction effect"
   ]
  },
  {
   "cell_type": "markdown",
   "metadata": {},
   "source": [
    "It is possible to extend the linear additive model so that it accommodates interaction effects by adding the product of the variables that are likely to have interaction effects. For example, with two predictors $x_{1t}$ and $x_{2t}$ we can add the product $x_{1t}x_{2t}$:"
   ]
  },
  {
   "cell_type": "markdown",
   "metadata": {},
   "source": [
    "<img src=\"figures/cap2.28.png\" width=600 />"
   ]
  },
  {
   "cell_type": "markdown",
   "metadata": {},
   "source": [
    "For example, if $x_{1t}$ is advertising, and $x_{2t}$ distribution, measured by the number of retail stores carrying the brand, (2.23) allows for advertising to have a larger effect if more stores sell the brand."
   ]
  },
  {
   "cell_type": "markdown",
   "metadata": {},
   "source": [
    "A disadvantage of the interaction term formulation becomes apparent when the number of predictor variables exceeds two. For example, with three predictors, a full interaction model becomes:"
   ]
  },
  {
   "cell_type": "markdown",
   "metadata": {},
   "source": [
    "<img src=\"figures/cap2.29.png\" width=600 />"
   ]
  },
  {
   "cell_type": "markdown",
   "metadata": {},
   "source": [
    "A recent example of a model that accounts for moderating effects is Koschate-Fischer et al. (2014).\n",
    "* They demonstrate that the relationship between private label share and store loyalty is moderated by factors such as:\n",
    "    1. customers’ price orientation;\n",
    "    2. the commodization of the product category;\n",
    "    3. product category involvement and\n",
    "    4. the retailer’s price positioning;"
   ]
  },
  {
   "cell_type": "markdown",
   "metadata": {},
   "source": [
    "#### mediation models"
   ]
  },
  {
   "cell_type": "markdown",
   "metadata": {},
   "source": [
    "Moderated models are sometimes confused with mediation models. Mediation models are models that aim to explain the relationship between a independent variable, say $x_{1t}$ and a dependent variable $y_t$ via a third explanatory variable, say $x_{2t}$, known as the mediator variable.\n",
    "* For instance, the effect of marketing efforts ($x_{1t}$) on sales ($y_t$) may be mediated by consumer attitudes/brand health indicators ($x_{2t}$), as demonstrated in Hanssens et al. (2014) ."
   ]
  },
  {
   "cell_type": "markdown",
   "metadata": {},
   "source": [
    "<img src=\"figures/cap2.30.png\" width=600 />"
   ]
  },
  {
   "cell_type": "markdown",
   "metadata": {},
   "source": [
    "#### responsiveness & conversion & ransactions route"
   ]
  },
  {
   "cell_type": "markdown",
   "metadata": {},
   "source": [
    "Continuing our marketing example, marketing may have both \n",
    "* a direct, unmediated effect on sales \n",
    "    - (e.g. price promotions and reminder advertising increase transactions with current brand customers) and \n",
    "* an indirect effect through \n",
    "    - improving awareness, \n",
    "    - consideration and/or \n",
    "    - liking among category consumers. \n",
    "\n",
    "Hanssens et al. (2014) call \n",
    "* path a the “responsiveness” \n",
    "    - of brand health indicators to marketing actions, \n",
    "* path b the conversion \n",
    "    - of these brand health indicators into sales, and \n",
    "* path c′ the “transactions route” \n",
    "    - of marketing influence on brand sales.\n",
    "    \n",
    "Interestingly, \n",
    "* market-response modeling literature has focused on \n",
    "    - the unmediated model,\n",
    "* while advertising and attitude literature has focused on \n",
    "    - responsiveness (path a) and \n",
    "* marketing metrics literature mostly on \n",
    "    - sales conversion (path b). "
   ]
  },
  {
   "cell_type": "markdown",
   "metadata": {},
   "source": [
    "# 2.6 Formalized Models for the Verhouten Case"
   ]
  },
  {
   "cell_type": "markdown",
   "metadata": {},
   "source": [
    "At the end of Sect. 1.3 we concluded that Verhouten Management wants model builders to develop:\n",
    "* an explicit decision model, which is\n",
    "* numerically specified, which can be used\n",
    "* to predict sales, at\n",
    "* the brand sales level"
   ]
  },
  {
   "cell_type": "markdown",
   "metadata": {},
   "source": [
    "we are now ready to proceed with step 5. \n",
    "* We specify two formalized static models that \n",
    "    - satisfy the implementation criteria as well as possible. "
   ]
  },
  {
   "cell_type": "markdown",
   "metadata": {},
   "source": [
    "#### The first model ( = linear additive model ) "
   ]
  },
  {
   "cell_type": "markdown",
   "metadata": {},
   "source": [
    "The first model (2.26) is a linear additive model."
   ]
  },
  {
   "cell_type": "markdown",
   "metadata": {},
   "source": [
    "<img src=\"figures/cap2.31.png\" width=600 />"
   ]
  },
  {
   "cell_type": "markdown",
   "metadata": {},
   "source": [
    "#### The second model (= multiplicative model)"
   ]
  },
  {
   "cell_type": "markdown",
   "metadata": {},
   "source": [
    "The second model (2.27) has a multiplicative specification."
   ]
  },
  {
   "cell_type": "markdown",
   "metadata": {},
   "source": [
    "<img src=\"figures/cap2.32.png\" width=600 />"
   ]
  },
  {
   "cell_type": "markdown",
   "metadata": {},
   "source": [
    "By adding or deleting variables in an evolutionary way and accounting for varying parameters over time, the model allows for adaptiveness."
   ]
  },
  {
   "cell_type": "markdown",
   "metadata": {},
   "source": [
    "# 2.7 Including Heterogeneity"
   ]
  },
  {
   "cell_type": "markdown",
   "metadata": {},
   "source": [
    "* Thus far, we have only considered models for a single entity in this chapter.\n",
    "    - For example, in the Verhouten case, we have considered a sales model for the Verhouten brand only. \n",
    "* However, in many applications, data of multiple entities is available,\n",
    "    - such as data for different stores, regions or brands. \n",
    "* This has two consequences for the model specification step."
   ]
  },
  {
   "cell_type": "markdown",
   "metadata": {},
   "source": [
    "The first consequence is that we need to carefully indicate which entity we are considering."
   ]
  },
  {
   "cell_type": "markdown",
   "metadata": {},
   "source": [
    "The second consequence is that we need to make decisions how to treat the entities in our model specification. \n",
    "\n",
    "We consider four approaches:\n",
    "1. aggregation across the entities;\n",
    "2. specify a different model for each entity (unit-by-unit models);\n",
    "3. specify a model that is the same for each entity (pooled models);\n",
    "4. specify a model where some parameters are pooled, and others are entity-specific (partially pooled models)."
   ]
  },
  {
   "cell_type": "markdown",
   "metadata": {},
   "source": [
    "#### Ad 1: Aggregated models."
   ]
  },
  {
   "cell_type": "markdown",
   "metadata": {},
   "source": [
    "A first option that can be considered is to aggregate across the entities, and specify a model on a higher aggregation level. \n",
    "* For example, in the Verhouten case, we might aggregate all variables in the data set across brands and specify a model for the category sales of chocolate bars at Albert Heijn. "
   ]
  },
  {
   "cell_type": "markdown",
   "metadata": {},
   "source": [
    "#### Ad 2: Unit-by-unit models."
   ]
  },
  {
   "cell_type": "markdown",
   "metadata": {},
   "source": [
    "A second approach is to specify a model for each entity. This generates a separate set of parameter estimates for each entity, and provides maximum flexibility/heterogeneity for accommodating all potential differences between the entities.\n",
    "* For example, if we would estimate separate store-level models for all Albert Heijn stores in the Netherlands, we would need to interpret more than 800 sets of model outcomes, one for each store or for each store/brand combination, which is an unduly task, especially for managers that suffer from scarcity of time."
   ]
  },
  {
   "cell_type": "markdown",
   "metadata": {},
   "source": [
    "#### Ad 3: Pooled models."
   ]
  },
  {
   "cell_type": "markdown",
   "metadata": {},
   "source": [
    "A third approach is to specify exactly the same model for each entity, and to utilize the observations of all entities to estimate the parameters in the model. This approach is quite restrictive because it requires that all parameters do not differ across the entities. \n",
    "* For example, specifying exactly the same model for each of the four brands in the Verhouten case requires that the intercepts of all brands have the same value."
   ]
  },
  {
   "cell_type": "markdown",
   "metadata": {},
   "source": [
    "#### Ad 4: Partially pooled models."
   ]
  },
  {
   "cell_type": "markdown",
   "metadata": {},
   "source": [
    "The last option that we consider here is when some parameters are restricted to be the same across entities, whereas others are allowed to differ between entities. This approach provides statistical efficiency, because it combines data from multiple categories wherever possible, and accommodates differences across entities wherever needed. \n",
    "* Specifying exactly the same model for each of the four brands in the Verhouten case requires that customers are equally price sensitive, irrespective of the brand they typically buy.\n",
    "* This might not be very realistic as each of the brands target different segments in the market, as reflected by their price positioning."
   ]
  },
  {
   "cell_type": "markdown",
   "metadata": {},
   "source": [
    "<img src=\"figures/cap2.33.png\" width=600 />"
   ]
  },
  {
   "cell_type": "markdown",
   "metadata": {},
   "source": [
    "<img src=\"figures/cap2.34.png\" width=600 />"
   ]
  },
  {
   "cell_type": "markdown",
   "metadata": {},
   "source": [
    "<img src=\"figures/cap2.35.png\" width=600 />"
   ]
  },
  {
   "cell_type": "markdown",
   "metadata": {},
   "source": [
    "# 2.8 Marketing Dynamics\n",
    "* 2.8.1 Introduction\n",
    "* 2.8.2 Modeling Lagged Effects: One Explanatory Variable\n",
    "* 2.8.3 Modeling Lagged Effects: Several Explanatory Variables\n",
    "* 2.8.4 Lead Effects"
   ]
  },
  {
   "cell_type": "markdown",
   "metadata": {},
   "source": [
    "## 2.8.1 Introduction"
   ]
  },
  {
   "cell_type": "markdown",
   "metadata": {},
   "source": [
    "Marketing is dynamic in essence. \n",
    "* For example, new products are developed, tested, and launched, more and better packaging is introduced, competitors come and go, and so on. These effects can be accounted for by adding appropriate variables to the model that control for these developments. "
   ]
  },
  {
   "cell_type": "markdown",
   "metadata": {},
   "source": [
    "#### marketing dynamics"
   ]
  },
  {
   "cell_type": "markdown",
   "metadata": {},
   "source": [
    "* lagged effects\n",
    "    - Another type of marketing dynamics occurs when the effects of, for example, advertising expenditures do not end when the campaign is over. The effects, or parts of it, remain noticeable for several future periods.\n",
    "    - Or, looked at somewhat differently, sales in period t will be affected by advertising in t, but also by expenditures in t−1,t−2,....\n",
    "    - Thus, one can refer to the lagged effects of advertising. \n",
    "* lead effects \n",
    "    - Similarly, one can also observe a dynamic sales response when consumers or competitors anticipate a marketing stimulus and adjust their behavior before it actually occurs. This results in lead effects of marketing expenditures.\n",
    "* Together, these effects are known as dynamic effects of marketing variables, or simply marketing dynamics"
   ]
  },
  {
   "cell_type": "markdown",
   "metadata": {},
   "source": [
    "## 2.8.2 Modeling Lagged Effects: One Explanatory Variable"
   ]
  },
  {
   "cell_type": "markdown",
   "metadata": {},
   "source": [
    "The sales effects of an advertising campaign in period t are generally not limited to that period, but will also have an effect in future periods.\n",
    "* These lagged effects of marketing activities on sales have long been recognized as one of the complicating features of market measurement. \n",
    "* Its existence means that promotional programs should be evaluated over a longer period than that of the campaign."
   ]
  },
  {
   "cell_type": "markdown",
   "metadata": {},
   "source": [
    "We make a distinction between delayed-response effects and customer-holdover effects."
   ]
  },
  {
   "cell_type": "markdown",
   "metadata": {},
   "source": [
    "#### Delayed-response effects"
   ]
  },
  {
   "cell_type": "markdown",
   "metadata": {},
   "source": [
    "Delayed-response effects arise from the delay between marketing money being spent and sales occurring. It can happen because of:\n",
    "* execution delay: the time between management spending money or preparing an ad and its appearance;\n",
    "* noting delay: the time between a magazine being published and read;\n",
    "* purchasing delay: the time between a consumer receiving the stimulus and a purchase being made."
   ]
  },
  {
   "cell_type": "markdown",
   "metadata": {},
   "source": [
    "The delayed-response effect can be simply represented by a relation such as:"
   ]
  },
  {
   "cell_type": "markdown",
   "metadata": {},
   "source": [
    "<img src=\"figures/cap2.36.png\" width=600 />"
   ]
  },
  {
   "cell_type": "markdown",
   "metadata": {},
   "source": [
    "#### Customer-holdover effects"
   ]
  },
  {
   "cell_type": "markdown",
   "metadata": {},
   "source": [
    "Customer-holdover effects occur because customers sometimes make repeated purchases for some time, e.g. at times t,t+1,t+2,...,t+s after the initial stimulus in t, either because of:\n",
    "* new buyer holdover effects, where marketing activity attracts new customers who make repeat purchases, or\n",
    "* increased purchase holdover effects, where the marketing stimulus increases the average quantity purchased per period for some time."
   ]
  },
  {
   "cell_type": "markdown",
   "metadata": {},
   "source": [
    "Taking delayed response and customer holdover effects together, the following demand function represents a reasonable specification of the dynamic effects of advertising:\n"
   ]
  },
  {
   "cell_type": "markdown",
   "metadata": {},
   "source": [
    "<img src=\"figures/cap2.37.png\" width=600 />"
   ]
  },
  {
   "cell_type": "markdown",
   "metadata": {},
   "source": [
    "Equation (2.29) indicates that advertising has an effect up to s periods into the future. Given that s is a finite number, (2.29) is called a <font color=\"red\">finite distributed lag model of order s</font>."
   ]
  },
  {
   "cell_type": "markdown",
   "metadata": {},
   "source": [
    "#### unrestricted model"
   ]
  },
  {
   "cell_type": "markdown",
   "metadata": {},
   "source": [
    "The three reasons above have led researchers to consider relations between the various $β_i$ in (2.29) in order to arrive at a simpler model. A simpler model will have fewer parameters and will be less troublesome to estimate. Model (2.29) is known as an unrestricted model."
   ]
  },
  {
   "cell_type": "markdown",
   "metadata": {},
   "source": [
    "#### Geometric lag model, Koyck model or exponential decay model."
   ]
  },
  {
   "cell_type": "markdown",
   "metadata": {},
   "source": [
    "Many alternative specifications of a relation between the $β_i$’s have been proposed in literature. We consider the most common ones. The most popular lag structure in marketing studies is the Geometric lag model, Koyck model or exponential decay model."
   ]
  },
  {
   "cell_type": "markdown",
   "metadata": {},
   "source": [
    "First Eq. (2.29) is rewritten with an infinite number of terms, which means that the entire advertising history is taken into account:"
   ]
  },
  {
   "cell_type": "markdown",
   "metadata": {},
   "source": [
    "<img src=\"figures/cap2.38.png\" width=600 />"
   ]
  },
  {
   "cell_type": "markdown",
   "metadata": {},
   "source": [
    "where $0 ≤ λ < 1$. The lag structure specified in (2.31) assumes that the <font color=\"red\">advertising effect is geometrically (or exponentially in the continuous case) decreasing over time</font>."
   ]
  },
  {
   "cell_type": "markdown",
   "metadata": {},
   "source": [
    "<img src=\"figures/cap2.39.png\" width=600 />"
   ]
  },
  {
   "cell_type": "markdown",
   "metadata": {},
   "source": [
    "####  Koyck transformation"
   ]
  },
  {
   "cell_type": "markdown",
   "metadata": {},
   "source": [
    "The estimation problems are now greatly reduced since only three parameters remain. The procedure is due to Koyck (1954), and is generally referred to as the Koyck transformation."
   ]
  },
  {
   "cell_type": "markdown",
   "metadata": {},
   "source": [
    "The direct (short term) effect of advertising is represented by β1, while λ measures how much of the advertising effect in one period is retained in the next. One often refers to λ as the retention rate. The long-term advertising effect is obtained as follows. If the advertising investment is kept constant (at = a for all t),"
   ]
  },
  {
   "cell_type": "markdown",
   "metadata": {},
   "source": [
    "<img src=\"figures/cap2.41.png\" width=600 />"
   ]
  },
  {
   "cell_type": "markdown",
   "metadata": {},
   "source": [
    "<img src=\"figures/cap2.40.png\" width=600 />"
   ]
  },
  {
   "cell_type": "markdown",
   "metadata": {},
   "source": [
    "There are various ways of dealing with such more complex lag structures. The most obvious way is to include a number of direct lags, and let the geometric decay take effect after a few periods. In that case, the sales-advertising equation becomes, for example:"
   ]
  },
  {
   "cell_type": "markdown",
   "metadata": {},
   "source": [
    "<img src=\"figures/cap2.43.png\" width=600 />"
   ]
  },
  {
   "cell_type": "markdown",
   "metadata": {},
   "source": [
    "Almon (1965) proposed a method to estimate a model with finite distributed lags. The relation between the βl’s (l = 1,...,s) in (2.29) and the lag length is approximated by a continuous function of the form:"
   ]
  },
  {
   "cell_type": "markdown",
   "metadata": {},
   "source": [
    "<img src=\"figures/cap2.44.png\" width=600 />"
   ]
  },
  {
   "cell_type": "markdown",
   "metadata": {},
   "source": [
    "#### current-effects model:"
   ]
  },
  {
   "cell_type": "markdown",
   "metadata": {},
   "source": [
    "In the marketing literature several other distributed lag models have been developed and applied. We discuss two of them. We take as a starting point a simple linear additive model, which is in this context also referred to as the current-effects model:"
   ]
  },
  {
   "cell_type": "markdown",
   "metadata": {},
   "source": [
    "<img src=\"figures/cap2.45.png\" width=600 />"
   ]
  },
  {
   "cell_type": "markdown",
   "metadata": {},
   "source": [
    "In the current-effects model it is assumed that the disturbances ut are not corre- lated with the disturbances in preceding periods. If ut is correlated with earlier disturbances, for example, with ut−1 for t = 1,2,..., the residuals are said to be autocorrelated. In that case we have:"
   ]
  },
  {
   "cell_type": "markdown",
   "metadata": {},
   "source": [
    "<img src=\"figures/cap2.46.png\" width=600 />"
   ]
  },
  {
   "cell_type": "markdown",
   "metadata": {},
   "source": [
    "#### partial adjustment model"
   ]
  },
  {
   "cell_type": "markdown",
   "metadata": {},
   "source": [
    "Another well-known dynamic model is the partial adjustment model which is specified as follows:"
   ]
  },
  {
   "cell_type": "markdown",
   "metadata": {},
   "source": [
    "<img src=\"figures/cap2.47.png\" width=600 />"
   ]
  },
  {
   "cell_type": "markdown",
   "metadata": {},
   "source": [
    "## 2.8.3 Modeling Lagged Effects: Several Explanatory Variables"
   ]
  },
  {
   "cell_type": "markdown",
   "metadata": {},
   "source": [
    "<img src=\"figures/cap2.48.png\" width=600 />"
   ]
  },
  {
   "cell_type": "markdown",
   "metadata": {},
   "source": [
    "<img src=\"figures/cap2.49.png\" width=600 />"
   ]
  },
  {
   "cell_type": "markdown",
   "metadata": {},
   "source": [
    "<img src=\"figures/cap2.50.png\" width=600 />"
   ]
  },
  {
   "cell_type": "markdown",
   "metadata": {},
   "source": [
    "<img src=\"figures/cap2.51.png\" width=600 />"
   ]
  },
  {
   "cell_type": "markdown",
   "metadata": {},
   "source": [
    "<img src=\"figures/cap2.52.png\" width=600 />"
   ]
  },
  {
   "cell_type": "markdown",
   "metadata": {},
   "source": [
    "## 2.8.4 Lead Effects"
   ]
  },
  {
   "cell_type": "markdown",
   "metadata": {
    "collapsed": true
   },
   "source": [
    "<img src=\"figures/cap2.53.png\" width=600 />"
   ]
  },
  {
   "cell_type": "markdown",
   "metadata": {},
   "source": [
    "# 참고자료"
   ]
  },
  {
   "cell_type": "markdown",
   "metadata": {
    "collapsed": true
   },
   "source": [
    "* [1]\n",
    "* [2] 탄력성 - https://ko.wikipedia.org/wiki/%ED%83%84%EB%A0%A5%EC%84%B1\n",
    "* [3] https://www.desmos.com/calculator"
   ]
  }
 ],
 "metadata": {
  "kernelspec": {
   "display_name": "Python 2",
   "language": "python",
   "name": "python2"
  },
  "language_info": {
   "codemirror_mode": {
    "name": "ipython",
    "version": 2
   },
   "file_extension": ".py",
   "mimetype": "text/x-python",
   "name": "python",
   "nbconvert_exporter": "python",
   "pygments_lexer": "ipython2",
   "version": "2.7.10"
  }
 },
 "nbformat": 4,
 "nbformat_minor": 0
}
