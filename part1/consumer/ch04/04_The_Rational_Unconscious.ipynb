{
 "cells": [
  {
   "cell_type": "markdown",
   "metadata": {},
   "source": [
    "# 4. The Rational Unconscious: Conscious versus Unconscious Thought in Complex Consumer Choice"
   ]
  },
  {
   "cell_type": "markdown",
   "metadata": {},
   "source": [
    "# Contents"
   ]
  },
  {
   "cell_type": "markdown",
   "metadata": {},
   "source": [
    "* TWO WAYS TO LOOK AT RATIONALITY\n",
    "* CHOOSING WITHOUT CONSTRAINTS\n",
    "* THE PITFALLS OF CONSCIOUS DELIBERATION, PART 1 : HEURISTICS AND BIASES\n",
    "* THE PITFALLS OF CONSCIOUS DELIBERATION, PART 2 : POOR WEIGHTING\n",
    "* BOUNDED RATIONALITY OR BOUNDED CONSCIOUSNESS ?\n",
    "* UNCONSCIOUS THOUGHT\n",
    "* UNCONSCIOUS WEIGHTED ADDING, PART 1 : CAPACITY\n",
    "* UNCONSCIOUS WEIGHTED ADDING, PART 2 : WEIGHTING ITSELF\n",
    "* TOWARD EXPLAINING HOW\n",
    "* CONCLUSIONS"
   ]
  },
  {
   "cell_type": "markdown",
   "metadata": {},
   "source": [
    "# TWO WAYS TO LOOK AT RATIONALITY"
   ]
  },
  {
   "cell_type": "markdown",
   "metadata": {},
   "source": [
    "* There are two distinct ways to look at rationality with diverging consequences for how deci-\n",
    "sion making should be investigated. Broadly stated, one can make the distinction\n",
    "between rationality from a normative viewpoint and rationality from a subjective\n",
    "viewpoint. Evans and Over (1996, 1997; see also Chater, Oaksford, Nakisa, &\n",
    "Redington, 2003) defined the normative version as follows: “Thinking, speaking,\n",
    "reasoning, making a decision, or acting when one has a reason for what one does\n",
    "sanctioned by a normative theory” (Evans & Over, 1997, p. 2, italics added). The\n",
    "second definition they offer is more subjective: “Thinking, speaking, reasoning,\n",
    "making a decision, or acting in a way that is generally reliable and efficient for\n",
    "achieving one’s goals” (Evans & Over, 1997, p. 2, italics added).1\n"
   ]
  },
  {
   "cell_type": "markdown",
   "metadata": {},
   "source": [
    "For a long time, the first, normative, definition was the one favored by research-\n",
    "ers interested in decision making. However, preferences seem to be shifting and\n",
    "various people opt for use of the second, subjective, definition (e.g., Evans & Over,\n",
    "1997; Gigerenzer & Goldstein, 1996; Stanovich & West, 1999)\n"
   ]
  },
  {
   "cell_type": "markdown",
   "metadata": {},
   "source": [
    "A big problem with\n",
    "using a normative definition is that it irrevocably leads to the somewhat sobering\n",
    "conclusion that human decision makers are often highly irrational. The number of\n",
    "well-documented phenomena on human decision making that show violations of\n",
    "rationality is humongous (Kahneman & Tversky, 2000; Shafir & LeBoeuf, 2002).\n"
   ]
  },
  {
   "cell_type": "markdown",
   "metadata": {},
   "source": [
    "This is insightful, but it also strongly suggests it is illuminating (though also more\n",
    "difficult) to pay more attention to people’s own goals and standards. It does us\n",
    "more justice\n",
    "\n",
    "More importantly, it makes more sense from both a psychological\n",
    "and from an evolutionary perspective to use a subjective definition (Cosmides &\n",
    "Tooby, 1996). Evolution cares about whether people achieve their goals (especially\n",
    "the most basic ones such as to find food, to avoid danger, or to procreate) and psy-\n",
    "chology—to some extent at least—reflects these priorities. Conversely, normative\n",
    "demands such as “logic” or “consistency” are concerns that are at best indirectly\n",
    "related to evolutionary development.\n"
   ]
  },
  {
   "cell_type": "markdown",
   "metadata": {},
   "source": [
    "# CHOOSING WITHOUT CONSTRAINTS"
   ]
  },
  {
   "cell_type": "markdown",
   "metadata": {},
   "source": [
    "When we compare decisions people make to standards of subjective rationality,\n",
    "what can we conclude?\n"
   ]
  },
  {
   "cell_type": "markdown",
   "metadata": {},
   "source": [
    "First, it is important to realize that a subjective definition\n",
    "of rationality does not necessarily imply that the standards we compare people to\n",
    "are less extreme or taxing.\n"
   ]
  },
  {
   "cell_type": "code",
   "execution_count": null,
   "metadata": {
    "collapsed": true
   },
   "outputs": [],
   "source": [
    "Some have argued that normative rational standards\n",
    "are simply too demanding in that they are unrealistic in their level of perfection\n",
    "(e.g., Gigerenzer & Todd, 1999).\n"
   ]
  },
  {
   "cell_type": "code",
   "execution_count": null,
   "metadata": {
    "collapsed": true
   },
   "outputs": [],
   "source": [
    "There is no doubt that this is true, but a subjective\n",
    "definition of rationality in terms of the degree to which a decision or choice fulfills\n",
    "people’s goals can be made just as extreme or unrealistic.\n"
   ]
  },
  {
   "cell_type": "code",
   "execution_count": null,
   "metadata": {
    "collapsed": true
   },
   "outputs": [],
   "source": [
    " It simply depends on the goals."
   ]
  },
  {
   "cell_type": "code",
   "execution_count": null,
   "metadata": {
    "collapsed": true
   },
   "outputs": [],
   "source": [
    "If we are willing to assume that people generally make certain choices in the\n",
    "hope that it will increase happiness or satisfaction in the future, one could conclude\n",
    "that the vast majority of choices people make are not very rational because they\n",
    "almost always fail to unleash happiness. Buying a new set of towels or oven mitts\n",
    "will not change happiness or life satisfaction in a significant and enduring way.\n"
   ]
  },
  {
   "cell_type": "code",
   "execution_count": null,
   "metadata": {
    "collapsed": true
   },
   "outputs": [],
   "source": [
    "That being said, sometimes we do make choices that do impact happiness in\n",
    "pronounced ways, such as when we choose between jobs or houses.\n"
   ]
  },
  {
   "cell_type": "code",
   "execution_count": null,
   "metadata": {
    "collapsed": true
   },
   "outputs": [],
   "source": [
    "The question\n",
    "we want to address here is how we should approach such choices, with the criterion\n",
    "of maximizing subjective rationality.\n"
   ]
  },
  {
   "cell_type": "code",
   "execution_count": null,
   "metadata": {
    "collapsed": true
   },
   "outputs": [],
   "source": [
    "Which decision strategy leads us to fulfill our\n",
    "goals?\n"
   ]
  },
  {
   "cell_type": "code",
   "execution_count": null,
   "metadata": {
    "collapsed": true
   },
   "outputs": [],
   "source": [
    "In other words, when we face a complex, important decision, how should\n",
    "we deal with it in order for the outcome to be highly rewarding, for it to maximize\n",
    "happiness and to minimize negative emotions such as regret?\n"
   ]
  },
  {
   "cell_type": "code",
   "execution_count": null,
   "metadata": {
    "collapsed": true
   },
   "outputs": [],
   "source": [
    "Let us start with a thought experiment, in which we are allowed to choose\n",
    "without any of the usual psychological constraints.\n"
   ]
  },
  {
   "cell_type": "code",
   "execution_count": null,
   "metadata": {
    "collapsed": true
   },
   "outputs": [],
   "source": [
    "There is no time pressure and\n",
    "there are no computational constraints. Furthermore, we have all the information\n",
    "relevant for the choice at hand.\n"
   ]
  },
  {
   "cell_type": "code",
   "execution_count": null,
   "metadata": {
    "collapsed": true
   },
   "outputs": [],
   "source": [
    "Most people would agree we should engage in what is often called the weighted\n",
    "adding strategy \n"
   ]
  },
  {
   "cell_type": "code",
   "execution_count": null,
   "metadata": {
    "collapsed": true
   },
   "outputs": [],
   "source": [
    "In this strategy, the chooser first weights the relative importance of various\n",
    "attributes, such as the water temperature, the size of the balcony of the hotel room,\n",
    "or the availability of cereal for breakfast in the hotel. Subsequently, choice alterna-\n",
    "tives are assigned values for each of these attributes (“Excellent, no problems on\n",
    "the cereal front. Cereal is banned in the Seychelles.”). Finally, these values are, for\n",
    "each choice alternative, multiplied by the relative importance. The resulting scores\n",
    "represent the utility or relative desirability of each alternative.\n"
   ]
  },
  {
   "cell_type": "code",
   "execution_count": null,
   "metadata": {
    "collapsed": true
   },
   "outputs": [],
   "source": [
    "The problem with the weighted adding strategy is that it is very demanding.\n"
   ]
  },
  {
   "cell_type": "code",
   "execution_count": null,
   "metadata": {
    "collapsed": true
   },
   "outputs": [],
   "source": [
    "Our computational abilities are limited, we are often pressured for time and\n",
    "resources, and we often have to choose between alternatives in the absence of\n",
    "(part of) the relevant information.\n"
   ]
  },
  {
   "cell_type": "code",
   "execution_count": null,
   "metadata": {
    "collapsed": true
   },
   "outputs": [],
   "source": [
    "Indeed, most theorists would agree that the\n",
    "weighted adding strategy is nothing more than an interesting ideal, but that it\n",
    "does not constitute a useful tool in real life. \n"
   ]
  },
  {
   "cell_type": "markdown",
   "metadata": {},
   "source": [
    "This conclusion notwithstanding, in the present paper our goal is to try to advo-\n",
    "cate weighted adding as a useful decision-making tool. \n"
   ]
  },
  {
   "cell_type": "code",
   "execution_count": null,
   "metadata": {
    "collapsed": true
   },
   "outputs": [],
   "source": [
    "However, we argue that it is not so much weighted adding itself that is out of reach\n",
    "for people. Instead, poor performance is often caused by the fact that people rely\n",
    "too much on conscious deliberation.\n"
   ]
  },
  {
   "cell_type": "code",
   "execution_count": null,
   "metadata": {
    "collapsed": true
   },
   "outputs": [],
   "source": [
    "Most people believe, explicitly or implicitly,\n",
    "that the more one consciously deliberates about a choice, the closer one can come\n",
    "to the ideal of weighted adding.\n"
   ]
  },
  {
   "cell_type": "markdown",
   "metadata": {},
   "source": [
    "Our thesis is that this belief is unjustified, and\n",
    "that, ironically, weighted adding becomes more attainable the more we rely on\n",
    "unconscious processes.\n"
   ]
  },
  {
   "cell_type": "code",
   "execution_count": null,
   "metadata": {
    "collapsed": true
   },
   "outputs": [],
   "source": [
    "In the remainder of this chapter, we first discuss the problems we face when we\n",
    "apply conscious thought or conscious deliberation to complex choice tasks.\n"
   ]
  },
  {
   "cell_type": "code",
   "execution_count": null,
   "metadata": {
    "collapsed": true
   },
   "outputs": [],
   "source": [
    "In doing\n",
    "this, we start out by discussing the relation between conscious thought and the\n",
    "biasing effects of heuristics on choice. \n"
   ]
  },
  {
   "cell_type": "code",
   "execution_count": null,
   "metadata": {
    "collapsed": true
   },
   "outputs": [],
   "source": [
    "Subsequently, we give more direct examples\n",
    "of poor weighting as a consequence of conscious thought.\n"
   ]
  },
  {
   "cell_type": "code",
   "execution_count": null,
   "metadata": {
    "collapsed": true
   },
   "outputs": [],
   "source": [
    "In the second part of this\n",
    "chapter we discuss the potential benefits of employing the unconscious.\n"
   ]
  },
  {
   "cell_type": "markdown",
   "metadata": {},
   "source": [
    "# THE PITFALLS OF CONSCIOUS DELIBERATION, PART 1 : HEURISTICS AND BIASES"
   ]
  },
  {
   "cell_type": "code",
   "execution_count": null,
   "metadata": {
    "collapsed": true
   },
   "outputs": [],
   "source": [
    "A common finding in the literature on decision making is that people are vulner-\n",
    "able to the influence of how decision problems are framed.\n"
   ]
  },
  {
   "cell_type": "code",
   "execution_count": null,
   "metadata": {
    "collapsed": true
   },
   "outputs": [],
   "source": [
    "Tversky and Kahneman\n",
    "(1981; see also Kahneman & Tversky, 1979) discovered that whether choice out-\n",
    "comes are framed in terms of gains or losses has a profound effect on choice.\n"
   ]
  },
  {
   "cell_type": "code",
   "execution_count": null,
   "metadata": {
    "collapsed": true
   },
   "outputs": [],
   "source": [
    "The\n",
    "well-known “Asian disease” problem provides a good example. Assume 600 people\n",
    "are infected with a disease. You have to choose between two intervention pro-\n",
    "grams, both framed in terms of gains: With program A, you save 200 people. With\n",
    "program B, you have a 1/3 chance you save all 600 people, and a 2/3 chance no\n",
    "one will be saved. Faced with this dilemma, most people avoid risk and choose\n",
    "program A. However, one can also frame the choice in terms of losses: With pro-\n",
    "gram A, 400 people will die. With program B you have a 1/3 chance no one will\n",
    "die, and a 2/3 chance all will die. In this case, most people choose to be risky and\n",
    "select program B.\n"
   ]
  },
  {
   "cell_type": "code",
   "execution_count": null,
   "metadata": {
    "collapsed": true
   },
   "outputs": [],
   "source": [
    "There is no rational argument for the influence of framing in such a context. In\n",
    "fact, the two decision problems are exactly the same.\n"
   ]
  },
  {
   "cell_type": "code",
   "execution_count": null,
   "metadata": {
    "collapsed": true
   },
   "outputs": [],
   "source": [
    " Now can one prevent framing\n",
    "effects by asking people to engage in more conscious thought? Can deliberation\n",
    "inhibit this odd bias?\n"
   ]
  },
  {
   "cell_type": "code",
   "execution_count": null,
   "metadata": {
    "collapsed": true
   },
   "outputs": [],
   "source": [
    "Igou and Bless (in press) tested the relation between amount of conscious thought\n",
    "and framing effects\n"
   ]
  },
  {
   "cell_type": "code",
   "execution_count": null,
   "metadata": {
    "collapsed": true
   },
   "outputs": [],
   "source": [
    "Interestingly, they found the opposite of what one may have\n",
    "expectedly intuitively. In various experiments, it was shown that more conscious\n",
    "thought led to more pronounced framing effects.\n"
   ]
  },
  {
   "cell_type": "code",
   "execution_count": null,
   "metadata": {
    "collapsed": true
   },
   "outputs": [],
   "source": [
    "In general, there is strong evidence demonstrating that more motivation to\n",
    "deliberate does not simply lead to better choices.\n"
   ]
  },
  {
   "cell_type": "markdown",
   "metadata": {},
   "source": [
    "Although\n",
    "they found that motivation occasionally helps, it can just as well hinder choosing.\n",
    "The problem is that whatever the decision problem is, people always have to apply\n",
    "the right strategy to solve it. More motivation may occasionally help, but often it\n",
    "just leads to more enthusiastic application of a wrong strategy, thereby rendering\n",
    "choices to become inferior\n"
   ]
  },
  {
   "cell_type": "markdown",
   "metadata": {},
   "source": [
    "# THE PITFALLS OF CONSCIOUS DELIBERATION, PART 2 : POOR WEIGHTING"
   ]
  },
  {
   "cell_type": "markdown",
   "metadata": {},
   "source": [
    "# BOUNDED RATIONALITY OR BOUNDED CONSCIOUSNESS ?"
   ]
  },
  {
   "cell_type": "markdown",
   "metadata": {},
   "source": [
    "# UNCONSCIOUS THOUGHT"
   ]
  },
  {
   "cell_type": "markdown",
   "metadata": {},
   "source": [
    "# UNCONSCIOUS WEIGHTED ADDING, PART 1 : CAPACITY"
   ]
  },
  {
   "cell_type": "markdown",
   "metadata": {},
   "source": [
    "# UNCONSCIOUS WEIGHTED ADDING, PART 2 : WEIGHTING ITSELF"
   ]
  },
  {
   "cell_type": "markdown",
   "metadata": {},
   "source": [
    "# TOWARD EXPLAINING HOW"
   ]
  },
  {
   "cell_type": "markdown",
   "metadata": {},
   "source": [
    "# CONCLUSIONS"
   ]
  },
  {
   "cell_type": "markdown",
   "metadata": {},
   "source": [
    "# 참고자료 "
   ]
  }
 ],
 "metadata": {
  "kernelspec": {
   "display_name": "Python 2",
   "language": "python",
   "name": "python2"
  },
  "language_info": {
   "codemirror_mode": {
    "name": "ipython",
    "version": 2
   },
   "file_extension": ".py",
   "mimetype": "text/x-python",
   "name": "python",
   "nbconvert_exporter": "python",
   "pygments_lexer": "ipython2",
   "version": "2.7.3"
  }
 },
 "nbformat": 4,
 "nbformat_minor": 0
}
