{
 "cells": [
  {
   "cell_type": "markdown",
   "metadata": {},
   "source": [
    "# 4. The Rational Unconscious: Conscious versus Unconscious Thought in Complex Consumer Choice"
   ]
  },
  {
   "cell_type": "markdown",
   "metadata": {},
   "source": [
    "# Contents"
   ]
  },
  {
   "cell_type": "markdown",
   "metadata": {},
   "source": [
    "* TWO WAYS TO LOOK AT RATIONALITY\n",
    "* CHOOSING WITHOUT CONSTRAINTS\n",
    "* THE PITFALLS OF CONSCIOUS DELIBERATION, PART 1 : HEURISTICS AND BIASES\n",
    "* THE PITFALLS OF CONSCIOUS DELIBERATION, PART 2 : POOR WEIGHTING\n",
    "* BOUNDED RATIONALITY OR BOUNDED CONSCIOUSNESS ?\n",
    "* UNCONSCIOUS THOUGHT\n",
    "* UNCONSCIOUS WEIGHTED ADDING, PART 1 : CAPACITY\n",
    "* UNCONSCIOUS WEIGHTED ADDING, PART 2 : WEIGHTING ITSELF\n",
    "* TOWARD EXPLAINING HOW\n",
    "* CONCLUSIONS"
   ]
  },
  {
   "cell_type": "markdown",
   "metadata": {},
   "source": [
    "# TWO WAYS TO LOOK AT RATIONALITY"
   ]
  },
  {
   "cell_type": "markdown",
   "metadata": {},
   "source": [
    "# CHOOSING WITHOUT CONSTRAINTS"
   ]
  },
  {
   "cell_type": "markdown",
   "metadata": {},
   "source": [
    "# THE PITFALLS OF CONSCIOUS DELIBERATION, PART 1 : HEURISTICS AND BIASES"
   ]
  },
  {
   "cell_type": "markdown",
   "metadata": {},
   "source": [
    "# THE PITFALLS OF CONSCIOUS DELIBERATION, PART 2 : POOR WEIGHTING"
   ]
  },
  {
   "cell_type": "markdown",
   "metadata": {},
   "source": [
    "# BOUNDED RATIONALITY OR BOUNDED CONSCIOUSNESS ?"
   ]
  },
  {
   "cell_type": "markdown",
   "metadata": {},
   "source": [
    "# UNCONSCIOUS THOUGHT"
   ]
  },
  {
   "cell_type": "markdown",
   "metadata": {},
   "source": [
    "# UNCONSCIOUS WEIGHTED ADDING, PART 1 : CAPACITY"
   ]
  },
  {
   "cell_type": "markdown",
   "metadata": {},
   "source": [
    "# UNCONSCIOUS WEIGHTED ADDING, PART 2 : WEIGHTING ITSELF"
   ]
  },
  {
   "cell_type": "markdown",
   "metadata": {},
   "source": [
    "# TOWARD EXPLAINING HOW"
   ]
  },
  {
   "cell_type": "markdown",
   "metadata": {},
   "source": [
    "# CONCLUSIONS"
   ]
  },
  {
   "cell_type": "markdown",
   "metadata": {},
   "source": [
    "# 참고자료 "
   ]
  }
 ],
 "metadata": {
  "kernelspec": {
   "display_name": "Python 2",
   "language": "python",
   "name": "python2"
  },
  "language_info": {
   "codemirror_mode": {
    "name": "ipython",
    "version": 2
   },
   "file_extension": ".py",
   "mimetype": "text/x-python",
   "name": "python",
   "nbconvert_exporter": "python",
   "pygments_lexer": "ipython2",
   "version": "2.7.6"
  }
 },
 "nbformat": 4,
 "nbformat_minor": 0
}
