{
 "cells": [
  {
   "cell_type": "markdown",
   "metadata": {},
   "source": [
    "# 4. The Rational Unconscious: Conscious versus Unconscious Thought in Complex Consumer Choice"
   ]
  },
  {
   "cell_type": "markdown",
   "metadata": {},
   "source": [
    "* 소비자심리 + 온라인 사용자 분석 실습 / 소비자 ch 4 [1]\n",
    "* 김무성"
   ]
  },
  {
   "cell_type": "markdown",
   "metadata": {},
   "source": [
    "# Contents"
   ]
  },
  {
   "cell_type": "markdown",
   "metadata": {},
   "source": [
    "* TWO WAYS TO LOOK AT RATIONALITY\n",
    "* CHOOSING WITHOUT CONSTRAINTS\n",
    "* THE PITFALLS OF CONSCIOUS DELIBERATION, PART 1 : HEURISTICS AND BIASES\n",
    "* THE PITFALLS OF CONSCIOUS DELIBERATION, PART 2 : POOR WEIGHTING\n",
    "* BOUNDED RATIONALITY OR BOUNDED CONSCIOUSNESS ?\n",
    "* UNCONSCIOUS THOUGHT\n",
    "* UNCONSCIOUS WEIGHTED ADDING, PART 1 : CAPACITY\n",
    "* UNCONSCIOUS WEIGHTED ADDING, PART 2 : WEIGHTING ITSELF\n",
    "* TOWARD EXPLAINING HOW\n",
    "* CONCLUSIONS"
   ]
  },
  {
   "cell_type": "markdown",
   "metadata": {},
   "source": [
    "<font color=\"red\">주의 : 이 발표 자료는 주 교재[1]의 내용을 정리한 것이다. [1]의 4장은 \"Unconscious Thought Theory\"를 주창한 Ap Dijksterhuis가 집필했다. 하지만 위키피디아에서는[2] 이 이론의 문제점을 여러가지 지적한다. 특히 2015년의 메타연구 결과를 참조할 것(이 연구에서는 이 이론을 지지하는 명백한 증거가 없다고 결론내린다)</font> "
   ]
  },
  {
   "cell_type": "markdown",
   "metadata": {},
   "source": [
    "# TWO WAYS TO LOOK AT RATIONALITY"
   ]
  },
  {
   "cell_type": "markdown",
   "metadata": {},
   "source": [
    "* <font color=\"red\">rationality</font> --> decision making\n",
    "    - <font color=\"red\">normative</font> viewpoint\n",
    "        - “Thinking, speaking, reasoning, making a decision, or acting when one has a reason for what one does sanctioned by a normative theory” \n",
    "    - <font color=\"red\">subjective</font> viewpoint\n",
    "        - “Thinking, speaking, reasoning, making a decision, or acting in a way that is generally reliable and efficient for achieving one’s goals” "
   ]
  },
  {
   "cell_type": "markdown",
   "metadata": {},
   "source": [
    "-------------------"
   ]
  },
  {
   "cell_type": "markdown",
   "metadata": {},
   "source": [
    "# CHOOSING WITHOUT CONSTRAINTS"
   ]
  },
  {
   "cell_type": "markdown",
   "metadata": {},
   "source": [
    "* When we compare decisions people make to <font color=\"red\">standards of subjective rationality</font>,\n",
    "what can we conclude?\n",
    "    - <font color=\"blue\">normative</font> rational standards\n",
    "        - <font color=\"blue\">unrealistic</font>\n",
    "    - <font color=\"orange\">subjective</font> rational standards\n",
    "        - people’s <font color=\"orange\">goals -> extreme or unrealistic</font>"
   ]
  },
  {
   "cell_type": "markdown",
   "metadata": {},
   "source": [
    "----------------"
   ]
  },
  {
   "cell_type": "markdown",
   "metadata": {
    "collapsed": true
   },
   "source": [
    "* The question\n",
    "    - \"we want to address here is how we should approach such choices, with the criterion\n",
    "of maximizing subjective rationality\""
   ]
  },
  {
   "cell_type": "markdown",
   "metadata": {},
   "source": [
    "-----------------"
   ]
  },
  {
   "cell_type": "markdown",
   "metadata": {
    "collapsed": true
   },
   "source": [
    "* choosing <font color=\"red\">without constraints</font>\n",
    "    - when we face a complex, important decision\n",
    "    - no time pressure\n",
    "    - no computational constraints\n",
    "    - all the information relevant for the choice at hand\n",
    "    -  --> <font color=\"red\">weighted adding strategy</font> "
   ]
  },
  {
   "cell_type": "markdown",
   "metadata": {},
   "source": [
    "-----------------------"
   ]
  },
  {
   "cell_type": "markdown",
   "metadata": {},
   "source": [
    "* <font color=\"red\">weighted adding strategy</font>\n",
    "    - In this strategy, the chooser first weights the relative importance of various attributes, such as the water temperature, the size of the balcony of the hotel room, or the availability of cereal for breakfast in the hotel. Subsequently, choice alterna- tives are assigned values for each of these attributes (“Excellent, no problems on the cereal front. Cereal is banned in the Seychelles.”). Finally, these values are, for each choice alternative, multiplied by the relative importance. The resulting scores represent the utility or relative desirability of each alternative.\n",
    "    - we argue that it is not so much weighted adding itself that is out of reach\n",
    "for people. Instead, <font color=\"red\">poor performance is often caused by</font> the fact that people rely\n",
    "<font color=\"red\">too much on conscious deliberation</font>."
   ]
  },
  {
   "cell_type": "markdown",
   "metadata": {},
   "source": [
    "----------------"
   ]
  },
  {
   "cell_type": "markdown",
   "metadata": {
    "collapsed": true
   },
   "source": [
    "* <font color=\"red\">conscious thought</font>\n",
    "    - Most people believe, explicitly or implicitly, that the more one consciously deliberates about a choice, the closer one can come to the ideal of weighted adding.\n",
    "* <font color=\"red\">unconsious thougth</font>\n",
    "    - Our thesis is that this belief is unjustified, and that, ironically, weighted adding becomes more attainable the more we rely on unconscious processes"
   ]
  },
  {
   "cell_type": "markdown",
   "metadata": {},
   "source": [
    "---------------------"
   ]
  },
  {
   "cell_type": "markdown",
   "metadata": {},
   "source": [
    "# THE PITFALLS OF CONSCIOUS DELIBERATION, PART 1 : HEURISTICS AND BIASES"
   ]
  },
  {
   "cell_type": "markdown",
   "metadata": {
    "collapsed": true
   },
   "source": [
    "* Tversky and Kahneman (1981; see also Kahneman & Tversky, 1979)\n",
    "    - ramed in terms of gains or losses \n",
    "    - <font color=\"red\">framing effect</font>"
   ]
  },
  {
   "cell_type": "markdown",
   "metadata": {
    "collapsed": true
   },
   "source": [
    "* The well-known “Asian disease” problem provides a good example. Assume 600 people\n",
    "are infected with a disease. You have to choose between two intervention pro-grams, both framed in terms of gains: With program A, you save 200 people. With program B, you have a 1/3 chance you save all 600 people, and a 2/3 chance no one will be saved. Faced with this dilemma, most people avoid risk and choose program A. However, one can also frame the choice in terms of losses: With pro-gram A, 400 people will die. With program B you have a 1/3 chance no one will die, and a 2/3 chance all will die. In this case, most people choose to be risky and select program B."
   ]
  },
  {
   "cell_type": "markdown",
   "metadata": {
    "collapsed": true
   },
   "source": [
    "* In various experiments, <font color=\"red\">more conscious thought --> more pronounced framing effects</font>"
   ]
  },
  {
   "cell_type": "markdown",
   "metadata": {},
   "source": [
    "---------------"
   ]
  },
  {
   "cell_type": "markdown",
   "metadata": {},
   "source": [
    "* “hospital problem” as used by Kahneman and Tversky (1972, page 443)"
   ]
  },
  {
   "cell_type": "markdown",
   "metadata": {},
   "source": [
    "* A certain town is served by two hospitals. In the larger hospital, about 45 babies are born each day, and in the smaller hospital, about 15 babies are born each day. As you know, about 50% of all babies are boys. Sometimes it is higher than 50%, sometimes lower. For a period of one year, each hospital recorded the number of days on which more than 60% of the babies born were boys. Which hospital do you think recorded more such days? (A) the larger hospital, (B) the smaller hospital, or (C) about the same."
   ]
  },
  {
   "cell_type": "markdown",
   "metadata": {},
   "source": [
    "* As outcomes that deviate from <font color=\"red\">normal (i.e., expected) probabilities are more likely to occur the smaller the sample</font> is, answer B is the right answer. however, 56% of the original Kahneman and Tversky participants chose C. "
   ]
  },
  {
   "cell_type": "markdown",
   "metadata": {},
   "source": [
    "* Pelham and Neter gave some of their participants this hospital problem, but gave others an easier, very transparent version. "
   ]
  },
  {
   "cell_type": "markdown",
   "metadata": {},
   "source": [
    "* In this transparent version, the smaller hospital had “only 2” babies per day (rather than 15), and each hospital recorded the number of days on which all (100%) of the babies born were boys (rather than 60%)."
   ]
  },
  {
   "cell_type": "markdown",
   "metadata": {},
   "source": [
    "* If one is willing to make the rather safe assumption that the <font color=\"red\">motivated participants engaged in more and/or more thorough conscious thinking</font>, it means that conscious thought led to <font color=\"red\">poor decisions</font>. "
   ]
  },
  {
   "cell_type": "markdown",
   "metadata": {},
   "source": [
    "* The reason\n",
    "    - <font color=\"red\">more motivation</font> led people to rely \n",
    "        - more on the <font color=\"red\">wrong heuristic</font>. \n",
    "        - more motivation, or more thinking, only leads to more use of that wrong heuristic. "
   ]
  },
  {
   "cell_type": "markdown",
   "metadata": {},
   "source": [
    "----------------------"
   ]
  },
  {
   "cell_type": "markdown",
   "metadata": {},
   "source": [
    "# THE PITFALLS OF CONSCIOUS DELIBERATION, PART 2 : POOR WEIGHTING"
   ]
  },
  {
   "cell_type": "markdown",
   "metadata": {},
   "source": [
    "* the human (in) ability to engage in weighted adding. \n",
    "    - <font color=\"red\">difficult --> more conscious deliberation</font>"
   ]
  },
  {
   "cell_type": "markdown",
   "metadata": {},
   "source": [
    "-----------------------"
   ]
  },
  {
   "cell_type": "markdown",
   "metadata": {},
   "source": [
    "* Recently, one of us read a newspaper article that documented an interesting example of what we may call a <font color=\"red\">“weighting error.”</font> \n",
    "    - When buying a house, one trade- off people have to make is between the size of the house and the length of the daily commute to work. \n",
    "    - Most people (note that the example comes from a Dutch newspaper) work in city centers. As city centers are expensive, a preference for a short commute by necessity means one is forced to buy a small house or apartment. \n",
    "    - Large houses are affordable, but only for those who are willing to live in the countryside and to face a long commute. \n",
    "    - It seems that many people think about this trade-off, and many eventually choose the large house. \n",
    "    - After all, a third bathroom is very important for when grandma and grandpa come over for Christmas,whereas driving two hours each day is really not that bad. \n",
    "    - Anecdotal evidence has it that a lot of these people come to regret their choice. \n",
    "    - A third bathroom is a completely superfluous asset for at least 362 or 363 days each year, whereas a long commute does become a burden after a while. \n",
    "* Recent evidence (Stutzer & Frey, 2007) shows that people with longer commuting time report systematically lower subjective well-being."
   ]
  },
  {
   "cell_type": "markdown",
   "metadata": {},
   "source": [
    "----------------------------------------------"
   ]
  },
  {
   "cell_type": "markdown",
   "metadata": {},
   "source": [
    "* When people are asked to estimate their <font color=\"red\">emotional reactions</font> to important events, they tend to think these reactions are more intense and more enduring than they really are. "
   ]
  },
  {
   "cell_type": "markdown",
   "metadata": {},
   "source": [
    "* In one well- known experiment, Wilson and colleagues (1993) compared postchoice satisfaction of people who chose from five different art posters. \n",
    "    - Some participants had been merely asked to choose, whereas others had been asked to deliberate. More specifically, \n",
    "    - they had been asked to scrutinize the reasons for their preference carefully. \n",
    "    - The expectations of the experimenters were confirmed a few weeks later when postchoice satisfaction was assessed. \n",
    "    - People who engaged in thorough conscious thought were less happy with their choice.\n",
    "* Wilson and colleagues (1993, p. 332) attributed this to suboptimal weighing: \n",
    "    - “Introspection ... can change an optimal weighing scheme into a suboptimal one. When people analyze reasons, they might focus on those attributes of the attitude object that seem like plausible causes of the evaluations but were not weighted heavily before.” \n",
    "    - Conscious thought leads people to put disproportionate weight on attributes that are accessible, plausible, and easy to verbalize (see also Schooler, Ohlsson, & Brooks, 1993), and therefore too little weight on other attributes."
   ]
  },
  {
   "cell_type": "markdown",
   "metadata": {},
   "source": [
    "-----------------"
   ]
  },
  {
   "cell_type": "markdown",
   "metadata": {},
   "source": [
    "* Another problem is that decision makers seem to be often <font color=\"red\">inconsistent in their weighting</font>. They may be inconsistent either over time or between different con- texts. "
   ]
  },
  {
   "cell_type": "markdown",
   "metadata": {},
   "source": [
    "* The phenomenon of “<font color=\"red\">preference reversal</font>” demonstrates this.\n",
    "    - What would you prefer, bet A with a 29/36 probability of winning 2 Euros, or bet B with a 7/36 probability of winning 9 Euros? If you are like most people, you prefer Bet A. however, if you ask people what they would be willing to pay for either of these bets, the majority finds bet B to be more valuable (see Tversky, Sattath, & Slovic, 1988; Tversky, Slovic, & Kahneman, 1990, for more information on why this bias occurs). hsee (1996) showed that such inconsistencies can also be caused by the context. \n",
    "    - When people compare two dictionaries, a torn one with 20,000 entries and a brand new one with 10,000 entries, most people prefer the torn one. however, when different people judge them separately, the new one with the lower number of entries is generally seen as more valuable."
   ]
  },
  {
   "cell_type": "markdown",
   "metadata": {},
   "source": [
    "-----------------------"
   ]
  },
  {
   "cell_type": "markdown",
   "metadata": {},
   "source": [
    "* In a series of experiments by Nordgren and Dijksterhuis (2007) \n",
    "    - participants were asked to make a variety of judgments including the attractiveness of Chinese ideograms or the extraversion of people on the basis of their faces. however, par- ticipants judged the exact same stimuli twice, sometimes after a 45-minute delay, in other cases after weeks. Importantly, some participants were asked to judge quickly, whereas others were asked to engage in thorough conscious thought."
   ]
  },
  {
   "cell_type": "markdown",
   "metadata": {},
   "source": [
    "* People who engaged in thorough <font color=\"red\">conscious thought showed more rather than less inconsistency</font>. \n",
    "* Quick “gut” judgments were clearly more consistent over time than judgments that were made after conscious reasoning. \n",
    "* In addition, conscious reasoning did not lead to better judgments."
   ]
  },
  {
   "cell_type": "markdown",
   "metadata": {},
   "source": [
    "---------------------------------"
   ]
  },
  {
   "cell_type": "markdown",
   "metadata": {},
   "source": [
    "# BOUNDED RATIONALITY OR BOUNDED CONSCIOUSNESS ?"
   ]
  },
  {
   "cell_type": "markdown",
   "metadata": {},
   "source": [
    "* <font color=\"red\">Our rationality is bounded</font> (Simon, 1955), but this is at least in part caused by the fact that\n",
    "* <font color=\"red\">consciousness is bounded</font>."
   ]
  },
  {
   "cell_type": "markdown",
   "metadata": {},
   "source": [
    "* weighted adding for a complex choice\n",
    "* processing <font color=\"red\">capacity</font>. \n",
    "    - stimultaneous consideration of a lot of information is impos sible for consciousness\n",
    "* ability to weight the importance of attributes\n",
    "* once such weights are established (or perhaps while establishing these weights), one should refrain from allowing noise to interfere with this process. \n",
    "* Like Wilson and colleagues (Wilson & Schooler, 1991), we believe that consciousness does interfere"
   ]
  },
  {
   "cell_type": "markdown",
   "metadata": {},
   "source": [
    "-----------------------------------"
   ]
  },
  {
   "cell_type": "markdown",
   "metadata": {},
   "source": [
    "# UNCONSCIOUS THOUGHT"
   ]
  },
  {
   "cell_type": "markdown",
   "metadata": {},
   "source": [
    "* <font color=\"red\">unconscious thought</font>\n",
    "    - incubation\n",
    "        - creativity\n",
    "        - problem solving.\n",
    "    - <font color=\"red\">The key distinction between conscious thought</font> (what we associate with normal thought) and <font color=\"red\">unconscious thought</font> is based on <font color=\"red\">attention</font>.     "
   ]
  },
  {
   "cell_type": "markdown",
   "metadata": {},
   "source": [
    "* Unconscious thought, on the other hand, refers to cognitive and/or affective task-relevant processes that take place outside of conscious awareness. One may compare two holiday destinations and not know which one to choose. Subsequently, one does not consciously attend to the problem for a few days, and suddenly the thought “It’s going to be Tuscany!” pops into mind. This thought itself is conscious, but the transition from indecision to a preference a few days later is the result of unconscious thought. (Dijksterhuis, 2004, pp. 586–587)3"
   ]
  },
  {
   "cell_type": "markdown",
   "metadata": {},
   "source": [
    "---------------------------------------"
   ]
  },
  {
   "cell_type": "markdown",
   "metadata": {},
   "source": [
    "Recently, we formulated a theory called <font color=\"red\">Unconscious Thought Theory</font> (Dijksterhuis & Nordgren, 2006) about the strength and weaknesses of both unconscious and conscious thought."
   ]
  },
  {
   "cell_type": "markdown",
   "metadata": {
    "collapsed": true
   },
   "source": [
    "* In the first series of experiments, we did the following: \n",
    "    - First, participants read information pertaining to a <font color=\"red\">choice problem</font>.\n",
    "    - For instance, they would be presented with information about four different apartments, whereby each apartment was described by 12 different aspects. We rigged the information in such a way that one apartment had much more positive attributes (and therefore less negative) than the others. \n",
    "    - After participants had read all the information, some were asked to choose between the apartments <font color=\"blue\">immediately</font>. \n",
    "    - Others were <font color=\"blue\">given some time to consciously think</font> before they chose, whereas a third group was <font color=\"blue\">distracted</font> for a while after which they were asked to choose. \n",
    "    - Participants in this latter group were hypothesized to engage in unconscious thought."
   ]
  },
  {
   "cell_type": "markdown",
   "metadata": {},
   "source": [
    "* What we generally found with this paradigm is that <font color=\"red\">unconscious thinkers make better decisions than either conscious thinkers</font> or immediate choosers (for more details, see Dijksterhuis, 2004; Dijksterhuis, Bos, Nordgren, & van Baaren, 2006; Dijksterhuis & Nordgren, 2006)."
   ]
  },
  {
   "cell_type": "markdown",
   "metadata": {},
   "source": [
    "-------------------------------"
   ]
  },
  {
   "cell_type": "markdown",
   "metadata": {},
   "source": [
    "* That is, an alternative explanation for our effects in the unconscious thought conditions is the process of set-shifting (see e.g., Schooler & Melcher, 1995). According to this alternative explanation, the beneficial effects of a period of distraction from a decision problem do not necessarily result from an active unconscious thought process, but from the disruption of counterproductive con- scious thought. "
   ]
  },
  {
   "cell_type": "markdown",
   "metadata": {},
   "source": [
    "* For instance, people often approach a problem with wrong cues, wrong heuristics, and/or wrong information. Following a period of distraction, such wrong approaches become less accessible or are forgotten altogether. The effects of distraction on a change of mental set can be both very pronounced (such as when one tries to solve a chess problem and initially gets truly “fixed” in thinking along a wrong path) or more subtle (such as when distraction attenuates the biasing influ- ence of primacy or recency effects)."
   ]
  },
  {
   "cell_type": "markdown",
   "metadata": {},
   "source": [
    "* In a recent set of experiments, we refuted this possibility by demonstrating that unconscious thought is a goal-dependent process (Bos, Dijksterhuis & van Baaren, 2007)."
   ]
  },
  {
   "cell_type": "markdown",
   "metadata": {},
   "source": [
    "* In our experiments,\n",
    "    - we again gave participants information about a decision problem. Importantly, we then compared two groups of participants who were both distracted before they made a decision. One group was given the same instructions as in the unconscious thought conditions of our previous work. After having read the decision information but before the distraction period, they were told that we would later ask them some questions about the decision problem. In other words, these participants were given the goal to think unconsciously, or at least the expectation that they had to make a decision later. The other group did not receive this goal. Before the distraction period they were told that they would not have to make a decision later on. Thus, one group had the goal to further process the information, whereas the other group had no such goal. Results showed that the former group made better decisions than the latter. That is, only people with a goal to later make a decision demonstrated superior decision making"
   ]
  },
  {
   "cell_type": "markdown",
   "metadata": {},
   "source": [
    "the people without a goal did not. This means that <font color=\"red\">unconscious thought is a goal-dependent process</font> and merely distracting people does not help them."
   ]
  },
  {
   "cell_type": "markdown",
   "metadata": {},
   "source": [
    "# UNCONSCIOUS WEIGHTED ADDING, PART 1 : CAPACITY"
   ]
  },
  {
   "cell_type": "markdown",
   "metadata": {},
   "source": [
    "* As we have argued before, weighted adding in the context of relatively <font color=\"red\">complex decisions</font> involving many dimensions <font color=\"red\">requires large processing capacity</font>."
   ]
  },
  {
   "cell_type": "markdown",
   "metadata": {},
   "source": [
    "* In fact, we concluded that this was one of the reasons <font color=\"red\">conscious thought is not really suitable for weighted adding</font>."
   ]
  },
  {
   "cell_type": "markdown",
   "metadata": {},
   "source": [
    "* <font color=\"red\">Unconscious thought</font>, however, has a <font color=\"red\">much larger capacity than conscious thought</font>, which renders it a more suitable candidate for weighted adding. At least capacity constraints will not be in the way."
   ]
  },
  {
   "cell_type": "markdown",
   "metadata": {},
   "source": [
    "* In another recent set of studies, we (Dijksterhuis, Bos, Nordgren, & van Baaren, 2006) compared choices between simple products and complex products.\n",
    "    - There are of course many ways in which simple or complex can be operationalized, and we looked at one relevant dimension:\n",
    "    - Examples of simple products with few relevant attributes are CDs (where most people really only care about the music) or a dishwashing brush (where most people do not really care about anything at all).\n",
    "    - Examples of complex products are cars or houses (where most people want to take into account many different attribute dimensions)."
   ]
  },
  {
   "cell_type": "markdown",
   "metadata": {},
   "source": [
    "* As predicted, <font color=\"red\">unconscious thinkers</font> made better decisions about <font color=\"red\">complex products</font> than do conscious thinkers.\n",
    "* however, this <font color=\"blue\">effect disappeared or was even reversed for simple decisions</font>."
   ]
  },
  {
   "cell_type": "markdown",
   "metadata": {},
   "source": [
    "---------------"
   ]
  },
  {
   "cell_type": "markdown",
   "metadata": {},
   "source": [
    "# UNCONSCIOUS WEIGHTED ADDING, PART 2 : WEIGHTING ITSELF"
   ]
  },
  {
   "cell_type": "markdown",
   "metadata": {},
   "source": [
    "* [2]의 From UTT: six principles distinguishing UT from CT 부분을 참조\n",
    "    - https://en.wikipedia.org/wiki/Unconscious_thought_theory"
   ]
  },
  {
   "cell_type": "markdown",
   "metadata": {},
   "source": [
    "--------------------------"
   ]
  },
  {
   "cell_type": "markdown",
   "metadata": {},
   "source": [
    "* One of the principles of the Unconscious Thought Theory is the following (and note that it is based on the work by Wilson and colleagues discussed earlier):\n",
    "* The unconscious naturally weights the relative importance of various attributes.\n",
    "* Conscious thought often leads to suboptimal weighting because it disturbs this natural process (Dijksterhuis & Nordgren, 2006, pp. 99–100).\n",
    "* Do we engage in weighted adding when we think unconsciously? And if so, how?\n",
    "* We concede that the evidence for superior unconscious weighting is still limited, but we have some hints that we also described in Dijksterhuis and Nordgren (2006, p. 100)."
   ]
  },
  {
   "cell_type": "markdown",
   "metadata": {},
   "source": [
    "* One experiment will be discussed again here. \n",
    "    - Recently, we (Dijksterhuis & van Olden, 2006) replicated and extended the “poster-experiment” by Wilson and colleagues discussed before. Participants chose a poster (out of five) to take home under one of three different conditions. They chose after looking at the posters briefly, after briefly looking at them and then thinking about them for 9 minutes, or after 9 minutes of unconscious thought following a brief look. Participants took their chosen poster home and were called a few weeks later to find out how they felt about their choice. As expected, participants who thought unconsciously were happier with their poster than participants in the other two conditions. In addition, when asked for what amount of money they would be willing to sell their poster, they indicated a sum twice as high as conscious thinkers."
   ]
  },
  {
   "cell_type": "markdown",
   "metadata": {},
   "source": [
    "* It is possible that conscious thinkers chose poorly because they were indecisive. however, it is also possible that they had a clear preference for the wrong alterna- tive, or, in other words, that they weighted poorly. "
   ]
  },
  {
   "cell_type": "markdown",
   "metadata": {},
   "source": [
    "* This was not the case among conscious thinkers. In other words, unconscious thinkers (and immediate choosers) weighted much better than conscious thinkers."
   ]
  },
  {
   "cell_type": "markdown",
   "metadata": {},
   "source": [
    "---------------------------"
   ]
  },
  {
   "cell_type": "markdown",
   "metadata": {},
   "source": [
    "* In a recent set of studies, we (Dijksterhuis, Bos, van Baaren, & van der Leij, 2007a) looked at weighting more closely in experiments in which we compared immediate deciders and unconscious thinkers."
   ]
  },
  {
   "cell_type": "markdown",
   "metadata": {},
   "source": [
    "* We used a paradigm based on work by Alba and Marmorstein (1987). \n",
    "    - Participants received information about a choice problem. Some objects (in our case, cars) had few positive attributes and many negative ones. however, the positive aspects were highly important (e.g., good gas mileage, excellent safety) whereas the many negative attributes were unimportant (e.g., no cupholders, no sunroof, no logo on the grill, etc.). In contrast to these what we may call “quality-cars,” other cars were the exact opposite: They had many posi- tive attributes that were unimportant (cupholders, sunroof, nice logo on the grill, etc.) and few negative but important attributes (poor safety and gas mileage). These we called the “frequency-cars.”"
   ]
  },
  {
   "cell_type": "markdown",
   "metadata": {},
   "source": [
    "* In our experiments so far, we showed that participants generally chose quality-cars over frequency-cars, which shows they engaged in appropriate weighting. "
   ]
  },
  {
   "cell_type": "markdown",
   "metadata": {},
   "source": [
    "* Whereas immediate choosers indeed weighted to some extent (about 75% chose the quality car), unconscious thinkers showed much stronger weighting effects, up to the point that almost all unconscious thinkers (>90%) chose the quality car."
   ]
  },
  {
   "cell_type": "markdown",
   "metadata": {},
   "source": [
    "------------------------"
   ]
  },
  {
   "cell_type": "markdown",
   "metadata": {},
   "source": [
    "# TOWARD EXPLAINING HOW"
   ]
  },
  {
   "cell_type": "markdown",
   "metadata": {},
   "source": [
    "* As we have seen, when we think unconsciously, we generally have enough capac- ity to engage in weighted adding, even for relatively complex problems.\n",
    "* Moreover, recent evidence shows that we do indeed engage in weighting to at least some extent.\n",
    "* The intriguing question is how such an unconscious weighting process ensues.\n",
    "* We concede that our current knowledge is both incomplete and specula- tive, but there are a few avenues that are useful to explore.\n",
    "* We briefly discuss two such ideas. \n",
    "* The first is based on commonalities between unconscious thought the- ory and fuzzy trace theory.\n",
    "* The second is based on the idea of implicit learning.\n",
    "* To explain what both conscious and unconscious thinkers may do in the para- digm we often use, we can borrow insights from fuzzy trace theory (for a review see Brainerd & Reyna, 1990)."
   ]
  },
  {
   "cell_type": "markdown",
   "metadata": {},
   "source": [
    "* Fuzzy trace theory assumes that people encode information in two ways: \n",
    "* They distill both the gist of the information and a verba- tim representation.\n",
    "* It is tempting to believe that a verbatim storage of information is somehow better because it is more precise, but a host of research shows that it is not (e.g., Reyna, Lloyd, & Brainerd, 2003).\n",
    "* Verbatim representations are relatively instable and unreliable.\n",
    "* Indeed, when people have to judge or decide, they rely more on gist representations and less on verbatim representations the more expe- rienced they are with the decision domain. \n",
    "* It is likely that unconscious thought works on gist representations whereas con- scious thought relies more on verbatim representations."
   ]
  },
  {
   "cell_type": "markdown",
   "metadata": {},
   "source": [
    "* This could explain why conscious thought makes weighting less consistent, as was shown by Levine at al. (1996) and Nordgren and Dijksterhuis (2007). "
   ]
  },
  {
   "cell_type": "markdown",
   "metadata": {},
   "source": [
    "* After all, verbatim representations themselves are less stable."
   ]
  },
  {
   "cell_type": "markdown",
   "metadata": {},
   "source": [
    "* Of course, for gist-based decisions to be sound, one needs to be able to infer the correct gists for encoded information in the first place. however, this becomes easier with more practice and it is no wonder that experi- ence leads people to use more gist-based strategies "
   ]
  },
  {
   "cell_type": "markdown",
   "metadata": {},
   "source": [
    "* This is consistent with recent work in our laboratory in which we show that the quality of decisions correlates with experience for unconscious thinkers."
   ]
  },
  {
   "cell_type": "markdown",
   "metadata": {},
   "source": [
    "* In recent studies (Dijksterhuis, Bos, van Baaren, & van der Leij, 2007b) we have asked participants to predict results of sports events."
   ]
  },
  {
   "cell_type": "markdown",
   "metadata": {},
   "source": [
    "* As expected, unconscious thought is more effective for people with more experience."
   ]
  },
  {
   "cell_type": "markdown",
   "metadata": {},
   "source": [
    "* One would expect the same for conscious thought, but we actually find a surprisingly low correlation between experience and quality of decisions for conscious thinkers."
   ]
  },
  {
   "cell_type": "markdown",
   "metadata": {},
   "source": [
    "* This is fully in line with fuzzy trace theory: Experience helps with gist-based decisions, much less so with verbatim-based decisions."
   ]
  },
  {
   "cell_type": "markdown",
   "metadata": {},
   "source": [
    "* The fact that unconscious, gist-based processing can be very effective is likely also helped by the fact that we can apply implicit knowledge during unconscious thought that we do not apply during conscious thought."
   ]
  },
  {
   "cell_type": "markdown",
   "metadata": {},
   "source": [
    "* That is, knowledge that is inaccessible to consciousness will probably not be used during conscious thought, but it may well be applied during gist-based, unconscious processing."
   ]
  },
  {
   "cell_type": "markdown",
   "metadata": {},
   "source": [
    "* Recently, Lieberman (2000) made a strong claim for an intimate relation between implicit learning and intuition."
   ]
  },
  {
   "cell_type": "markdown",
   "metadata": {},
   "source": [
    "* Intuitive processes may seem to appear out of nowhere, but they are often based on an impressive amount of implicit knowledge."
   ]
  },
  {
   "cell_type": "markdown",
   "metadata": {},
   "source": [
    "* A few years ago, a Los Angeles–based museum bought a Kouros, an old Greek statue. Before they acquired it however, they did some tests to check whether it was a forgery or not. Everything seemed fine, until one or two very experienced and knowledgeable art connoisseurs “felt” something was wrong. I emphasize “felt” because these specialists merely sensed something was dodgy without being able to verbalize what was wrong. Their suspicion turned out to be correct, though, when very advanced tests later showed the Kouros was indeed a fake."
   ]
  },
  {
   "cell_type": "markdown",
   "metadata": {},
   "source": [
    "* What is important here is that these specialists had their suspicion because they could call on an enormous amount of relevant knowledge."
   ]
  },
  {
   "cell_type": "markdown",
   "metadata": {},
   "source": [
    "* That this knowledge was (at least in part) implicit is also obvious, otherwise they would be able to say why the Kouros was a forgery. however, they could not; it just “felt” wrong. A line of research that supports this reasoning is the work on “bootstrapping.” The bootstrapping technique (see e.g., Dawes, 1979) neatly shows that we have more knowledge than we often apply. "
   ]
  },
  {
   "cell_type": "markdown",
   "metadata": {},
   "source": [
    "* A linear combination of attributes based on a deci- sion maker’s past weights does better in decision making than the decision maker on whom the weights are based."
   ]
  },
  {
   "cell_type": "markdown",
   "metadata": {},
   "source": [
    "* This clearly shows that we possess highly useful information that we often fail to apply."
   ]
  },
  {
   "cell_type": "markdown",
   "metadata": {},
   "source": [
    "* Let us again use a concrete decision example. Let us say you buy a house for the eighth time of your life."
   ]
  },
  {
   "cell_type": "markdown",
   "metadata": {},
   "source": [
    "* The explicit knowledge about what you like and do not like about what is an asset in a house and what is not, about how different attributes will make you feel, is likely only a fraction of your “total” knowledge."
   ]
  },
  {
   "cell_type": "markdown",
   "metadata": {},
   "source": [
    "* Most of this knowledge is implicit, and we hypothesize that such knowledge is applied during unconscious, gist-based thought and not (or at least much less so) during conscious, verbatim-based thought."
   ]
  },
  {
   "cell_type": "markdown",
   "metadata": {},
   "source": [
    "# CONCLUSIONS"
   ]
  },
  {
   "cell_type": "markdown",
   "metadata": {},
   "source": [
    "* Is giving up weighted adding as an ideal unnecessary? We argue that it is. At least for complex choices, unconscious thought does quite well in approaching weighted adding. One can ask the question whether unconscious thought does weighted adding or whether it merely behaves as if it does weighted adding. Chater and colleagues (2003) recently published an insightful paper where the distinction is made between rational calculation and rational description. The requirement of rational calculation for weighted adding presupposes that people would “calculate” weighted adding with the exact knowledge of how such things must be calculated."
   ]
  },
  {
   "cell_type": "markdown",
   "metadata": {},
   "source": [
    "* This seems unrealistic, but it is also an unnecessary requirement. Chater and col- leagues (2003, p. 67) use a nice analogy: “The wings of a bird may approximate the results of a calculation of optimal aerodynamic design ... but there is, of course, no presumption that the bird conducts any calculations in designing its wing.” This analogy may apply to unconscious thought and weighted adding. Perhaps uncon- scious thought does not quite do it, but it behaves as if it is doing it."
   ]
  },
  {
   "cell_type": "markdown",
   "metadata": {},
   "source": [
    "* In their paper, Chater and colleagues also show that computer simulations (which are obviously not consciously aware of their own algorithms) can perform rationally on complex decision tasks that require integration of a lot of information."
   ]
  },
  {
   "cell_type": "markdown",
   "metadata": {},
   "source": [
    "* In contrast to current prevailing wisdom, we believe that people can actually do that too."
   ]
  },
  {
   "cell_type": "markdown",
   "metadata": {},
   "source": [
    "* If they are willing to engage in unconscious thought."
   ]
  },
  {
   "cell_type": "markdown",
   "metadata": {},
   "source": [
    "# 참고자료 "
   ]
  },
  {
   "cell_type": "markdown",
   "metadata": {},
   "source": [
    "* [1] Social Psychology of Consumer Behavior - http://www.amazon.com/Social-Psychology-Consumer-Behavior-Frontiers/dp/1841694983\n",
    "* [2] Unconscious thought theory (wikipedia) - https://en.wikipedia.org/wiki/Unconscious_thought_theory\n",
    "* [3] Unconscious Thought Theory - https://prezi.com/kw6w4rh9htlp/unconscious-thought-theory/\n",
    "* [4] Issus with the definition of Unconscious Thought in Unconscious Thought Theory - http://www.slideshare.net/sumitavamukh/issus-with-the-definition-of-unconscious-thought-in-unconscious-thought-theory\n",
    "* [5] Unconscious Lab -  http://www.unconsciouslab.com/\n",
    "* [6] Fuzzy-trace theory (wikipedia) - https://en.wikipedia.org/wiki/Fuzzy-trace_theory"
   ]
  }
 ],
 "metadata": {
  "kernelspec": {
   "display_name": "Python 2",
   "language": "python",
   "name": "python2"
  },
  "language_info": {
   "codemirror_mode": {
    "name": "ipython",
    "version": 2
   },
   "file_extension": ".py",
   "mimetype": "text/x-python",
   "name": "python",
   "nbconvert_exporter": "python",
   "pygments_lexer": "ipython2",
   "version": "2.7.3"
  }
 },
 "nbformat": 4,
 "nbformat_minor": 0
}
