{
 "cells": [
  {
   "cell_type": "markdown",
   "metadata": {},
   "source": [
    "# 3. Psychological Distance and Consumer Behavior : A Construal Level Theory Perspective"
   ]
  },
  {
   "cell_type": "markdown",
   "metadata": {},
   "source": [
    "# Contents"
   ]
  },
  {
   "cell_type": "markdown",
   "metadata": {},
   "source": [
    "* Construal Level Theory\n",
    "* Level of Construal\n",
    "* Psychological Distance\n",
    "* Psychological Distance and Level of Construal\n",
    "* Primary versus Secondary Sources of Value\n",
    "    - Desirability versus Feasibility\n",
    "    - Payoffs versus Probability in Gambles\n",
    "    - Considerations in Favor versus Against a Choice\n",
    "    - Self-Control\n",
    "    - Affective Influences on Choice\n",
    "    - Taking One’s Values into Account\n",
    "* Satisfaction and Regret\n",
    "    - Prediction of Satisfaction\n",
    "    - Regret\n",
    "    - Mental Distancing and Mental Approximation\n",
    "* Conclusion"
   ]
  },
  {
   "cell_type": "markdown",
   "metadata": {},
   "source": [
    "### We think that these are questions of central importance to the field of consumer psychology.\n",
    "\n",
    "* Do we buy products differently when we think of using them in the near future vs. the distant future (e.g., concert tickets for tonight vs. for next month)? \n",
    "* Is buying a gift for another different from buying products for our own use? \n",
    "* Does Internet shopping affect the way consumers purchase goods?\n",
    "* Do consumers evaluate products that they own in a different way than products they may own with some probability? \n",
    "* Do consumers treat novel products in a different way than familiar products?"
   ]
  },
  {
   "cell_type": "markdown",
   "metadata": {},
   "source": [
    "#### <font color=\"red\">They all concern the effect of psychological distance on consumer behavior.</font>\n",
    "* In the present chapter, we approach these and related questions within <font color=\"red\">the framework of construal level theory (CLT)</font> and \n",
    "* suggest that psychological distance, i.e. \n",
    "    - temporal distance, \n",
    "    - social distance, \n",
    "    - hypotheticality, and \n",
    "    - spatial distance"
   ]
  },
  {
   "cell_type": "markdown",
   "metadata": {},
   "source": [
    "# Construal Level Theory"
   ]
  },
  {
   "cell_type": "markdown",
   "metadata": {},
   "source": [
    "* Construal level theory (Liberman, Trope, & Stephan, 2007; Trope & Liberman, 2003) rests on two premises: \n",
    "    - (1) Psychological distance from an object or event increases the tendency to construe it in high-level rather than low-level terms. \n",
    "    -  (2) Evaluations and decisions are formed with respect to the construal of decision alternatives."
   ]
  },
  {
   "cell_type": "markdown",
   "metadata": {},
   "source": [
    "<img src=\"http://cdn.phys.org/newman/gfx/news/hires/752.jpg\" />"
   ]
  },
  {
   "cell_type": "markdown",
   "metadata": {},
   "source": [
    "# Level of Construal"
   ]
  },
  {
   "cell_type": "markdown",
   "metadata": {},
   "source": [
    "# Psychological Distance"
   ]
  },
  {
   "cell_type": "markdown",
   "metadata": {},
   "source": [
    "# Psychological Distance and Level of Construal"
   ]
  },
  {
   "cell_type": "markdown",
   "metadata": {},
   "source": [
    "# Primary versus Secondary Sources of Value"
   ]
  },
  {
   "cell_type": "markdown",
   "metadata": {},
   "source": [
    "* Desirability versus Feasibility\n",
    "* Payoffs versus Probability in Gambles\n",
    "* Considerations in Favor versus Against a Choice\n",
    "* Self-Control\n",
    "* Affective Influences on Choice\n",
    "* Taking One’s Values into Account"
   ]
  },
  {
   "cell_type": "markdown",
   "metadata": {},
   "source": [
    "## Desirability versus Feasibility"
   ]
  },
  {
   "cell_type": "markdown",
   "metadata": {},
   "source": [
    "## Payoffs versus Probability in Gambles"
   ]
  },
  {
   "cell_type": "markdown",
   "metadata": {},
   "source": [
    "## Considerations in Favor versus Against a Choice"
   ]
  },
  {
   "cell_type": "markdown",
   "metadata": {},
   "source": [
    "## Self-Control"
   ]
  },
  {
   "cell_type": "markdown",
   "metadata": {},
   "source": [
    "## Affective Influences on Choice"
   ]
  },
  {
   "cell_type": "markdown",
   "metadata": {},
   "source": [
    "## Taking One’s Values into Account"
   ]
  },
  {
   "cell_type": "markdown",
   "metadata": {},
   "source": [
    "# Satisfaction and Regret"
   ]
  },
  {
   "cell_type": "markdown",
   "metadata": {},
   "source": [
    "* Prediction of Satisfaction\n",
    "* Regret\n",
    "* Mental Distancing and Mental Approximation"
   ]
  },
  {
   "cell_type": "markdown",
   "metadata": {},
   "source": [
    "## Prediction of Satisfaction"
   ]
  },
  {
   "cell_type": "markdown",
   "metadata": {},
   "source": [
    "## Regret"
   ]
  },
  {
   "cell_type": "markdown",
   "metadata": {},
   "source": [
    "## Mental Distancing and Mental Approximation"
   ]
  },
  {
   "cell_type": "markdown",
   "metadata": {},
   "source": [
    "# Conclusion"
   ]
  },
  {
   "cell_type": "markdown",
   "metadata": {},
   "source": [
    "# 참고자료"
   ]
  },
  {
   "cell_type": "markdown",
   "metadata": {},
   "source": [
    "* [1] Social Psychology of Consumer Behavior - http://www.amazon.com/Social-Psychology-Consumer-Behavior-Frontiers/dp/1841694983\n",
    "* [2] https://en.wikipedia.org/wiki/Construal_level_theory"
   ]
  }
 ],
 "metadata": {
  "kernelspec": {
   "display_name": "Python 2",
   "language": "python",
   "name": "python2"
  },
  "language_info": {
   "codemirror_mode": {
    "name": "ipython",
    "version": 2
   },
   "file_extension": ".py",
   "mimetype": "text/x-python",
   "name": "python",
   "nbconvert_exporter": "python",
   "pygments_lexer": "ipython2",
   "version": "2.7.3"
  }
 },
 "nbformat": 4,
 "nbformat_minor": 0
}
