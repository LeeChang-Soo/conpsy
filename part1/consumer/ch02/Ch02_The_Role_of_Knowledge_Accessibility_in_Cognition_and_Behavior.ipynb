{
 "cells": [
  {
   "cell_type": "markdown",
   "metadata": {},
   "source": [
    "# 2. The Role of Knowledge Accessibility in Cognition and Behavior: Implications for Consumer Information Processing"
   ]
  },
  {
   "cell_type": "markdown",
   "metadata": {},
   "source": [
    "* 소비자심리 + 온라인 사용자 분석 실습\n",
    "* 김무성"
   ]
  },
  {
   "cell_type": "markdown",
   "metadata": {},
   "source": [
    "# Contents"
   ]
  },
  {
   "cell_type": "markdown",
   "metadata": {},
   "source": [
    "* GENERAL CONSIDERATIONS\n",
    "* TYPES OF KNOWLEDGE REPRESENTATIONS\n",
    "* BASIC PRINCIPLES\n",
    "* DETERMINANTS OF KNOWLEDGE ACCESSIBILITY\n",
    "* EFFECTS OF PRIOR JUDGMENTS ON SUBSEQUENT ONES\n",
    "* THE INFLUENCE OF AWARENESS ON THE IMPACT OF ACCESSIBLE KNOWLEDGE\n",
    "* The Effects of Thought Suppression on Knowledge Accessibility\n",
    "* ATTENTIONAL PROCESSES\n",
    "* THE INTERPRETATION OF AMBIGUOUS INFORMATION\n",
    "* DIMENSIONAL VS. CATEGORY ACCESSIBILITY\n",
    "* ASSIMILATION AND CONTRAST\n",
    "* DESCRIPTIVE VS. EVALUATIVE ENCODING\n",
    "* GOAL-ACTIVATED PRIMING EFFECTS\n",
    "* HIGHER ORDER COMPREHENSION PROCESSES\n",
    "* MEMORY PROCESSES\n",
    "* THE ROLE OF IMPLICIT THEORIES ON RECONSTRUCTIVE MEMORY\n",
    "* INTERFERENCE OF ACCESSIBLE KNOWLEDGE ON MEMORY\n",
    "* INFERENCE AND EVALUATION PROCESSES\n",
    "* BELIEF ESTIMATION\n",
    "* FREQUENCY ESTIMATION\n",
    "* MAGNITUDE ESTIMATES\n",
    "* EVALUATIONS AND AFFECT-BASED JUDGMENTS\n",
    "* PREFERENCE JUDGMENTS\n",
    "* BEHAVIORAL DECISIONS\n",
    "* FFECTS OF BODILY FEEDBACK ON INFORMATION PROCESSING\n",
    "* CHAMELEON EFFECTS\n",
    "* IMPULSIVENESS\n",
    "* GOALS AND MOTIVES\n",
    "* CULTURAL AND SOCIAL INFLUENCES ON REGULATORY FOCUS\n",
    "* EFFECTS OF TERROR MANAGEMENT ON MATERIALISTIC MOTIVES\n",
    "* THE INFLUENCE OF AFFECT ON GOAL-DIRECTED ACTIVITY\n",
    "* CONCLUDING COMMENT"
   ]
  },
  {
   "cell_type": "markdown",
   "metadata": {},
   "source": [
    "# GENERAL CONSIDERATIONS"
   ]
  },
  {
   "cell_type": "markdown",
   "metadata": {},
   "source": [
    "* Stages of Information Processing"
   ]
  },
  {
   "cell_type": "markdown",
   "metadata": {},
   "source": [
    "#### intro"
   ]
  },
  {
   "cell_type": "markdown",
   "metadata": {},
   "source": [
    "* <font color=\"red\">People’s judgments and decisions</font> are typically based on only <font color=\"red\">a small subset of the knowledge</font> they could potentially apply. \n",
    "* Furthermore, when <font color=\"red\">they receive new judgment-relevant information</font>, they construe its implications <font color=\"red\">without considering all of the alternative interpretations</font> it might have.\n",
    "* The concepts and knowledge they employ in each case are not necessarily either the most relevant or the most reliable, but rather, are <font color=\"red\">the cognitions that come most easily to mind</font>. \n",
    "* This general tendency, which has been documented at <font color=\"red\">all stages of information processing</font> from the initial acquisition and comprehension of information to the generation of an overt response, is one of the most widely accepted phenomena to emerge in the past three decades of psychological research\n",
    "* Because of its pervasiveness, <font color=\"red\">the role of knowledge accessibility is a central component of almost every theoretical formulation of social information processing</font> to appear in the past three decades, ranging from general formulations of judgment and behavior to more specific formulations of \n",
    "    - attitude formation and change, \n",
    "    - attitude-behavior relations, \n",
    "    - impression formation, \n",
    "    - stereotype activation and suppression, \n",
    "    - the effects of the media on perceptions of social reality, \n",
    "    - the impact of affect and subjective experience on judgments and decisions, \n",
    "    - goal-directed behavior, \n",
    "    - cultural influences on behavioral decisions, \n",
    "    - and perspective effects in judgment. \n",
    "* In the area of consumer research, the role of knowledge accessibility is implicit if not explicit in research on \n",
    "    - subliminal advertising\n",
    "    - brand awareness, \n",
    "    - pricing\n",
    "    - and product evaluation more generally. \n",
    "* The first section of this chapter reviews <font color=\"red\">alternative conceptualizations of knowledge accessibility phenomena</font>, drawing largely from research and theory in cognitive and social psychology. \n",
    "* Later sections provide <font color=\"red\">examples of the role of knowledge accessibility at several different stages of information processing</font>, \n",
    "    - including the attention to and comprehension of information, \n",
    "    - the representation of the information in memory, \n",
    "    - the computation of inferences on the basis of previously acquired knowledge, \n",
    "    - and behavior decisions. \n",
    "* In the course of this discussion, we review representative research and theory in consumer judgment and decision-making in which differences in knowledge accessibility come into play."
   ]
  },
  {
   "cell_type": "markdown",
   "metadata": {},
   "source": [
    "## Stages of Information Processing"
   ]
  },
  {
   "cell_type": "markdown",
   "metadata": {},
   "source": [
    "1. <font color=\"red\">Attention</font>—people pay differing amounts of attention to the various aspects of the infor-\n",
    "mation they receive.\n",
    "2. <font color=\"red\">Encoding and comprehension</font>—people interpret individual pieces of information in terms\n",
    "of previously formed concepts that they exemplify, and may organize clusters of features\n",
    "with reference to a more general knowledge structure or “schema.” Thus, they might inter-\n",
    "pret a $70 pair of jeans as expensive, or comprehend a temporally related sequence of\n",
    "events that occur at a restaurant in terms of a prototypic “restaurant script” \n",
    "3. <font color=\"red\">Inference</font>—people often infer the likelihood that a statement or assertion is true, or the\n",
    "frequency with which a particular event has occurred. At the same time, they estimate\n",
    "the likelihood that an event will occur in the future, or that a certain state of affairs did or\n",
    "does exist. They sometimes infer that an object has a particular attribute, or might evalu-\n",
    "ate it as either favorable or unfavorable. In other cases, they make a comparative judgment\n",
    "of several objects or events along a given dimension, or might compute a preference for\n",
    "one alternative over another.\n",
    "4. <font color=\"red\">Response processes</font>—people transform the implications of their subjective judgment into\n",
    "an overt response or behavioral decision.\n"
   ]
  },
  {
   "cell_type": "markdown",
   "metadata": {},
   "source": [
    "# TYPES OF KNOWLEDGE REPRESENTATIONS"
   ]
  },
  {
   "cell_type": "markdown",
   "metadata": {},
   "source": [
    "* <font color=\"red\">The knowledge</font> that comes into play at these stages of processing can be of <font color=\"red\">two general types</font>.\n",
    "    - <font color=\"red\">Declarative knowledge</font> concerns the referents of everyday life experiences (persons, objects, events, attitudes and values, oneself, etc.). \n",
    "        - declarative knowledge is reflected in the information we can recall about an entity or that\n",
    "we implicitly draw upon in the course of attaining a particular objective\n",
    "        - People can, of course, have declarative knowledge about how to attain a particular objective, and might sometimes consult this knowledge for use as a behavioral guide. \n",
    "    - In contrast, <font color=\"red\">procedural knowledge</font> refers to the sequence of actions that one performs in pursuit of a particular goal (driving a car, using a word processor, etc.)\n",
    "        - procedural knowledge is reflected in the sequence of cognitive or motor acts that are performed in the pursuit of this objective. \n",
    "        - <font color=\"red\">Once the procedure is well learned</font>, however, it may often be applied <font color=\"red\">automatically</font>, with little if any conscious cognitive mediation.\n",
    "* These automated procedures can be conceptualized as “<font color=\"red\">productions</font>” of the sort suggested by J.\n",
    "R. Anderson.\n",
    "    - Thus, they may be metaphorically have the form of “<font color=\"red\">If [X], then [Y]</font>” rules\n",
    "          - in which [X] is a configuration of perceptual or cognitive stimulus features and [Y] is a sequence of cognitive or motor acts that are elicited automatically when the eliciting conditions are met. \n",
    "    - These productions, which are acquired through learning, are strengthened by repetition, and can ultimately be activated and applied with minimal cognitive mediation.\n",
    "    - As Bargh (1997) argues, a very large amount of our social behavior is likely to involve the use of these automatically activated productions.\n",
    "* <font color=\"red\">In this chapter, we focus primarily on the accessibility of declarative knowledge</font> (Smith, 1990). Nevertheless, <font color=\"red\">the accessibility of procedural knowledge is likely to have a particularly important</font> impact on overt behavior as will be seen.\n",
    "* Declarative knowledge \n",
    "    - general semantic concepts\n",
    "    - categories\n",
    "    - specific person or experience\n",
    "    - more general characterization that applies to several individuals or events \n",
    "* Representations of a <font color=\"red\">situation-specific sequence of events</font> \n",
    "    - may constitute a <font color=\"red\">story</font> \n",
    "    - more generalized <font color=\"red\">sequences of events can function as implicit theories</font> that convey the antecedents and consequences of different types of experiences involving oneself or others \n",
    "    * These representations come into play in not only <font color=\"red\">comprehending new experiences</font> but also <font color=\"red\">reconstructing past events</font> and <font color=\"red\">predicting future</font> ones. \n",
    "    * Other <font color=\"red\">generalized event sequences</font> can constitute plans or procedures that are used as <font color=\"red\">behavioral guides in attaining a particular goal</font>.    \n",
    "* The <font color=\"red\">knowledge representations</font> that people construct can be coded in <font color=\"red\">different modalities</font>.\n",
    "    - Although much of our knowledge is coded <font color=\"red\">verbally</font>, \n",
    "    - a very large portion of it (particularly the knowledge we acquire through direct experience) is <font color=\"red\">nonverbal</font>, consisting of <font color=\"red\">mental images</font> that have both <font color=\"red\">visual</font> and <font color=\"red\">acoustic</font> components \n",
    "* Finally, the knowledge we acquire can <font color=\"red\">elicit subjective reactions</font> (e.g., positive or negative affect)\n",
    "    - that, <font color=\"red\">once experienced</font>, can exert an <font color=\"red\">influence on the processing of information at each of the stages</font> listed earlier. \n",
    "    - These reactions, once elicited, can be a major source of the information people use as a basis for judgments and decisions\n",
    "    - On the other hand, they can influence the interpretation of information. and the weight that people attach to it when making a judgment. \n",
    "* Although <font color=\"red\">affect</font>, or <font color=\"red\">subjective experience</font> more generally, \n",
    "    - <font color=\"red\">is not itself a part of the knowledge one stores in memory</font>, \n",
    "    - <font color=\"red\">it can be elicited by this knowledge</font> (Wyer, Clore, & Isbell, 1998). Its influence can nevertheless be onceptualized in terms very similar to that of other aspects of knowledge that people have accessible at the time they receive information and make a judgment or decision.\n",
    "* Despite these <font color=\"red\">differences in the content and structure of knowledge</font>, <font color=\"red\">the processes that govern its accessibility in memory are similar</font>. "
   ]
  },
  {
   "cell_type": "markdown",
   "metadata": {},
   "source": [
    "# BASIC PRINCIPLES"
   ]
  },
  {
   "cell_type": "markdown",
   "metadata": {},
   "source": [
    "# DETERMINANTS OF KNOWLEDGE ACCESSIBILITY"
   ]
  },
  {
   "cell_type": "markdown",
   "metadata": {},
   "source": [
    "* Strength of Association\n",
    "* Recency and Frequency\n",
    "* Amount of Processing"
   ]
  },
  {
   "cell_type": "markdown",
   "metadata": {},
   "source": [
    "## Strength of Association"
   ]
  },
  {
   "cell_type": "markdown",
   "metadata": {},
   "source": [
    "## Recency and Frequency"
   ]
  },
  {
   "cell_type": "markdown",
   "metadata": {},
   "source": [
    "## Amount of Processing"
   ]
  },
  {
   "cell_type": "markdown",
   "metadata": {},
   "source": [
    "# EFFECTS OF PRIOR JUDGMENTS ON SUBSEQUENT ONES"
   ]
  },
  {
   "cell_type": "markdown",
   "metadata": {},
   "source": [
    "# THE INFLUENCE OF AWARENESS ON THE IMPACT OF ACCESSIBLE KNOWLEDGE"
   ]
  },
  {
   "cell_type": "markdown",
   "metadata": {},
   "source": [
    "# The Effects of Thought Suppression on Knowledge Accessibility"
   ]
  },
  {
   "cell_type": "markdown",
   "metadata": {},
   "source": [
    "# ATTENTIONAL PROCESSES"
   ]
  },
  {
   "cell_type": "markdown",
   "metadata": {},
   "source": [
    "* Selective Information Seeking\n",
    "* The Effect of Goals on Selective Attention\n",
    "* The Impact of Affect on Selective Attention\n",
    "* Categorical vs. Piecemeal Information Processing"
   ]
  },
  {
   "cell_type": "markdown",
   "metadata": {},
   "source": [
    "## Selective Information Seeking"
   ]
  },
  {
   "cell_type": "markdown",
   "metadata": {},
   "source": [
    "## The Effect of Goals on Selective Attention"
   ]
  },
  {
   "cell_type": "markdown",
   "metadata": {},
   "source": [
    "## The Impact of Affect on Selective Attention"
   ]
  },
  {
   "cell_type": "markdown",
   "metadata": {},
   "source": [
    "## Categorical vs. Piecemeal Information Processing"
   ]
  },
  {
   "cell_type": "markdown",
   "metadata": {},
   "source": [
    "# THE INTERPRETATION OF AMBIGUOUS INFORMATION"
   ]
  },
  {
   "cell_type": "markdown",
   "metadata": {},
   "source": [
    "# DIMENSIONAL VS. CATEGORY ACCESSIBILITY"
   ]
  },
  {
   "cell_type": "markdown",
   "metadata": {},
   "source": [
    "# ASSIMILATION AND CONTRAST"
   ]
  },
  {
   "cell_type": "markdown",
   "metadata": {},
   "source": [
    "# DESCRIPTIVE VS. EVALUATIVE ENCODING"
   ]
  },
  {
   "cell_type": "markdown",
   "metadata": {},
   "source": [
    "# GOAL-ACTIVATED PRIMING EFFECTS"
   ]
  },
  {
   "cell_type": "markdown",
   "metadata": {},
   "source": [
    "# HIGHER ORDER COMPREHENSION PROCESSES"
   ]
  },
  {
   "cell_type": "markdown",
   "metadata": {},
   "source": [
    "* Chronic Accessibility of Knowledge\n",
    "* Framing Effects"
   ]
  },
  {
   "cell_type": "markdown",
   "metadata": {},
   "source": [
    "## Chronic Accessibility of Knowledge"
   ]
  },
  {
   "cell_type": "markdown",
   "metadata": {},
   "source": [
    "## Framing Effects"
   ]
  },
  {
   "cell_type": "markdown",
   "metadata": {},
   "source": [
    "# MEMORY PROCESSES"
   ]
  },
  {
   "cell_type": "markdown",
   "metadata": {},
   "source": [
    "# THE ROLE OF IMPLICIT THEORIES ON RECONSTRUCTIVE MEMORY"
   ]
  },
  {
   "cell_type": "markdown",
   "metadata": {},
   "source": [
    "# INTERFERENCE OF ACCESSIBLE KNOWLEDGE ON MEMORY"
   ]
  },
  {
   "cell_type": "markdown",
   "metadata": {},
   "source": [
    "# INFERENCE AND EVALUATION PROCESSES"
   ]
  },
  {
   "cell_type": "markdown",
   "metadata": {},
   "source": [
    "# BELIEF ESTIMATION"
   ]
  },
  {
   "cell_type": "markdown",
   "metadata": {},
   "source": [
    "# FREQUENCY ESTIMATION"
   ]
  },
  {
   "cell_type": "markdown",
   "metadata": {},
   "source": [
    "* Perceptions of Social Reality\n",
    "* Additional Considerations"
   ]
  },
  {
   "cell_type": "markdown",
   "metadata": {},
   "source": [
    "## Perceptions of Social Reality"
   ]
  },
  {
   "cell_type": "markdown",
   "metadata": {},
   "source": [
    "## Additional Considerations"
   ]
  },
  {
   "cell_type": "markdown",
   "metadata": {},
   "source": [
    "# MAGNITUDE ESTIMATES"
   ]
  },
  {
   "cell_type": "markdown",
   "metadata": {},
   "source": [
    "* Estimates in Physical Stimulus Units\n",
    "* Subjective Magnitude Estimates"
   ]
  },
  {
   "cell_type": "markdown",
   "metadata": {},
   "source": [
    "## Estimates in Physical Stimulus Units"
   ]
  },
  {
   "cell_type": "markdown",
   "metadata": {},
   "source": [
    "## Subjective Magnitude Estimates"
   ]
  },
  {
   "cell_type": "markdown",
   "metadata": {},
   "source": [
    "# EVALUATIONS AND AFFECT-BASED JUDGMENTS"
   ]
  },
  {
   "cell_type": "markdown",
   "metadata": {},
   "source": [
    "* Effects of Extraneous Affect on Evaluations\n",
    "* Responses to Affect-Congruent Information\n",
    "* ffects of Brand-Elicited Affect"
   ]
  },
  {
   "cell_type": "markdown",
   "metadata": {},
   "source": [
    "## Effects of Extraneous Affect on Evaluations"
   ]
  },
  {
   "cell_type": "markdown",
   "metadata": {},
   "source": [
    "## Responses to Affect-Congruent Information"
   ]
  },
  {
   "cell_type": "markdown",
   "metadata": {},
   "source": [
    "## ffects of Brand-Elicited Affect"
   ]
  },
  {
   "cell_type": "markdown",
   "metadata": {},
   "source": [
    "# PREFERENCE JUDGMENTS"
   ]
  },
  {
   "cell_type": "markdown",
   "metadata": {},
   "source": [
    "# BEHAVIORAL DECISIONS"
   ]
  },
  {
   "cell_type": "markdown",
   "metadata": {},
   "source": [
    "# FFECTS OF BODILY FEEDBACK ON INFORMATION PROCESSING"
   ]
  },
  {
   "cell_type": "markdown",
   "metadata": {},
   "source": [
    "# CHAMELEON EFFECTS"
   ]
  },
  {
   "cell_type": "markdown",
   "metadata": {},
   "source": [
    "# IMPULSIVENESS"
   ]
  },
  {
   "cell_type": "markdown",
   "metadata": {},
   "source": [
    "# GOALS AND MOTIVES"
   ]
  },
  {
   "cell_type": "markdown",
   "metadata": {},
   "source": [
    "# CULTURAL AND SOCIAL INFLUENCES ON REGULATORY FOCUS"
   ]
  },
  {
   "cell_type": "markdown",
   "metadata": {},
   "source": [
    "* Cultural Influences on Goal Accessibility\n",
    "* Effects of Group Salience on Goal Accessibility"
   ]
  },
  {
   "cell_type": "markdown",
   "metadata": {},
   "source": [
    "## Cultural Influences on Goal Accessibility"
   ]
  },
  {
   "cell_type": "markdown",
   "metadata": {},
   "source": [
    "## Effects of Group Salience on Goal Accessibility"
   ]
  },
  {
   "cell_type": "markdown",
   "metadata": {},
   "source": [
    "# EFFECTS OF TERROR MANAGEMENT ON MATERIALISTIC MOTIVES"
   ]
  },
  {
   "cell_type": "markdown",
   "metadata": {},
   "source": [
    "# THE INFLUENCE OF AFFECT ON GOALDIRECTED ACTIVITY"
   ]
  },
  {
   "cell_type": "markdown",
   "metadata": {},
   "source": [
    "# CONCLUDING COMMENT"
   ]
  },
  {
   "cell_type": "markdown",
   "metadata": {},
   "source": [
    "# 참고자료"
   ]
  },
  {
   "cell_type": "markdown",
   "metadata": {},
   "source": [
    "* [1] Handbook of Consumer Psychology - http://www.amazon.com/Handbook-Consumer-Psychology-Marketing/dp/080585603X"
   ]
  }
 ],
 "metadata": {
  "kernelspec": {
   "display_name": "Python 2",
   "language": "python",
   "name": "python2"
  },
  "language_info": {
   "codemirror_mode": {
    "name": "ipython",
    "version": 2
   },
   "file_extension": ".py",
   "mimetype": "text/x-python",
   "name": "python",
   "nbconvert_exporter": "python",
   "pygments_lexer": "ipython2",
   "version": "2.7.3"
  }
 },
 "nbformat": 4,
 "nbformat_minor": 0
}
