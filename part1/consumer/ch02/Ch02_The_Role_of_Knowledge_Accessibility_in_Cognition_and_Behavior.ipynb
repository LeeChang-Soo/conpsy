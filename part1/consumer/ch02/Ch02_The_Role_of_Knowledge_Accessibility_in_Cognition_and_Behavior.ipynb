{
 "cells": [
  {
   "cell_type": "markdown",
   "metadata": {},
   "source": [
    "# 2. The Role of Knowledge Accessibility in Cognition and Behavior: Implications for Consumer Information Processing"
   ]
  },
  {
   "cell_type": "markdown",
   "metadata": {},
   "source": [
    "* 소비자심리 + 온라인 사용자 분석 실습\n",
    "* 김무성"
   ]
  },
  {
   "cell_type": "markdown",
   "metadata": {},
   "source": [
    "# Contents"
   ]
  },
  {
   "cell_type": "markdown",
   "metadata": {},
   "source": [
    "* GENERAL CONSIDERATIONS\n",
    "* TYPES OF KNOWLEDGE REPRESENTATIONS\n",
    "* BASIC PRINCIPLES\n",
    "* DETERMINANTS OF KNOWLEDGE ACCESSIBILITY\n",
    "* EFFECTS OF PRIOR JUDGMENTS ON SUBSEQUENT ONES\n",
    "* THE INFLUENCE OF AWARENESS ON THE IMPACT OF ACCESSIBLE KNOWLEDGE\n",
    "* The Effects of Thought Suppression on Knowledge Accessibility\n",
    "* ATTENTIONAL PROCESSES\n",
    "* THE INTERPRETATION OF AMBIGUOUS INFORMATION\n",
    "* DIMENSIONAL VS. CATEGORY ACCESSIBILITY\n",
    "* ASSIMILATION AND CONTRAST\n",
    "* DESCRIPTIVE VS. EVALUATIVE ENCODING\n",
    "* GOAL-ACTIVATED PRIMING EFFECTS\n",
    "* HIGHER ORDER COMPREHENSION PROCESSES\n",
    "* MEMORY PROCESSES\n",
    "* THE ROLE OF IMPLICIT THEORIES ON RECONSTRUCTIVE MEMORY\n",
    "* INTERFERENCE OF ACCESSIBLE KNOWLEDGE ON MEMORY\n",
    "* INFERENCE AND EVALUATION PROCESSES\n",
    "* BELIEF ESTIMATION\n",
    "* FREQUENCY ESTIMATION\n",
    "* MAGNITUDE ESTIMATES\n",
    "* EVALUATIONS AND AFFECT-BASED JUDGMENTS\n",
    "* PREFERENCE JUDGMENTS\n",
    "* BEHAVIORAL DECISIONS\n",
    "* FFECTS OF BODILY FEEDBACK ON INFORMATION PROCESSING\n",
    "* CHAMELEON EFFECTS\n",
    "* IMPULSIVENESS\n",
    "* GOALS AND MOTIVES\n",
    "* CULTURAL AND SOCIAL INFLUENCES ON REGULATORY FOCUS\n",
    "* EFFECTS OF TERROR MANAGEMENT ON MATERIALISTIC MOTIVES\n",
    "* THE INFLUENCE OF AFFECT ON GOAL-DIRECTED ACTIVITY\n",
    "* CONCLUDING COMMENT"
   ]
  },
  {
   "cell_type": "markdown",
   "metadata": {},
   "source": [
    "# GENERAL CONSIDERATIONS"
   ]
  },
  {
   "cell_type": "markdown",
   "metadata": {},
   "source": [
    "* Stages of Information Processing"
   ]
  },
  {
   "cell_type": "markdown",
   "metadata": {},
   "source": [
    "## Stages of Information Processing"
   ]
  },
  {
   "cell_type": "markdown",
   "metadata": {},
   "source": [
    "# TYPES OF KNOWLEDGE REPRESENTATIONS"
   ]
  },
  {
   "cell_type": "markdown",
   "metadata": {},
   "source": [
    "# BASIC PRINCIPLES"
   ]
  },
  {
   "cell_type": "markdown",
   "metadata": {},
   "source": [
    "# DETERMINANTS OF KNOWLEDGE ACCESSIBILITY"
   ]
  },
  {
   "cell_type": "markdown",
   "metadata": {},
   "source": [
    "* Strength of Association\n",
    "* Recency and Frequency\n",
    "* Amount of Processing"
   ]
  },
  {
   "cell_type": "markdown",
   "metadata": {},
   "source": [
    "## Strength of Association"
   ]
  },
  {
   "cell_type": "markdown",
   "metadata": {},
   "source": [
    "## Recency and Frequency"
   ]
  },
  {
   "cell_type": "markdown",
   "metadata": {},
   "source": [
    "## Amount of Processing"
   ]
  },
  {
   "cell_type": "markdown",
   "metadata": {},
   "source": [
    "# EFFECTS OF PRIOR JUDGMENTS ON SUBSEQUENT ONES"
   ]
  },
  {
   "cell_type": "markdown",
   "metadata": {},
   "source": [
    "# THE INFLUENCE OF AWARENESS ON THE IMPACT OF ACCESSIBLE KNOWLEDGE"
   ]
  },
  {
   "cell_type": "markdown",
   "metadata": {},
   "source": [
    "# The Effects of Thought Suppression on Knowledge Accessibility"
   ]
  },
  {
   "cell_type": "markdown",
   "metadata": {},
   "source": [
    "# ATTENTIONAL PROCESSES"
   ]
  },
  {
   "cell_type": "markdown",
   "metadata": {},
   "source": [
    "* Selective Information Seeking\n",
    "* The Effect of Goals on Selective Attention\n",
    "* The Impact of Affect on Selective Attention\n",
    "* Categorical vs. Piecemeal Information Processing"
   ]
  },
  {
   "cell_type": "markdown",
   "metadata": {},
   "source": [
    "## Selective Information Seeking"
   ]
  },
  {
   "cell_type": "markdown",
   "metadata": {},
   "source": [
    "## The Effect of Goals on Selective Attention"
   ]
  },
  {
   "cell_type": "markdown",
   "metadata": {},
   "source": [
    "## The Impact of Affect on Selective Attention"
   ]
  },
  {
   "cell_type": "markdown",
   "metadata": {},
   "source": [
    "## Categorical vs. Piecemeal Information Processing"
   ]
  },
  {
   "cell_type": "markdown",
   "metadata": {},
   "source": [
    "# THE INTERPRETATION OF AMBIGUOUS INFORMATION"
   ]
  },
  {
   "cell_type": "markdown",
   "metadata": {},
   "source": [
    "# DIMENSIONAL VS. CATEGORY ACCESSIBILITY"
   ]
  },
  {
   "cell_type": "markdown",
   "metadata": {},
   "source": [
    "# ASSIMILATION AND CONTRAST"
   ]
  },
  {
   "cell_type": "markdown",
   "metadata": {},
   "source": [
    "# DESCRIPTIVE VS. EVALUATIVE ENCODING"
   ]
  },
  {
   "cell_type": "markdown",
   "metadata": {},
   "source": [
    "# GOAL-ACTIVATED PRIMING EFFECTS"
   ]
  },
  {
   "cell_type": "markdown",
   "metadata": {},
   "source": [
    "# HIGHER ORDER COMPREHENSION PROCESSES"
   ]
  },
  {
   "cell_type": "markdown",
   "metadata": {},
   "source": [
    "* Chronic Accessibility of Knowledge\n",
    "* Framing Effects"
   ]
  },
  {
   "cell_type": "markdown",
   "metadata": {},
   "source": [
    "## Chronic Accessibility of Knowledge"
   ]
  },
  {
   "cell_type": "markdown",
   "metadata": {},
   "source": [
    "## Framing Effects"
   ]
  },
  {
   "cell_type": "markdown",
   "metadata": {},
   "source": [
    "# MEMORY PROCESSES"
   ]
  },
  {
   "cell_type": "markdown",
   "metadata": {},
   "source": [
    "# THE ROLE OF IMPLICIT THEORIES ON RECONSTRUCTIVE MEMORY"
   ]
  },
  {
   "cell_type": "markdown",
   "metadata": {},
   "source": [
    "# INTERFERENCE OF ACCESSIBLE KNOWLEDGE ON MEMORY"
   ]
  },
  {
   "cell_type": "markdown",
   "metadata": {},
   "source": [
    "# INFERENCE AND EVALUATION PROCESSES"
   ]
  },
  {
   "cell_type": "markdown",
   "metadata": {},
   "source": [
    "# BELIEF ESTIMATION"
   ]
  },
  {
   "cell_type": "markdown",
   "metadata": {},
   "source": [
    "# FREQUENCY ESTIMATION"
   ]
  },
  {
   "cell_type": "markdown",
   "metadata": {},
   "source": [
    "* Perceptions of Social Reality\n",
    "* Additional Considerations"
   ]
  },
  {
   "cell_type": "markdown",
   "metadata": {},
   "source": [
    "## Perceptions of Social Reality"
   ]
  },
  {
   "cell_type": "markdown",
   "metadata": {},
   "source": [
    "## Additional Considerations"
   ]
  },
  {
   "cell_type": "markdown",
   "metadata": {},
   "source": [
    "# MAGNITUDE ESTIMATES"
   ]
  },
  {
   "cell_type": "markdown",
   "metadata": {},
   "source": [
    "* Estimates in Physical Stimulus Units\n",
    "* Subjective Magnitude Estimates"
   ]
  },
  {
   "cell_type": "markdown",
   "metadata": {},
   "source": [
    "## Estimates in Physical Stimulus Units"
   ]
  },
  {
   "cell_type": "markdown",
   "metadata": {},
   "source": [
    "## Subjective Magnitude Estimates"
   ]
  },
  {
   "cell_type": "markdown",
   "metadata": {},
   "source": [
    "# EVALUATIONS AND AFFECT-BASED JUDGMENTS"
   ]
  },
  {
   "cell_type": "markdown",
   "metadata": {},
   "source": [
    "* Effects of Extraneous Affect on Evaluations\n",
    "* Responses to Affect-Congruent Information\n",
    "* ffects of Brand-Elicited Affect"
   ]
  },
  {
   "cell_type": "markdown",
   "metadata": {},
   "source": [
    "## Effects of Extraneous Affect on Evaluations"
   ]
  },
  {
   "cell_type": "markdown",
   "metadata": {},
   "source": [
    "## Responses to Affect-Congruent Information"
   ]
  },
  {
   "cell_type": "markdown",
   "metadata": {},
   "source": [
    "## ffects of Brand-Elicited Affect"
   ]
  },
  {
   "cell_type": "markdown",
   "metadata": {},
   "source": [
    "# PREFERENCE JUDGMENTS"
   ]
  },
  {
   "cell_type": "markdown",
   "metadata": {},
   "source": [
    "# BEHAVIORAL DECISIONS"
   ]
  },
  {
   "cell_type": "markdown",
   "metadata": {},
   "source": [
    "# FFECTS OF BODILY FEEDBACK ON INFORMATION PROCESSING"
   ]
  },
  {
   "cell_type": "markdown",
   "metadata": {},
   "source": [
    "# CHAMELEON EFFECTS"
   ]
  },
  {
   "cell_type": "markdown",
   "metadata": {},
   "source": [
    "# IMPULSIVENESS"
   ]
  },
  {
   "cell_type": "markdown",
   "metadata": {},
   "source": [
    "# GOALS AND MOTIVES"
   ]
  },
  {
   "cell_type": "markdown",
   "metadata": {},
   "source": [
    "# CULTURAL AND SOCIAL INFLUENCES ON REGULATORY FOCUS"
   ]
  },
  {
   "cell_type": "markdown",
   "metadata": {},
   "source": [
    "* Cultural Influences on Goal Accessibility\n",
    "* Effects of Group Salience on Goal Accessibility"
   ]
  },
  {
   "cell_type": "markdown",
   "metadata": {},
   "source": [
    "## Cultural Influences on Goal Accessibility"
   ]
  },
  {
   "cell_type": "markdown",
   "metadata": {},
   "source": [
    "## Effects of Group Salience on Goal Accessibility"
   ]
  },
  {
   "cell_type": "markdown",
   "metadata": {},
   "source": [
    "# EFFECTS OF TERROR MANAGEMENT ON MATERIALISTIC MOTIVES"
   ]
  },
  {
   "cell_type": "markdown",
   "metadata": {},
   "source": [
    "# THE INFLUENCE OF AFFECT ON GOALDIRECTED ACTIVITY"
   ]
  },
  {
   "cell_type": "markdown",
   "metadata": {},
   "source": [
    "# CONCLUDING COMMENT"
   ]
  },
  {
   "cell_type": "markdown",
   "metadata": {},
   "source": [
    "# 참고자료"
   ]
  },
  {
   "cell_type": "markdown",
   "metadata": {},
   "source": [
    "* [1] Handbook of Consumer Psychology - http://www.amazon.com/Handbook-Consumer-Psychology-Marketing/dp/080585603X"
   ]
  }
 ],
 "metadata": {
  "kernelspec": {
   "display_name": "Python 2",
   "language": "python",
   "name": "python2"
  },
  "language_info": {
   "codemirror_mode": {
    "name": "ipython",
    "version": 2
   },
   "file_extension": ".py",
   "mimetype": "text/x-python",
   "name": "python",
   "nbconvert_exporter": "python",
   "pygments_lexer": "ipython2",
   "version": "2.7.6"
  }
 },
 "nbformat": 4,
 "nbformat_minor": 0
}
