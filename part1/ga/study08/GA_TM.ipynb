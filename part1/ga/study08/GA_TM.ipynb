{
 "cells": [
  {
   "cell_type": "markdown",
   "metadata": {},
   "source": [
    "# 구글 태그 매니저"
   ]
  },
  {
   "cell_type": "markdown",
   "metadata": {},
   "source": [
    "1. 자기만의 웹페이지를 만든다.\n",
    "    - [Jekyll,Git 을 몰라도 무료 Github Pages 즐기기](http://ilmol.com/2015/01/Jekyll,Git%20%EC%9D%84%20%EB%AA%B0%EB%9D%BC%EB%8F%84%20%EB%AC%B4%EB%A3%8C%20Github%20Pages%20%EC%A6%90%EA%B8%B0%EA%B8%B0.html)\n",
    "2. google analytics 계정을 만든다.\n",
    "3. google tag manager로 태그를 만들어 심는다."
   ]
  },
  {
   "cell_type": "markdown",
   "metadata": {},
   "source": [
    "<img src=\"figures/capu1.1.1.png\" width=600 />\n",
    "<img src=\"figures/capu1.1.2.png\" width=600 />\n",
    "<img src=\"figures/capu1.1.3.png\" width=600 />\n",
    "<img src=\"figures/capu1.1.4.png\" width=600 />\n",
    "<img src=\"figures/capu1.1.5.png\" width=600 />\n",
    "<img src=\"figures/capu1.1.6.png\" width=600 />\n",
    "<img src=\"figures/capu1.1.7.png\" width=600 />\n",
    "<img src=\"figures/capu1.1.8.png\" width=600 />"
   ]
  },
  {
   "cell_type": "markdown",
   "metadata": {},
   "source": [
    "<img src=\"figures/capu1.2.1.png\" width=600 />"
   ]
  },
  {
   "cell_type": "markdown",
   "metadata": {},
   "source": [
    "<img src=\"figures/capu1.3.1.png\" width=600 />\n",
    "<img src=\"figures/capu1.3.2.png\" width=600 />\n",
    "<img src=\"figures/capu1.3.3.png\" width=600 />\n",
    "<img src=\"figures/capu1.3.4.png\" width=600 />\n",
    "<img src=\"figures/capu1.3.5.png\" width=600 />\n",
    "<img src=\"figures/capu1.3.6.png\" width=600 />\n",
    "<img src=\"figures/capu1.3.7.png\" width=600 />\n",
    "<img src=\"figures/capu1.3.8.png\" width=600 />\n",
    "<img src=\"figures/capu1.3.9.png\" width=600 />\n",
    "<img src=\"figures/capu1.3.10.png\" width=600 />\n",
    "<img src=\"figures/capu1.3.11.png\" width=600 />\n",
    "<img src=\"figures/capu1.3.12.png\" width=600 />\n",
    "<img src=\"figures/capu1.3.13.png\" width=600 />\n",
    "<img src=\"figures/capu1.3.14.png\" width=600 />\n",
    "<img src=\"figures/capu1.3.15.png\" width=600 />\n",
    "<img src=\"figures/capu1.3.16.png\" width=600 />\n",
    "<img src=\"figures/capu1.3.17.png\" width=600 />\n",
    "<img src=\"figures/capu1.3.18.png\" width=600 />\n",
    "<img src=\"figures/capu1.3.19.png\" width=600 />\n",
    "<img src=\"figures/capu1.3.20.png\" width=600 />\n",
    "<img src=\"figures/capu1.3.21.png\" width=600 />\n",
    "<img src=\"figures/capu1.3.22.png\" width=600 />\n",
    "<img src=\"figures/capu1.3.23.png\" width=600 />\n",
    "<img src=\"figures/capu1.3.24.png\" width=600 />\n",
    "<img src=\"figures/capu1.3.25.png\" width=600 />\n",
    "<img src=\"figures/capu1.3.26.png\" width=600 />\n",
    "<img src=\"figures/capu1.3.27.png\" width=600 />"
   ]
  },
  {
   "cell_type": "markdown",
   "metadata": {},
   "source": [
    "<img src=\"figures/capu2.1.1.png\" width=600 />\n",
    "<img src=\"figures/capu2.1.2.png\" width=600 />\n",
    "<img src=\"figures/capu2.1.3.png\" width=600 />\n",
    "<img src=\"figures/capu2.1.4.png\" width=600 />\n",
    "<img src=\"figures/capu2.1.5.png\" width=600 />\n",
    "<img src=\"figures/capu2.1.6.png\" width=600 />\n",
    "<img src=\"figures/capu2.1.7.png\" width=600 />\n",
    "<img src=\"figures/capu2.1.8.png\" width=600 />\n",
    "<img src=\"figures/capu2.1.9.png\" width=600 />\n",
    "<img src=\"figures/capu2.1.10.png\" width=600 />\n",
    "<img src=\"figures/capu2.1.11.png\" width=600 />\n",
    "<img src=\"figures/capu2.1.12.png\" width=600 />\n",
    "<img src=\"figures/capu2.1.13.png\" width=600 />\n",
    "<img src=\"figures/capu2.1.14.png\" width=600 />\n",
    "<img src=\"figures/capu2.1.15.png\" width=600 />\n",
    "<img src=\"figures/capu2.1.16.png\" width=600 />\n",
    "<img src=\"figures/capu2.1.17.png\" width=600 />\n",
    "<img src=\"figures/capu2.1.18.png\" width=600 />\n",
    "<img src=\"figures/capu2.1.19.png\" width=600 />\n",
    "<img src=\"figures/capu2.1.20.png\" width=600 />\n",
    "<img src=\"figures/capu2.1.21.png\" width=600 />\n",
    "<img src=\"figures/capu2.1.22.png\" width=600 />\n",
    "<img src=\"figures/capu2.1.23.png\" width=600 />\n",
    "<img src=\"figures/capu2.1.24.png\" width=600 />\n",
    "<img src=\"figures/capu2.1.25.png\" width=600 />\n",
    "<img src=\"figures/capu2.1.26.png\" width=600 />\n",
    "<img src=\"figures/capu2.1.27.png\" width=600 />\n",
    "<img src=\"figures/capu2.1.28.png\" width=600 />\n",
    "<img src=\"figures/capu2.1.29.png\" width=600 />\n",
    "<img src=\"figures/capu2.1.30.png\" width=600 />\n",
    "<img src=\"figures/capu2.1.31.png\" width=600 />\n",
    "<img src=\"figures/capu2.1.32.png\" width=600 />\n",
    "<img src=\"figures/capu2.1.33.png\" width=600 />\n",
    "<img src=\"figures/capu2.1.34.png\" width=600 />\n",
    "<img src=\"figures/capu2.1.35.png\" width=600 />\n",
    "<img src=\"figures/capu2.1.36.png\" width=600 />\n",
    "<img src=\"figures/capu2.1.37.png\" width=600 />\n",
    "<img src=\"figures/capu2.1.38.png\" width=600 />\n",
    "<img src=\"figures/capu2.1.39.png\" width=600 />\n",
    "<img src=\"figures/capu2.1.40.png\" width=600 />\n",
    "<img src=\"figures/capu2.1.41.png\" width=600 />\n",
    "<img src=\"figures/capu2.1.42.png\" width=600 />\n",
    "<img src=\"figures/capu2.1.43.png\" width=600 />\n",
    "<img src=\"figures/capu2.1.44.png\" width=600 />\n",
    "<img src=\"figures/capu2.1.45.png\" width=600 />\n",
    "<img src=\"figures/capu2.1.46.png\" width=600 />\n",
    "<img src=\"figures/capu2.1.47.png\" width=600 />\n",
    "<img src=\"figures/capu2.1.50.png\" width=600 />\n",
    "<img src=\"figures/capu2.1.51.png\" width=600 />\n",
    "<img src=\"figures/capu2.1.52.png\" width=600 />\n",
    "<img src=\"figures/capu2.1.53.png\" width=600 />\n",
    "<img src=\"figures/capu2.1.54.png\" width=600 />\n",
    "<img src=\"figures/capu2.1.55.png\" width=600 />\n",
    "<img src=\"figures/capu2.1.56.png\" width=600 />\n",
    "<img src=\"figures/capu2.1.57.png\" width=600 />"
   ]
  },
  {
   "cell_type": "code",
   "execution_count": null,
   "metadata": {
    "collapsed": true
   },
   "outputs": [],
   "source": []
  }
 ],
 "metadata": {
  "kernelspec": {
   "display_name": "Python 2",
   "language": "python",
   "name": "python2"
  },
  "language_info": {
   "codemirror_mode": {
    "name": "ipython",
    "version": 2
   },
   "file_extension": ".py",
   "mimetype": "text/x-python",
   "name": "python",
   "nbconvert_exporter": "python",
   "pygments_lexer": "ipython2",
   "version": "2.7.3"
  }
 },
 "nbformat": 4,
 "nbformat_minor": 0
}
