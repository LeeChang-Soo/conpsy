{
 "cells": [
  {
   "cell_type": "markdown",
   "metadata": {},
   "source": [
    "# Github 페이지를 이용한 GA 실습"
   ]
  },
  {
   "cell_type": "markdown",
   "metadata": {},
   "source": [
    "* 소비자심리 + 온라인 사용자 분석 실습 : 파트 1\n",
    "* 김무성"
   ]
  },
  {
   "cell_type": "markdown",
   "metadata": {},
   "source": [
    "# 차례"
   ]
  },
  {
   "cell_type": "markdown",
   "metadata": {},
   "source": [
    "* Git\n",
    "* Github\n",
    "* Github Page\n",
    "* GA 가입 & 시작"
   ]
  },
  {
   "cell_type": "markdown",
   "metadata": {},
   "source": [
    "# Git"
   ]
  },
  {
   "cell_type": "markdown",
   "metadata": {},
   "source": [
    "* 누구나 쉽게 이해할 수 있는 Git 입문 - http://backlogtool.com/git-guide/kr/intro/intro1_1.html"
   ]
  },
  {
   "cell_type": "markdown",
   "metadata": {},
   "source": [
    "# Github"
   ]
  },
  {
   "cell_type": "markdown",
   "metadata": {},
   "source": [
    "* Github 실습교육 - http://www.slideshare.net/flyskykr/github-46014813"
   ]
  },
  {
   "cell_type": "markdown",
   "metadata": {},
   "source": [
    "# Github Page"
   ]
  },
  {
   "cell_type": "markdown",
   "metadata": {},
   "source": [
    "* GitHub의 페이지 기능 이용하기 - http://dogfeet.github.io/articles/2012/github-pages.html\n",
    "* Github 를 이용한 개인 홈페이지 만들기 - http://leechwin.tistory.com/20"
   ]
  },
  {
   "cell_type": "markdown",
   "metadata": {},
   "source": [
    "# GA 가입 & 시작"
   ]
  },
  {
   "cell_type": "markdown",
   "metadata": {},
   "source": [
    "* 구글 아널리틱스를 이용하여 블로그를 완벽하게 분석하는 방법 / Google Analytics - http://www.erzsamatory.net/42\n",
    "* Google Analytics 구글 애널리틱스 웹로그 분석 설치, 사용방법 - http://userbook.net/google_analytics/\n",
    "* Google Analytics 시작하기 part 1 - https://medium.com/@generalapps/google-analytics-%EC%8B%9C%EC%9E%91%ED%95%98%EA%B8%B0-part-1-a2630308d4f9\n",
    "* Google Analytics 시작하기 part 2 - https://medium.com/@generalapps/google-analytics-%EC%8B%9C%EC%9E%91%ED%95%98%EA%B8%B0-part-2-13b8107f6640\n",
    "* Google Analytics 시작하기 part 3 - https://medium.com/@generalapps/google-analytics-%EC%8B%9C%EC%9E%91%ED%95%98%EA%B8%B0-part-3-552ba973ad20\n",
    "* Google Analytics 시작하기 part 4 - https://medium.com/@generalapps/google-analytics-%EC%8B%9C%EC%9E%91%ED%95%98%EA%B8%B0-part-4-a31dc33794dd\n",
    "* Google Analytics 시작하기 part 5 - https://medium.com/@generalapps/starting-google-analytics-part-5-711f920702f7"
   ]
  }
 ],
 "metadata": {
  "kernelspec": {
   "display_name": "Python 2",
   "language": "python",
   "name": "python2"
  },
  "language_info": {
   "codemirror_mode": {
    "name": "ipython",
    "version": 2
   },
   "file_extension": ".py",
   "mimetype": "text/x-python",
   "name": "python",
   "nbconvert_exporter": "python",
   "pygments_lexer": "ipython2",
   "version": "2.7.3"
  }
 },
 "nbformat": 4,
 "nbformat_minor": 0
}
