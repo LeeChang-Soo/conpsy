{
 "cells": [
  {
   "cell_type": "markdown",
   "metadata": {},
   "source": [
    "# 1. Introduction"
   ]
  },
  {
   "cell_type": "markdown",
   "metadata": {},
   "source": [
    "* 싸이지먼트 / 소비자On : 파트 4 - 베이지안 마케팅[1]\n",
    "* 김무성"
   ]
  },
  {
   "cell_type": "markdown",
   "metadata": {},
   "source": [
    "# Contents\n",
    "* 1.1 A Basic Paradigm for Marketing Problems \n",
    "* 1.2 A Simple Example \n",
    "* 1.3 Benefits and Costs of the Bayesian Approach \n",
    "* 1.4 An Overview of Methodological Material and Case Studies \n",
    "* 1.5 Computing and This Book "
   ]
  },
  {
   "cell_type": "markdown",
   "metadata": {},
   "source": [
    "We provide a treatment of Bayesian methods that emphasizes the unique aspects of their application to marketing problems."
   ]
  },
  {
   "cell_type": "markdown",
   "metadata": {},
   "source": [
    "* Bayesian methods in marketing\n",
    "    - The past ten years have seen a dramatic increase in the use of Bayesian methods in marketing. \n",
    "    - Bayesian analyses have been conducted over a wide range of marketing problems from new product introduction to pricing, and with a wide variety of data sources. \n",
    "* Markov chain Monte Carlo (MCMC)\n",
    "    - Simulation methods, in particular Markov chain Monte Carlo (MCMC) methods, have freed us from computational constraints for a very wide class of models.\n",
    "* Bayesian hierarchical models\n",
    "    - MCMC methods are ideally suited for models built from a sequence of conditional distributions, often called hierarchical models.\n",
    "    - Bayesian hierarchical models offer tremendous flexibility and modularity and are particularly useful for marketing problems.\n",
    "    - Hierarchical models match closely the various levels at which marketing decisions are made – from individual consumers to the marketplace."
   ]
  },
  {
   "cell_type": "markdown",
   "metadata": {},
   "source": [
    "# 1.1 A Basic Paradigm for Marketing Problems"
   ]
  },
  {
   "cell_type": "markdown",
   "metadata": {},
   "source": [
    "### Our goal"
   ]
  },
  {
   "cell_type": "markdown",
   "metadata": {},
   "source": [
    "* Ultimately, marketing data results from customers taking actions in a particular context and facing a particular environment. \n",
    "    - The marketing manager can influence some aspects of this environment. \n",
    "* Our goal is to provide models of these decision processes and then make optimal decisions conditional on these models. \n",
    "    - Fundamental to this prospective is that customers are different in their needs and wants for marketplace offerings, thus expanding the set of actions that can be taken."
   ]
  },
  {
   "cell_type": "markdown",
   "metadata": {},
   "source": [
    "### differences between customers\n",
    "* Once the researcher acknowledges the existence of differences between customers, the modeling task expands to include a model of these differences. \n",
    "* Throughout this book, we will take a stand on customer differences by modeling differences via a probability distribution.\n",
    "* The primary difference is that we regard the customer-level parameters not as nuisance parameters but as the goal of inference.\n",
    "    - Inferences about customer differences are required for any marketing action, from strategic decisions associated with formulating offerings to tactical decisions of customizing prices. \n",
    "    - Individuals who are most likely to respond to these variables are those who find highest value in the offering’s attributes and those who are most price-sensitive, neither of whom are well described by parameters such as the mean of the random coefficients distribution."
   ]
  },
  {
   "cell_type": "markdown",
   "metadata": {},
   "source": [
    "### Statistical modeling of marketing problems consists of three components:"
   ]
  },
  {
   "cell_type": "markdown",
   "metadata": {},
   "source": [
    "* (i) within-unit behavior \n",
    "* (ii) across-unit behavior \n",
    "* (iii) action."
   ]
  },
  {
   "cell_type": "markdown",
   "metadata": {},
   "source": [
    "#### Unit"
   ]
  },
  {
   "cell_type": "markdown",
   "metadata": {},
   "source": [
    "* ‘Unit’ refers the particular level of aggregation dictated by the problem and data availability. \n",
    "    - In many instances, the unit is the consumer.\n",
    "    - However, it is possible to consider both less and more aggregate levels of analyses. \n",
    "    - For example, \n",
    "        - one might consider a particular consumption occasion or survey instance as the ‘unit’ and \n",
    "            - consider changes in preferences across occasions or over time as part of the model \n",
    "* In marketing practice, decisions are often made at a much higher level of aggregation such as the ‘key account’ or sales territory. \n",
    "* In all cases, we consider the ‘unit’ as the lowest level of aggregation considered explicitly in the model."
   ]
  },
  {
   "cell_type": "markdown",
   "metadata": {},
   "source": [
    "#### (i) within-unit behavior"
   ]
  },
  {
   "cell_type": "markdown",
   "metadata": {},
   "source": [
    "* The first component of the problem is the conditional likelihood for the unit-level behavior. \n",
    "* We condition on unit-specific parameters which are regarded as the sole source of between-unit differences."
   ]
  },
  {
   "cell_type": "markdown",
   "metadata": {},
   "source": [
    "#### (ii) across-unit behavior"
   ]
  },
  {
   "cell_type": "markdown",
   "metadata": {},
   "source": [
    "* The second component is a distribution of these unit-specific parameters over the population of units."
   ]
  },
  {
   "cell_type": "markdown",
   "metadata": {},
   "source": [
    "#### (iii) action"
   ]
  },
  {
   "cell_type": "markdown",
   "metadata": {},
   "source": [
    "* Finally, the decision problem is the ultimate goal of the modeling exercise. \n",
    "* We typically postulate a profit function and ask what is the optimal action conditional on the model and the information in the data."
   ]
  },
  {
   "cell_type": "markdown",
   "metadata": {},
   "source": [
    "# 1.2 A Simple Example"
   ]
  },
  {
   "cell_type": "markdown",
   "metadata": {},
   "source": [
    "* As an example of the components outlined in Section 1.1, consider the case of consumers observed making choices between different products.\n",
    "    - Products are characterized by some vector of choice attribute variables which might include product characteristics, prices and advertising.\n",
    "    - Consumers could be observed to make choices either in the marketplace or in a survey/experimental setting.\n",
    "    - We want to predict how consumers will react to a change in the marketing mix variables or in the product characteristics.\n",
    "    - Our ultimate goal is to design products or vary the marketing mix so as to optimize profitability."
   ]
  },
  {
   "cell_type": "markdown",
   "metadata": {},
   "source": [
    "### within-unit"
   ]
  },
  {
   "cell_type": "markdown",
   "metadata": {},
   "source": [
    "We start with the ‘within-unit’ model of choice conditional on the observed attributes for each of the choice alternatives. "
   ]
  },
  {
   "cell_type": "markdown",
   "metadata": {},
   "source": [
    "#### multinomial logit model"
   ]
  },
  {
   "cell_type": "markdown",
   "metadata": {},
   "source": [
    "A standard model for this situation is the multinomial logit model :"
   ]
  },
  {
   "cell_type": "markdown",
   "metadata": {},
   "source": [
    "<img src=\"figures/cap1.1.png\" width=600 />"
   ]
  },
  {
   "cell_type": "markdown",
   "metadata": {},
   "source": [
    "#### distribution of coefficient vectors across the populations of consumers"
   ]
  },
  {
   "cell_type": "markdown",
   "metadata": {},
   "source": [
    "* We have only a small amount information about each consumer. \n",
    "* To allow for the possibility that each consumer has different preferences for attributes, we index the β vectors by c for consumer c.\n",
    "* Given the small amount of information for each consumer, it is impractical to estimate separate and independent logits for each of the C consumers.\n",
    "* For this reason, it is useful to think about a distribution of coefficient vectors across the populations of consumers."
   ]
  },
  {
   "cell_type": "markdown",
   "metadata": {},
   "source": [
    "One simple model would be to assume that the βs are distributed normally over consumers:"
   ]
  },
  {
   "cell_type": "markdown",
   "metadata": {},
   "source": [
    "<img src=\"figures/cap1.2.png\" width=600 />"
   ]
  },
  {
   "cell_type": "markdown",
   "metadata": {},
   "source": [
    "### market share"
   ]
  },
  {
   "cell_type": "markdown",
   "metadata": {},
   "source": [
    "* One common use of logit models is to compute the implication of changes in marketing actions for aggregate market shares. \n",
    "* If we want to evaluate the effect on market share for a change in x for alternative i, then we need to integrate over the distribution in (1.2.2). "
   ]
  },
  {
   "cell_type": "markdown",
   "metadata": {},
   "source": [
    "For a market with a large number of consumers, we might view the expected probability as market share and compute the derivative of market share with respect to an element of x:"
   ]
  },
  {
   "cell_type": "markdown",
   "metadata": {},
   "source": [
    "<img src=\"figures/cap1.3.png\" width=600 />\n",
    "Here φ(·) is the multivariate normal density."
   ]
  },
  {
   "cell_type": "markdown",
   "metadata": {},
   "source": [
    "### common parameters + individual"
   ]
  },
  {
   "cell_type": "markdown",
   "metadata": {},
   "source": [
    "* The derivatives given in (1.2.3) are necessary to evaluate uniform marketing actions\n",
    "    - such as changing price in a situation in which all consumers face the same price. \n",
    "* However, many marketing actions are aimed at a subset of customers or, in some cases, individual customers.\n",
    "    - In this situation, it is desirable to have a way of estimating not only the common parameters that drive the distribution of βs across consumers but also the individual βs."
   ]
  },
  {
   "cell_type": "markdown",
   "metadata": {},
   "source": [
    "Thus, our objective is to provide a way of inferring about {β_1, . . . , β_C } as well as μ, V_β. We also want to use our estimates to derive optimal marketing policies. This will mean to maximize expected profits over the range of possible marketing actions:"
   ]
  },
  {
   "cell_type": "markdown",
   "metadata": {},
   "source": [
    "<img src=\"figures/cap1.4.png\" width=600 />\n",
    "􏰌Omega represents the information available about the distribution of the outcomes resulting from marketing actions. "
   ]
  },
  {
   "cell_type": "markdown",
   "metadata": {},
   "source": [
    "### Our goal"
   ]
  },
  {
   "cell_type": "markdown",
   "metadata": {},
   "source": [
    "* Clearly, information about the distribution of choice given the model parameters as well as information about the parameters will be relevant to selecting the optimal action. \n",
    "* Our goal, then, is to adopt a system of inference and decision-making that will make it possible to solve (1.2.4). \n",
    "* In addition, we will require that there be practical ways of implementing this system of inference. \n",
    "* By ‘practical’ we mean computable for problems of the size which practitioners in marketing encounter."
   ]
  },
  {
   "cell_type": "markdown",
   "metadata": {},
   "source": [
    "# 1.3 Benefits and Costs of the Bayesian Approach"
   ]
  },
  {
   "cell_type": "markdown",
   "metadata": {},
   "source": [
    "# 1.4 An Overview of Methodological Material and Case Studies"
   ]
  },
  {
   "cell_type": "markdown",
   "metadata": {},
   "source": [
    "# 1.5 Computing and This Book"
   ]
  },
  {
   "cell_type": "markdown",
   "metadata": {},
   "source": [
    "# 참고자료"
   ]
  },
  {
   "cell_type": "markdown",
   "metadata": {
    "collapsed": true
   },
   "source": [
    "* [1] Bayesian Statistics and Marketing - http://www.amazon.com/Bayesian-Statistics-Marketing-Peter-Rossi/dp/0470863676"
   ]
  }
 ],
 "metadata": {
  "kernelspec": {
   "display_name": "Python 2",
   "language": "python",
   "name": "python2"
  },
  "language_info": {
   "codemirror_mode": {
    "name": "ipython",
    "version": 2
   },
   "file_extension": ".py",
   "mimetype": "text/x-python",
   "name": "python",
   "nbconvert_exporter": "python",
   "pygments_lexer": "ipython2",
   "version": "2.7.10"
  }
 },
 "nbformat": 4,
 "nbformat_minor": 0
}
