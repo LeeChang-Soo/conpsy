{
 "cells": [
  {
   "cell_type": "markdown",
   "metadata": {},
   "source": [
    "# 실습 환경 구축(Docker 기반) & Cartridge/Mezzanine 설치 & 소개"
   ]
  },
  {
   "cell_type": "markdown",
   "metadata": {},
   "source": [
    "* 싸이지먼트 / 소비자On : 파트2 - Django 기반 쇼핑몰 만들기 실습 관련\n",
    "* 김무성"
   ]
  },
  {
   "cell_type": "markdown",
   "metadata": {},
   "source": [
    "# Conents"
   ]
  },
  {
   "cell_type": "markdown",
   "metadata": {},
   "source": [
    "* docker toolbox 설치\n",
    "* docker기반 실습 환경 셋팅\n",
    "* cartridge / mezzanine 설치 & 실행\n",
    "* 팁 : 프로젝트 종료, docker 빠져나오기, 다시 프로젝트 실행시키기 "
   ]
  },
  {
   "cell_type": "markdown",
   "metadata": {
    "collapsed": true
   },
   "source": [
    "# docker toolbox 설치 [5]"
   ]
  },
  {
   "cell_type": "markdown",
   "metadata": {
    "collapsed": true
   },
   "source": [
    "* download - https://www.docker.com/toolbox"
   ]
  },
  {
   "cell_type": "markdown",
   "metadata": {},
   "source": [
    "<img src=\"figures/cap0.png\" width=600 />"
   ]
  },
  {
   "cell_type": "markdown",
   "metadata": {
    "collapsed": true
   },
   "source": [
    "#### 다운받은 뒤에, Docker Quickstart Termainal 실행"
   ]
  },
  {
   "cell_type": "markdown",
   "metadata": {},
   "source": [
    "<img src=\"figures/cap0.1.png\" width=600 />"
   ]
  },
  {
   "cell_type": "markdown",
   "metadata": {},
   "source": [
    "<img src=\"figures/cap0.2.png\" width=600 />"
   ]
  },
  {
   "cell_type": "markdown",
   "metadata": {},
   "source": [
    "* 실행시, 독커툴박스의 아이피 정보도 뜬다. 고래 밑에. 저 아이피를 잘 기억해두자. \n",
    "    -  이 화면상으론 192.168.99.100"
   ]
  },
  {
   "cell_type": "markdown",
   "metadata": {},
   "source": [
    "# docker기반 실습 환경 셋팅 [6,7,8]"
   ]
  },
  {
   "cell_type": "markdown",
   "metadata": {},
   "source": [
    "#### Docker Image Pulling"
   ]
  },
  {
   "cell_type": "markdown",
   "metadata": {},
   "source": [
    "* 스터디 실습을 위해 우분투와 파이썬, 그리고 카트리지/메자닌을 구동하기 위한 몇가지 간단한 설정이 적용된 이미지를 빌드했음. [8]\n",
    "    - https://hub.docker.com/r/mooithub/shop-docker/\n",
    "    - 다음의 명령을 독커 터미널에서 입력"
   ]
  },
  {
   "cell_type": "code",
   "execution_count": null,
   "metadata": {
    "collapsed": true
   },
   "outputs": [],
   "source": [
    "docker pull mooithub/shop-docker"
   ]
  },
  {
   "cell_type": "markdown",
   "metadata": {},
   "source": [
    "<img src=\"figures/cap1.png\" width=600 />"
   ]
  },
  {
   "cell_type": "markdown",
   "metadata": {},
   "source": [
    "#### 실습을 위한 컨테이너 실행"
   ]
  },
  {
   "cell_type": "markdown",
   "metadata": {},
   "source": [
    "* mooithub/shop-docker 이미지가 설치되었을 것이다.\n",
    "* 이 위에 돌아가는 컨테이너를 만들어야 한다(최초 실행하면 저절로 만들어진다)\n",
    "* 아래의 명령어를 그대로 치자. hello_shop이라는 별명으로 생성하고, 외부 8000번 포트로 내부 8000번 포트를 접근가능하게 만든다는 의미다. "
   ]
  },
  {
   "cell_type": "code",
   "execution_count": null,
   "metadata": {
    "collapsed": true
   },
   "outputs": [],
   "source": [
    "docker run -it --name hello_shop -d -p 8000:8000 mooithub/shop-docker:latest"
   ]
  },
  {
   "cell_type": "markdown",
   "metadata": {},
   "source": [
    "<img src=\"figures/cap2.png\" width=600 />"
   ]
  },
  {
   "cell_type": "markdown",
   "metadata": {},
   "source": [
    "# cartridge / mezzanine 설치 & 실행 [1, 2, 3, 4]"
   ]
  },
  {
   "cell_type": "markdown",
   "metadata": {},
   "source": [
    "* 장고기반 CMS(컨텐츠 관리툴)인 mezzanine\n",
    "* 그 위에 플러그인으로 올려지는 쇼핑몰 관련 cartridge\n",
    "* 파이썬의 패키지 관리 도구인 pip를 통해서 설치하면 된다. \n",
    "* 기본 순서는 아래처럼 매우 간단하다. (python 웹 프레임워크인 django와 동일하다)"
   ]
  },
  {
   "cell_type": "code",
   "execution_count": null,
   "metadata": {
    "collapsed": true
   },
   "outputs": [],
   "source": [
    "pip install -U cartridge     # cartridge/mezzanine-project 설치\n",
    "mezzanine-project -a cartridge new_cartridge_project   # 현재 경로에 new_cartridge_project 라는 웹 프로젝트 코드 생성\n",
    "cd new_cartridge_project  # 생성된 폴더 안으로 이동\n",
    "python manage.py createdb  # 그 안에 있는 manage.py의 명령어인 createdb를 실행하면, 웹 프로젝트에 필요한 여러가지 정보를 매핑해서 DB를 생성해준다.\n",
    "python manage.py runserver 0.0.0.0:8000   # 간단하게 서버를 구동. 여기선 0.0.0.0:8000이라는 주소:포트 형태로 만든다(기본은 localhost:8000)"
   ]
  },
  {
   "cell_type": "markdown",
   "metadata": {},
   "source": [
    "####  아까 실행시켜서, 돌고 있는 hello_shop으로 들어가자"
   ]
  },
  {
   "cell_type": "code",
   "execution_count": null,
   "metadata": {
    "collapsed": true
   },
   "outputs": [],
   "source": [
    "docker attach hello_shop  # 엔터를 한번 더 쳐준다. # 이제 root 권한을 가진, 격리된 리눅스 시스템 안으로 들어왔다."
   ]
  },
  {
   "cell_type": "markdown",
   "metadata": {},
   "source": [
    "<img src=\"figures/cap3.png\" width=600 />"
   ]
  },
  {
   "cell_type": "markdown",
   "metadata": {},
   "source": [
    "#### cartridge/mezzanine 설치"
   ]
  },
  {
   "cell_type": "code",
   "execution_count": null,
   "metadata": {
    "collapsed": true
   },
   "outputs": [],
   "source": [
    "pip install -U cartridge"
   ]
  },
  {
   "cell_type": "markdown",
   "metadata": {},
   "source": [
    "<img src=\"figures/cap4.png\" width=600 />"
   ]
  },
  {
   "cell_type": "markdown",
   "metadata": {},
   "source": [
    "#### 프로젝트 생성"
   ]
  },
  {
   "cell_type": "code",
   "execution_count": null,
   "metadata": {
    "collapsed": true
   },
   "outputs": [],
   "source": [
    "mezzanine-project -a cartridge new_cartridge_project               # 현재 경로에 new_cartridge_project 라는 웹 프로젝트 코드 생성"
   ]
  },
  {
   "cell_type": "code",
   "execution_count": null,
   "metadata": {
    "collapsed": true
   },
   "outputs": [],
   "source": [
    "ls  # 현재 위치의 파일과 디렉토리가 뭐가 있는지 목록을 보여주는 ls 명령어.\n",
    "     # ls 를 쳐보면 new_cartridge_projec 디렉토리가 생성되어 있다."
   ]
  },
  {
   "cell_type": "markdown",
   "metadata": {},
   "source": [
    "<img src=\"figures/cap5.png\" width=600 />"
   ]
  },
  {
   "cell_type": "code",
   "execution_count": null,
   "metadata": {
    "collapsed": true
   },
   "outputs": [],
   "source": [
    "cd new_cartridge_project     # new_cartridge_projec 디렉토리로 이동하자"
   ]
  },
  {
   "cell_type": "code",
   "execution_count": null,
   "metadata": {
    "collapsed": true
   },
   "outputs": [],
   "source": [
    "ls  # mezzanine-project 명령어로 프로젝트를 생성하면, 미리 만들어주는 코드와 디렉토리가 좀 있다. 자세한 내용은 스터디를 하면서 천천히 알아가보자."
   ]
  },
  {
   "cell_type": "markdown",
   "metadata": {},
   "source": [
    "<img src=\"figures/cap6.png\" width=600 />"
   ]
  },
  {
   "cell_type": "code",
   "execution_count": null,
   "metadata": {
    "collapsed": true
   },
   "outputs": [],
   "source": [
    "ls new_cartridge_project  #  프로젝트 디렉토리 안에, 같은 이름의 디렉토리가 또 생성되어 있다. 그 안에는 뭐가 있나?\n",
    "                                     #  주요 설정파일들이 거기 있다. 해당 파일들에 대한 자세한 내용은 스터디를 하면서 천천히 알아가보자."
   ]
  },
  {
   "cell_type": "markdown",
   "metadata": {},
   "source": [
    "<img src=\"figures/cap7.png\" width=600 />"
   ]
  },
  {
   "cell_type": "markdown",
   "metadata": {},
   "source": [
    "#### SHOP_CURRENCY_LOCALE 값 셋팅"
   ]
  },
  {
   "cell_type": "markdown",
   "metadata": {},
   "source": [
    "* 일단 실행을 시켜보려면, 적어도 SHOP_CURRENCY_LOCALE 값은 설정을 해줘야 하더라\n",
    "* SHOP_CURRENCY_LOCALE = \"ko_KR.UTF-8\" 라고, 이 쇼핑몰 프로젝트는 한국돈을 기본 통화로 쓰겠다고 설정해준다.\n",
    "* new_cartridge_project 디렉토리 안의 (현재 우리는 여기까지는 들어와있다)\n",
    "    - new_cartridge_project 디렉토리 안의\n",
    "    - settings.py 파일을 편집해야 한다. [9]"
   ]
  },
  {
   "cell_type": "code",
   "execution_count": null,
   "metadata": {
    "collapsed": true
   },
   "outputs": [],
   "source": [
    "vi new_cartridge_project/settings.py    # vi/vim 에디터(리눅스 시스템의 기본 문서편집기)로 해당 파일을 연다."
   ]
  },
  {
   "cell_type": "markdown",
   "metadata": {},
   "source": [
    "<img src=\"figures/cap8.png\" width=600 />"
   ]
  },
  {
   "cell_type": "markdown",
   "metadata": {
    "collapsed": true
   },
   "source": [
    "* 파일 열린 모습"
   ]
  },
  {
   "cell_type": "markdown",
   "metadata": {},
   "source": [
    "<img src=\"figures/cap9.png\" width=600 />"
   ]
  },
  {
   "cell_type": "markdown",
   "metadata": {
    "collapsed": true
   },
   "source": [
    "* 파일 내부를 살펴보면(아래방향 화살표 키로 이동하며 된다) \n",
    "* SHOP_CURRENC_LOCALE = \"\" 이라고 빈값이 할당되어 있고, \n",
    "* 주석처리(#) 까지 되어 있다."
   ]
  },
  {
   "cell_type": "markdown",
   "metadata": {},
   "source": [
    "<img src=\"figures/cap10.png\" width=600 />"
   ]
  },
  {
   "cell_type": "markdown",
   "metadata": {},
   "source": [
    "* 아래처럼 주석을 지우고, 값도 바꿔준다.\n",
    "* i 키를 한번 누르면 편집모드가 된다."
   ]
  },
  {
   "cell_type": "code",
   "execution_count": null,
   "metadata": {
    "collapsed": true
   },
   "outputs": [],
   "source": [
    "SHOP_CURRENCY_LOCALE = \"ko_KR.UTF-8\""
   ]
  },
  {
   "cell_type": "markdown",
   "metadata": {},
   "source": [
    "<img src=\"figures/cap11.png\" width=600 />"
   ]
  },
  {
   "cell_type": "markdown",
   "metadata": {
    "collapsed": true
   },
   "source": [
    "* ESC 키 누르면 편집모드에서 빠져나온다.\n",
    "* : 키를 누르자 (시프트 : )\n",
    "* 화면 하단에 : 기호가 생기고 입력을 받을수 있게 된다.\n",
    "* wq를 입력하고 엔터\n",
    "* 그러면 저장후 종료됨."
   ]
  },
  {
   "cell_type": "markdown",
   "metadata": {},
   "source": [
    "<img src=\"figures/cap12.png\" width=600 />"
   ]
  },
  {
   "cell_type": "markdown",
   "metadata": {},
   "source": [
    "#### 프로젝트 기본 백엔드 셋팅"
   ]
  },
  {
   "cell_type": "code",
   "execution_count": null,
   "metadata": {
    "collapsed": true
   },
   "outputs": [],
   "source": [
    "ls  # 현재 위치를 확인하자. 지금 위치가 manage.py 파일이 있는 디렉토리여야 한다."
   ]
  },
  {
   "cell_type": "code",
   "execution_count": null,
   "metadata": {
    "collapsed": true
   },
   "outputs": [],
   "source": [
    "python manage.py createdb  # manage.py의 명령어인 createdb를 실행하면, 웹 프로젝트에 필요한 여러가지 정보를 매핑해서 DB를 생성해준다."
   ]
  },
  {
   "cell_type": "markdown",
   "metadata": {},
   "source": [
    "<img src=\"figures/cap13.png\" width=600 />"
   ]
  },
  {
   "cell_type": "markdown",
   "metadata": {
    "collapsed": true
   },
   "source": [
    "* 기본 도메인과 포트를 묻는다. 그냥 엔터를 치자"
   ]
  },
  {
   "cell_type": "markdown",
   "metadata": {},
   "source": [
    "<img src=\"figures/cap14.png\" width=600 />"
   ]
  },
  {
   "cell_type": "markdown",
   "metadata": {
    "collapsed": true
   },
   "source": [
    "* 프로젝트 관리자 계정 정보를 생성하려고 이런저런 질문들을 한다.\n",
    "* 현재 root 권한으로 접근하고 있지만\n",
    "* test라는 아이디로 만들자\n",
    "* 이메일은 test@test.com\n",
    "* 비번은 1234\n",
    "* 사실 뭘로 해도 상관없다. "
   ]
  },
  {
   "cell_type": "markdown",
   "metadata": {},
   "source": [
    "<img src=\"figures/cap15.png\" width=600 />"
   ]
  },
  {
   "cell_type": "code",
   "execution_count": null,
   "metadata": {
    "collapsed": true
   },
   "outputs": [],
   "source": [
    "test  # id 입력하고 엔터"
   ]
  },
  {
   "cell_type": "markdown",
   "metadata": {},
   "source": [
    "<img src=\"figures/cap16.png\" width=600 />"
   ]
  },
  {
   "cell_type": "code",
   "execution_count": null,
   "metadata": {
    "collapsed": true
   },
   "outputs": [],
   "source": [
    "test@test.com # 이메일 입력하고 엔터\n",
    "                      # 이어서 비번도 입력해준다."
   ]
  },
  {
   "cell_type": "markdown",
   "metadata": {},
   "source": [
    "* 그 뒤에 데모 페이지를 만들 것인지 묻는다. 만들자. "
   ]
  },
  {
   "cell_type": "code",
   "execution_count": null,
   "metadata": {
    "collapsed": true
   },
   "outputs": [],
   "source": [
    "yes"
   ]
  },
  {
   "cell_type": "markdown",
   "metadata": {},
   "source": [
    "<img src=\"figures/cap17.png\" width=600 />"
   ]
  },
  {
   "cell_type": "markdown",
   "metadata": {},
   "source": [
    "* 지금 우리가 만들고 있는 것은 쇼핑몰 사이트 뼈대다. 그래서 상품 판매 관련한 데모도 생성할 것인지 묻는다. 만들자."
   ]
  },
  {
   "cell_type": "code",
   "execution_count": null,
   "metadata": {
    "collapsed": true
   },
   "outputs": [],
   "source": [
    "yes"
   ]
  },
  {
   "cell_type": "markdown",
   "metadata": {},
   "source": [
    "<img src=\"figures/cap18.png\" width=600 />"
   ]
  },
  {
   "cell_type": "markdown",
   "metadata": {},
   "source": [
    "<img src=\"figures/cap19.png\" width=600 />"
   ]
  },
  {
   "cell_type": "markdown",
   "metadata": {},
   "source": [
    "#### 웹서버 구동"
   ]
  },
  {
   "cell_type": "markdown",
   "metadata": {},
   "source": [
    "* 이제 웹 프로젝트가 만들어졌다.\n",
    "* 웹 서버를 실행시켜야 브라우저를 통해서 웹페이지를 볼 수 있다.\n",
    "* 장고기반이므로, 자체 테스트용 웹 서버를 제공한다\n",
    "* 아래처럼 명령어를 쳐보자 (현재 위치가 manage.py 파일이 있는 디렉토리여야 한다)\n",
    "    - 보통 그냥 python manage.py runserver 라고 해도 뜬다. http://localhost:8000 으로 접속가능하다.\n",
    "    - 혹은 바로 뒤에 주소(ip):포트번호를 인자로 줘서 실행시킨다.\n",
    "    - 그런데 지금은 docker의 컨테이너와 외부 시스템간의 8000 포트를 연결해놓았다. \n",
    "    - 그리고 독커 컨테이너 내부ip는 0.0.0.0:8000으로 설정된 상태다.\n",
    "    - 그래서 다음과 같은 명령어로 실행해야한다. "
   ]
  },
  {
   "cell_type": "code",
   "execution_count": null,
   "metadata": {
    "collapsed": true
   },
   "outputs": [],
   "source": [
    "python manage.py runserver 0.0.0.0:8000"
   ]
  },
  {
   "cell_type": "markdown",
   "metadata": {},
   "source": [
    "<img src=\"figures/cap20.png\" width=600 />"
   ]
  },
  {
   "cell_type": "markdown",
   "metadata": {},
   "source": [
    "#### 성공"
   ]
  },
  {
   "cell_type": "markdown",
   "metadata": {},
   "source": [
    "<img src=\"figures/cap21.png\" width=600 />"
   ]
  },
  {
   "cell_type": "markdown",
   "metadata": {},
   "source": [
    "#### 브라우저로 웹 사이트 접근"
   ]
  },
  {
   "cell_type": "code",
   "execution_count": null,
   "metadata": {
    "collapsed": true
   },
   "outputs": [],
   "source": [
    "http://192.168.99.100:8000"
   ]
  },
  {
   "cell_type": "markdown",
   "metadata": {},
   "source": [
    "<img src=\"figures/cap22.png\" width=600 />"
   ]
  },
  {
   "cell_type": "markdown",
   "metadata": {},
   "source": [
    "#### 어드민 페이지로 이동해보자"
   ]
  },
  {
   "cell_type": "markdown",
   "metadata": {},
   "source": [
    "* 아래의 문구를 클릭"
   ]
  },
  {
   "cell_type": "code",
   "execution_count": null,
   "metadata": {
    "collapsed": true
   },
   "outputs": [],
   "source": [
    "Log in to the admin interface"
   ]
  },
  {
   "cell_type": "markdown",
   "metadata": {},
   "source": [
    "<img src=\"figures/cap23.png\" width=600 />"
   ]
  },
  {
   "cell_type": "markdown",
   "metadata": {},
   "source": [
    "* 관리자 페이지 로그인 화면이 나온다. 아까 생성시 입력했던 아이디와 비번을 입력"
   ]
  },
  {
   "cell_type": "code",
   "execution_count": null,
   "metadata": {
    "collapsed": true
   },
   "outputs": [],
   "source": [
    "test / 1234"
   ]
  },
  {
   "cell_type": "markdown",
   "metadata": {},
   "source": [
    "<img src=\"figures/cap24.png\" width=600 />"
   ]
  },
  {
   "cell_type": "markdown",
   "metadata": {
    "collapsed": true
   },
   "source": [
    "* 워드프레스 관리자 페이지와 비슷하다(벤치마킹했음)"
   ]
  },
  {
   "cell_type": "markdown",
   "metadata": {},
   "source": [
    "<img src=\"figures/cap25.png\" width=600 />"
   ]
  },
  {
   "cell_type": "markdown",
   "metadata": {},
   "source": [
    "# 팁 : 프로젝트 종료, docker 빠져나오기, 다시 프로젝트 실행시키기 [7,8]"
   ]
  },
  {
   "cell_type": "markdown",
   "metadata": {},
   "source": [
    "### 프로젝트 종료, docker 빠져나오기"
   ]
  },
  {
   "cell_type": "markdown",
   "metadata": {},
   "source": [
    "* 서버를 종료한다"
   ]
  },
  {
   "cell_type": "code",
   "execution_count": null,
   "metadata": {
    "collapsed": true
   },
   "outputs": [],
   "source": [
    "^c  # 컨트톨 c"
   ]
  },
  {
   "cell_type": "markdown",
   "metadata": {},
   "source": [
    "<img src=\"figures/cap26.png\" width=600 />"
   ]
  },
  {
   "cell_type": "markdown",
   "metadata": {},
   "source": [
    "* docker 컨테이너에서 빠져나온다"
   ]
  },
  {
   "cell_type": "code",
   "execution_count": null,
   "metadata": {
    "collapsed": true
   },
   "outputs": [],
   "source": [
    "exit"
   ]
  },
  {
   "cell_type": "markdown",
   "metadata": {},
   "source": [
    "<img src=\"figures/cap27.png\" width=600 />"
   ]
  },
  {
   "cell_type": "markdown",
   "metadata": {},
   "source": [
    "## 다시 프로젝트 실행시키기 "
   ]
  },
  {
   "cell_type": "markdown",
   "metadata": {},
   "source": [
    "* docker toolbok의 터미널 실행\n",
    "* docker ps라고 치면 현재 실행되고 있는 docker 컨테이너들을 볼 수 있다.\n",
    "* docker ps -a라고 치면 종료된 컨테이너들까지 볼 수 있다.\n",
    "* 지금까지 이 문서를 쭉 따라왔다면 hello_shop 이라는 이름(정보 맨 끝에 있음)의 컨테이너는 종료된 상태다.\n",
    "* 그럼 아래와 같은 순서로 다시 실행, 진입, 서버 실행을 하면 된다."
   ]
  },
  {
   "cell_type": "code",
   "execution_count": null,
   "metadata": {
    "collapsed": true
   },
   "outputs": [],
   "source": [
    "docker start hello_shop    # hello_shop 컨테이너 실행\n",
    "docker attach hello_shop  # hello_shop 컨테이너 안으로 들어간다.\n",
    "ls  # 현재 디렉토리를 살펴보자\n",
    "cd new_cartridge_project  # 프로젝트 폴더 안으로 이동한다.\n",
    "python manage.py runserver 0.0.0.0:8000  # 서버를 실행시킨다."
   ]
  },
  {
   "cell_type": "markdown",
   "metadata": {},
   "source": [
    "<img src=\"figures/cap28.png\" width=600 />"
   ]
  },
  {
   "cell_type": "markdown",
   "metadata": {},
   "source": [
    "<img src=\"figures/cap29.png\" width=600 />"
   ]
  },
  {
   "cell_type": "markdown",
   "metadata": {},
   "source": [
    "# 참고자료"
   ]
  },
  {
   "cell_type": "markdown",
   "metadata": {},
   "source": [
    "* [1] Ecommerce in the Django World - http://blog.endpoint.com/2014/12/ecommerce-in-django-world.html\n",
    "* [2] mezzanine 공식 사이트 - http://mezzanine.jupo.org/\n",
    "* [3] cartridge 공식 사이트 - http://cartridge.jupo.org/\n",
    "* [4] mezzanine github - https://github.com/SpisTresci/mezzanine\n",
    "* [5] docker toolbox - https://www.docker.com/toolbox\n",
    "* [6] 가장 빨리 만나는 Docker 4장 - 2. Dockerfile 작성하기 - http://pyrasis.com/book/DockerForTheReallyImpatient/Chapter04/02 \n",
    "* [7] 도커(Docker) 튜토리얼 : 깐 김에 배포까지 - http://blog.nacyot.com/articles/2014-01-27-easy-deploy-with-docker/    \n",
    "* [8] Docker 기본 사용법 - http://pyrasis.com/Docker/Docker-HOWTO#section-9\n",
    "* [9] Linux 개발환경 - vim 사용법 - http://www.morenice.kr/25"
   ]
  }
 ],
 "metadata": {
  "kernelspec": {
   "display_name": "Python 2",
   "language": "python",
   "name": "python2"
  },
  "language_info": {
   "codemirror_mode": {
    "name": "ipython",
    "version": 2
   },
   "file_extension": ".py",
   "mimetype": "text/x-python",
   "name": "python",
   "nbconvert_exporter": "python",
   "pygments_lexer": "ipython2",
   "version": "2.7.3"
  }
 },
 "nbformat": 4,
 "nbformat_minor": 0
}
