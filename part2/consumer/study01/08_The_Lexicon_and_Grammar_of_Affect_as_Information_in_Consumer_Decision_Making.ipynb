{
 "cells": [
  {
   "cell_type": "markdown",
   "metadata": {},
   "source": [
    "# 8. The Lexicon and Grammar of Affect as Information in Consumer Decision Making: The GAIM"
   ]
  },
  {
   "cell_type": "markdown",
   "metadata": {},
   "source": [
    "* 싸이지먼트 / 소비자On - 소비자심리 파트 / ch.8 [1]\n",
    "* 김무성"
   ]
  },
  {
   "cell_type": "markdown",
   "metadata": {},
   "source": [
    "# Contents"
   ]
  },
  {
   "cell_type": "markdown",
   "metadata": {},
   "source": [
    "* The Lexicon of Feelings as Information\n",
    "    - “How Do I Feel about It?”—Feelings as Information about Value\n",
    "    - “How Strongly Do I Feel about It?”—Feelings as Information about the Strength of Preference\n",
    "    - “How Scary Does It Feel?”—Feelings as Information about Risk\n",
    "    - “How Certain Do I Feel about It?”—Feelings as Information about Conviction\n",
    "    - “How Serious Does It Feel?”—Feelings as Information about Situational Demands\n",
    "    - “What Would I Feel Better about?” and “What Do I Feel Like Doing?”—Feelings as Motivational Information\n",
    "* The Grammar of Feelings as Information\n",
    "    - The Necessity and Sufficiency of Feelings\n",
    "    - The Relative Accessibility of Feelings\n",
    "    - The Relative Diagnosticity of Feelings\n",
    "        - Diagnosticity as Representativeness \n",
    "        - Diagnosticity as Relevance\n",
    "        - Diagnosticity as Predictive Validity\n",
    "        - Diagnosticity as Convergent Validity\n",
    "    - On the Imagery Boundedness of Seeing How It Feels\n",
    "    - Query and Response-Mapping Dependency\n",
    "        - Query Dependency\n",
    "        - Response-Mapping Dependency\n",
    "        - Situational Engagement of the Affective System\n",
    "* GAIM: A Generalized Affect-as-Information Model of Judgment"
   ]
  },
  {
   "cell_type": "markdown",
   "metadata": {},
   "source": [
    "# GAIM: A Generalized Affect-as-Information Model of Judgment"
   ]
  },
  {
   "cell_type": "markdown",
   "metadata": {},
   "source": [
    "<img src=\"figures/fig8.1.png\" width=600 />"
   ]
  },
  {
   "cell_type": "markdown",
   "metadata": {},
   "source": [
    "# 참고자료"
   ]
  },
  {
   "cell_type": "markdown",
   "metadata": {},
   "source": [
    "* [1] Social Psychology of Consumer Behavior - http://www.amazon.com/Social-Psychology-Consumer-Behavior-Frontiers/dp/1841694983"
   ]
  }
 ],
 "metadata": {
  "kernelspec": {
   "display_name": "Python 2",
   "language": "python",
   "name": "python2"
  },
  "language_info": {
   "codemirror_mode": {
    "name": "ipython",
    "version": 2
   },
   "file_extension": ".py",
   "mimetype": "text/x-python",
   "name": "python",
   "nbconvert_exporter": "python",
   "pygments_lexer": "ipython2",
   "version": "2.7.3"
  }
 },
 "nbformat": 4,
 "nbformat_minor": 0
}
